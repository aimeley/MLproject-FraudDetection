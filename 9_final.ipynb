{
 "cells": [
  {
   "cell_type": "markdown",
   "id": "a56295cf",
   "metadata": {},
   "source": [
    "## Features:\n",
    "\n",
    "### Client:\n",
    "\n",
    "- Client_id: Unique id for client\n",
    "- District: District where the client is\n",
    "- Client_catg: Category client belongs to\n",
    "- Region: Area where the client is\n",
    "- Creation_date: Date client joined\n",
    "- Target: fraud:1 , not fraud: 0\n",
    "\n",
    "\n",
    "### Invoice data\n",
    "\n",
    "- Client_id: Unique id for the client\n",
    "- Invoice_date: Date of the invoice\n",
    "- Tarif_type: Type of tax\n",
    "- Counter_number:\n",
    "- Counter_statue: takes up to 5 values such as working fine, not working, on hold statue, ect\n",
    "- Counter_code:\n",
    "- Reading_remarque: notes that the STEG agent takes during his visit to the client (e.g: If the counter shows something wrong, the agent gives a bad score)\n",
    "- Counter_coefficient: An additional coefficient to be added when standard consumption is exceeded\n",
    "- Consommation_level_1: Consumption_level_1\n",
    "- Consommation_level_2: Consumption_level_2\n",
    "- Consommation_level_3: Consumption_level_3\n",
    "- Consommation_level_4: Consumption_level_4\n",
    "- Old_index: Old index\n",
    "- New_index: New index\n",
    "- Months_number: Month number\n",
    "- Counter_type: Type of counter\n"
   ]
  },
  {
   "cell_type": "code",
   "execution_count": 2,
   "id": "858f48bd",
   "metadata": {},
   "outputs": [],
   "source": [
    "import numpy as np, pandas as pd\n",
    "import matplotlib.pyplot as plt\n",
    "import seaborn as sns\n",
    "\n",
    "from sklearn.metrics import f1_score, roc_auc_score, accuracy_score, classification_report\n",
    "from sklearn.metrics import fbeta_score, confusion_matrix, recall_score, precision_score\n",
    "from sklearn.metrics import make_scorer\n",
    "\n",
    "from sklearn.model_selection import train_test_split, cross_val_predict, cross_val_score\n",
    "\n",
    "from sklearn.preprocessing import OrdinalEncoder\n",
    "from imblearn.over_sampling import SMOTENC\n",
    "\n",
    "from sklearn.tree import DecisionTreeClassifier\n",
    "from sklearn.ensemble import RandomForestClassifier\n",
    "\n",
    "from sklearn.model_selection import GridSearchCV, RandomizedSearchCV"
   ]
  },
  {
   "cell_type": "code",
   "execution_count": 3,
   "id": "eb2b1882",
   "metadata": {},
   "outputs": [],
   "source": [
    "from warnings import filterwarnings\n",
    "filterwarnings('ignore')"
   ]
  },
  {
   "cell_type": "code",
   "execution_count": 5,
   "id": "882f4079",
   "metadata": {},
   "outputs": [],
   "source": [
    "path1 = \"data/train/client_train.csv\"\n",
    "path2 = \"data/train/invoice_train.csv\"\n",
    "\n",
    "path3 = \"data/test/client_test.csv\"\n",
    "path4 = \"data/test/invoice_test.csv\""
   ]
  },
  {
   "cell_type": "code",
   "execution_count": 9,
   "id": "f6746538",
   "metadata": {},
   "outputs": [],
   "source": [
    "# load the data\n",
    "\n",
    "df1 = pd.read_csv(path1)\n",
    "df2 = pd.read_csv(path2, low_memory=False)     # low_memory=False\n",
    "\n",
    "df3 = pd.read_csv(path3)\n",
    "df4 = pd.read_csv(path4)"
   ]
  },
  {
   "cell_type": "code",
   "execution_count": 10,
   "id": "01588cb6",
   "metadata": {},
   "outputs": [],
   "source": [
    "# join tables\n",
    "\n",
    "# data from the \"train\" folder (will have to be split into train/test)\n",
    "df_entire = df1.merge(df2, left_on='client_id', right_on='client_id', how='outer')\n",
    "\n",
    "# data from the \"test\" folder (doesn't contain targets)\n",
    "df_test_zindi = df3.merge(df4, left_on='client_id', right_on='client_id', how='outer')\n"
   ]
  },
  {
   "cell_type": "markdown",
   "id": "1b50c5b9",
   "metadata": {},
   "source": [
    "## Preprocess the data / feature engineering"
   ]
  },
  {
   "cell_type": "code",
   "execution_count": 4,
   "id": "76bb87f7",
   "metadata": {},
   "outputs": [],
   "source": [
    "# feature preprocessing functions\n",
    "\n",
    "def preprocess(feature, data):\n",
    "    functions = {'counter_statue': preprocess_counter_statue}\n",
    "    feature = feature if type(feature) is str else data.name if type(data) is pd.Series else data.columns[feature]\n",
    "    function = functions[feature]\n",
    "    return function(data)\n",
    "\n",
    "    \n",
    "# preprocess 'counter_statue'\n",
    "def preprocess_counter_statue(data):\n",
    "    col = 'counter_statue'\n",
    "    sr = data[col].astype(str)\n",
    "    mask = sr.isin(list(\"012345\"))\n",
    "    sr[~mask] = sr[mask].mode().values[0]\n",
    "    data[col] = sr.astype(int)\n"
   ]
  },
  {
   "cell_type": "code",
   "execution_count": 11,
   "id": "ce0a0b76",
   "metadata": {},
   "outputs": [],
   "source": [
    "# converts all values to int, fills bad values with the mode\n",
    "preprocess('counter_statue', df_entire)"
   ]
  },
  {
   "cell_type": "code",
   "execution_count": 12,
   "id": "d4b85a77",
   "metadata": {},
   "outputs": [],
   "source": [
    "# feature engineering \n",
    "\n",
    "df_entire['year_created'] = pd.to_datetime(df_entire['creation_date'],\n",
    "                                           format=\"%d/%m/%Y\").dt.year\n",
    "dates = pd.to_datetime(df_entire['invoice_date'])\n",
    "df_entire['invoice_year'] = dates.dt.year\n",
    "df_entire['invoice_month'] = dates.dt.month\n",
    "df_entire['invoice_weekday'] = dates.dt.weekday"
   ]
  },
  {
   "cell_type": "code",
   "execution_count": 13,
   "id": "ecd00507",
   "metadata": {},
   "outputs": [],
   "source": [
    "# drop the observations before 2005\n",
    "\n",
    "YEAR = 2005\n",
    "df_entire.drop(df_entire.index[df_entire['invoice_year'] < YEAR], axis=0, inplace=True)\n",
    "\n",
    "# reset index\n",
    "df_entire.reset_index(drop=True, inplace=True)"
   ]
  },
  {
   "cell_type": "code",
   "execution_count": 14,
   "id": "0b13e436",
   "metadata": {},
   "outputs": [],
   "source": [
    "# enlabel 'counter_type'\n",
    "\n",
    "df_entire['counter_type'], _ = pd.factorize(df_entire['counter_type'])"
   ]
  },
  {
   "cell_type": "code",
   "execution_count": 15,
   "id": "5cf13280",
   "metadata": {},
   "outputs": [],
   "source": [
    "# drop these columns\n",
    "\n",
    "cols = [\n",
    "    'disrict', 'creation_date', 'invoice_date', 'old_index',  # drop\n",
    "    'client_id', 'months_number',                             # maybe keep?\n",
    "    'client_catg', 'counter_statue', 'reading_remarque', 'counter_coefficient','counter_type'\n",
    "        ]\n",
    "\n",
    "df_entire.drop(cols, axis=1, inplace=True)"
   ]
  },
  {
   "cell_type": "markdown",
   "id": "704da15c",
   "metadata": {},
   "source": [
    "## Separate X, y"
   ]
  },
  {
   "cell_type": "code",
   "execution_count": 16,
   "id": "ac5471bc",
   "metadata": {},
   "outputs": [],
   "source": [
    "y_entire = df_entire.pop('target')"
   ]
  },
  {
   "cell_type": "markdown",
   "id": "9ed2b9e9",
   "metadata": {},
   "source": [
    "## Encode (for upcoming upsampling with SMOTE)"
   ]
  },
  {
   "cell_type": "code",
   "execution_count": 17,
   "id": "0686fc27",
   "metadata": {},
   "outputs": [],
   "source": [
    "categoricals = [col for col in df_entire.columns if df_entire[col].nunique() < 20]\n",
    "non_cats = [col for col in df_entire.columns if df_entire[col].nunique() >= 20]\n",
    "\n",
    "nd_cats_encoded = OrdinalEncoder().fit_transform(df_entire[categoricals]).astype(int)"
   ]
  },
  {
   "cell_type": "code",
   "execution_count": 18,
   "id": "f89b3d16",
   "metadata": {},
   "outputs": [
    {
     "data": {
      "text/html": [
       "<div>\n",
       "<style scoped>\n",
       "    .dataframe tbody tr th:only-of-type {\n",
       "        vertical-align: middle;\n",
       "    }\n",
       "\n",
       "    .dataframe tbody tr th {\n",
       "        vertical-align: top;\n",
       "    }\n",
       "\n",
       "    .dataframe thead th {\n",
       "        text-align: right;\n",
       "    }\n",
       "</style>\n",
       "<table border=\"1\" class=\"dataframe\">\n",
       "  <thead>\n",
       "    <tr style=\"text-align: right;\">\n",
       "      <th></th>\n",
       "      <th>tarif_type</th>\n",
       "      <th>invoice_year</th>\n",
       "      <th>invoice_month</th>\n",
       "      <th>invoice_weekday</th>\n",
       "      <th>region</th>\n",
       "      <th>counter_number</th>\n",
       "      <th>counter_code</th>\n",
       "      <th>consommation_level_1</th>\n",
       "      <th>consommation_level_2</th>\n",
       "      <th>consommation_level_3</th>\n",
       "      <th>consommation_level_4</th>\n",
       "      <th>new_index</th>\n",
       "      <th>year_created</th>\n",
       "    </tr>\n",
       "  </thead>\n",
       "  <tbody>\n",
       "    <tr>\n",
       "      <th>0</th>\n",
       "      <td>3</td>\n",
       "      <td>9</td>\n",
       "      <td>2</td>\n",
       "      <td>0</td>\n",
       "      <td>101</td>\n",
       "      <td>1335667</td>\n",
       "      <td>203</td>\n",
       "      <td>82</td>\n",
       "      <td>0</td>\n",
       "      <td>0</td>\n",
       "      <td>0</td>\n",
       "      <td>14384</td>\n",
       "      <td>1994</td>\n",
       "    </tr>\n",
       "    <tr>\n",
       "      <th>1</th>\n",
       "      <td>3</td>\n",
       "      <td>8</td>\n",
       "      <td>2</td>\n",
       "      <td>4</td>\n",
       "      <td>101</td>\n",
       "      <td>1335667</td>\n",
       "      <td>203</td>\n",
       "      <td>1200</td>\n",
       "      <td>184</td>\n",
       "      <td>0</td>\n",
       "      <td>0</td>\n",
       "      <td>13678</td>\n",
       "      <td>1994</td>\n",
       "    </tr>\n",
       "    <tr>\n",
       "      <th>2</th>\n",
       "      <td>3</td>\n",
       "      <td>10</td>\n",
       "      <td>2</td>\n",
       "      <td>0</td>\n",
       "      <td>101</td>\n",
       "      <td>1335667</td>\n",
       "      <td>203</td>\n",
       "      <td>123</td>\n",
       "      <td>0</td>\n",
       "      <td>0</td>\n",
       "      <td>0</td>\n",
       "      <td>14747</td>\n",
       "      <td>1994</td>\n",
       "    </tr>\n",
       "    <tr>\n",
       "      <th>3</th>\n",
       "      <td>3</td>\n",
       "      <td>10</td>\n",
       "      <td>6</td>\n",
       "      <td>0</td>\n",
       "      <td>101</td>\n",
       "      <td>1335667</td>\n",
       "      <td>207</td>\n",
       "      <td>102</td>\n",
       "      <td>0</td>\n",
       "      <td>0</td>\n",
       "      <td>0</td>\n",
       "      <td>14849</td>\n",
       "      <td>1994</td>\n",
       "    </tr>\n",
       "    <tr>\n",
       "      <th>4</th>\n",
       "      <td>3</td>\n",
       "      <td>11</td>\n",
       "      <td>10</td>\n",
       "      <td>3</td>\n",
       "      <td>101</td>\n",
       "      <td>1335667</td>\n",
       "      <td>207</td>\n",
       "      <td>572</td>\n",
       "      <td>0</td>\n",
       "      <td>0</td>\n",
       "      <td>0</td>\n",
       "      <td>15638</td>\n",
       "      <td>1994</td>\n",
       "    </tr>\n",
       "  </tbody>\n",
       "</table>\n",
       "</div>"
      ],
      "text/plain": [
       "   tarif_type  invoice_year  invoice_month  invoice_weekday  region  \\\n",
       "0           3             9              2                0     101   \n",
       "1           3             8              2                4     101   \n",
       "2           3            10              2                0     101   \n",
       "3           3            10              6                0     101   \n",
       "4           3            11             10                3     101   \n",
       "\n",
       "   counter_number  counter_code  consommation_level_1  consommation_level_2  \\\n",
       "0         1335667           203                    82                     0   \n",
       "1         1335667           203                  1200                   184   \n",
       "2         1335667           203                   123                     0   \n",
       "3         1335667           207                   102                     0   \n",
       "4         1335667           207                   572                     0   \n",
       "\n",
       "   consommation_level_3  consommation_level_4  new_index  year_created  \n",
       "0                     0                     0      14384          1994  \n",
       "1                     0                     0      13678          1994  \n",
       "2                     0                     0      14747          1994  \n",
       "3                     0                     0      14849          1994  \n",
       "4                     0                     0      15638          1994  "
      ]
     },
     "execution_count": 18,
     "metadata": {},
     "output_type": "execute_result"
    }
   ],
   "source": [
    "df_entire = pd.concat([pd.DataFrame(nd_cats_encoded, \n",
    "                                           columns=categoricals,\n",
    "                                          index=df_entire.index), \n",
    "                              df_entire[non_cats]], axis=1)\n",
    "\n",
    "df_entire.head()"
   ]
  },
  {
   "cell_type": "markdown",
   "id": "b427f20c",
   "metadata": {},
   "source": [
    "## Split the data"
   ]
  },
  {
   "cell_type": "code",
   "execution_count": 19,
   "id": "ec581121",
   "metadata": {},
   "outputs": [],
   "source": [
    "df_train, df_test, y_train, y_test = train_test_split(df_entire, y_entire, \n",
    "                                                      test_size=0.2, stratify=y_entire)\n",
    "#X_train = df_train.values\n",
    "#X_test = df_test.values\n",
    "#y_train = y_train.values\n",
    "#y_test = y_test.values"
   ]
  },
  {
   "cell_type": "markdown",
   "id": "2de7725b",
   "metadata": {},
   "source": [
    "## Upsample data with SMOTE"
   ]
  },
  {
   "cell_type": "code",
   "execution_count": null,
   "id": "0b1c09ba",
   "metadata": {},
   "outputs": [],
   "source": [
    "# run the upsampling procedure or load upsampled data from disk?\n",
    "UPSAMPLE = False  # False if you have run this already and saved upsampled data on sick"
   ]
  },
  {
   "cell_type": "code",
   "execution_count": 20,
   "id": "a18b9a87",
   "metadata": {},
   "outputs": [],
   "source": [
    "train_encoded_path = \"data/train/train_encoded.csv\"\n",
    "test_encoded_path = \"data/test/test_encoded.csv\""
   ]
  },
  {
   "cell_type": "code",
   "execution_count": 19,
   "id": "104c943d",
   "metadata": {},
   "outputs": [
    {
     "data": {
      "text/html": [
       "<div>\n",
       "<style scoped>\n",
       "    .dataframe tbody tr th:only-of-type {\n",
       "        vertical-align: middle;\n",
       "    }\n",
       "\n",
       "    .dataframe tbody tr th {\n",
       "        vertical-align: top;\n",
       "    }\n",
       "\n",
       "    .dataframe thead th {\n",
       "        text-align: right;\n",
       "    }\n",
       "</style>\n",
       "<table border=\"1\" class=\"dataframe\">\n",
       "  <thead>\n",
       "    <tr style=\"text-align: right;\">\n",
       "      <th></th>\n",
       "      <th>tarif_type</th>\n",
       "      <th>invoice_year</th>\n",
       "      <th>invoice_month</th>\n",
       "      <th>invoice_weekday</th>\n",
       "      <th>region</th>\n",
       "      <th>counter_number</th>\n",
       "      <th>counter_code</th>\n",
       "      <th>consommation_level_1</th>\n",
       "      <th>consommation_level_2</th>\n",
       "      <th>consommation_level_3</th>\n",
       "      <th>consommation_level_4</th>\n",
       "      <th>new_index</th>\n",
       "      <th>year_created</th>\n",
       "    </tr>\n",
       "  </thead>\n",
       "  <tbody>\n",
       "    <tr>\n",
       "      <th>6233686</th>\n",
       "      <td>13</td>\n",
       "      <td>1</td>\n",
       "      <td>4</td>\n",
       "      <td>0</td>\n",
       "      <td>311</td>\n",
       "      <td>8713</td>\n",
       "      <td>5</td>\n",
       "      <td>68</td>\n",
       "      <td>0</td>\n",
       "      <td>0</td>\n",
       "      <td>0</td>\n",
       "      <td>1914</td>\n",
       "      <td>1997</td>\n",
       "    </tr>\n",
       "    <tr>\n",
       "      <th>6233687</th>\n",
       "      <td>3</td>\n",
       "      <td>4</td>\n",
       "      <td>4</td>\n",
       "      <td>0</td>\n",
       "      <td>177</td>\n",
       "      <td>631260</td>\n",
       "      <td>203</td>\n",
       "      <td>837</td>\n",
       "      <td>248</td>\n",
       "      <td>497</td>\n",
       "      <td>388</td>\n",
       "      <td>64668</td>\n",
       "      <td>1996</td>\n",
       "    </tr>\n",
       "    <tr>\n",
       "      <th>6233688</th>\n",
       "      <td>3</td>\n",
       "      <td>10</td>\n",
       "      <td>6</td>\n",
       "      <td>0</td>\n",
       "      <td>281</td>\n",
       "      <td>550985</td>\n",
       "      <td>203</td>\n",
       "      <td>533</td>\n",
       "      <td>10</td>\n",
       "      <td>0</td>\n",
       "      <td>0</td>\n",
       "      <td>8919</td>\n",
       "      <td>2001</td>\n",
       "    </tr>\n",
       "    <tr>\n",
       "      <th>6233689</th>\n",
       "      <td>3</td>\n",
       "      <td>11</td>\n",
       "      <td>3</td>\n",
       "      <td>2</td>\n",
       "      <td>307</td>\n",
       "      <td>216663</td>\n",
       "      <td>203</td>\n",
       "      <td>419</td>\n",
       "      <td>0</td>\n",
       "      <td>0</td>\n",
       "      <td>0</td>\n",
       "      <td>4502</td>\n",
       "      <td>1995</td>\n",
       "    </tr>\n",
       "    <tr>\n",
       "      <th>6233690</th>\n",
       "      <td>3</td>\n",
       "      <td>9</td>\n",
       "      <td>3</td>\n",
       "      <td>4</td>\n",
       "      <td>332</td>\n",
       "      <td>921896</td>\n",
       "      <td>203</td>\n",
       "      <td>503</td>\n",
       "      <td>0</td>\n",
       "      <td>0</td>\n",
       "      <td>0</td>\n",
       "      <td>4104</td>\n",
       "      <td>1999</td>\n",
       "    </tr>\n",
       "  </tbody>\n",
       "</table>\n",
       "</div>"
      ],
      "text/plain": [
       "         tarif_type  invoice_year  invoice_month  invoice_weekday  region  \\\n",
       "6233686          13             1              4                0     311   \n",
       "6233687           3             4              4                0     177   \n",
       "6233688           3            10              6                0     281   \n",
       "6233689           3            11              3                2     307   \n",
       "6233690           3             9              3                4     332   \n",
       "\n",
       "         counter_number  counter_code  consommation_level_1  \\\n",
       "6233686            8713             5                    68   \n",
       "6233687          631260           203                   837   \n",
       "6233688          550985           203                   533   \n",
       "6233689          216663           203                   419   \n",
       "6233690          921896           203                   503   \n",
       "\n",
       "         consommation_level_2  consommation_level_3  consommation_level_4  \\\n",
       "6233686                     0                     0                     0   \n",
       "6233687                   248                   497                   388   \n",
       "6233688                    10                     0                     0   \n",
       "6233689                     0                     0                     0   \n",
       "6233690                     0                     0                     0   \n",
       "\n",
       "         new_index  year_created  \n",
       "6233686       1914          1997  \n",
       "6233687      64668          1996  \n",
       "6233688       8919          2001  \n",
       "6233689       4502          1995  \n",
       "6233690       4104          1999  "
      ]
     },
     "execution_count": 19,
     "metadata": {},
     "output_type": "execute_result"
    }
   ],
   "source": [
    "if UPSAMPLE:\n",
    "    sm = SMOTENC(categorical_features=list(range(len(categoricals))),\n",
    "                 k_neighbors=3,\n",
    "                sampling_strategy=0.9)\n",
    "\n",
    "    df_smote, y_smote = sm.fit_resample(df_train, y_train)"
   ]
  },
  {
   "cell_type": "code",
   "execution_count": 42,
   "id": "721eee65",
   "metadata": {},
   "outputs": [],
   "source": [
    "# save to csv\n",
    "\n",
    "if UPSAMPLE:\n",
    "    df_encoded_train_upsampled = pd.concat([df_smote, y_smote.astype(int)], axis=1)\n",
    "    df_encoded_train_upsampled.to_csv(train_encoded_path, header=True, index=False)\n",
    "\n",
    "    df_encoded_test = pd.concat([df_test, y_test.astype(int)], axis=1)\n",
    "    df_encoded_test.to_csv(test_encoded_path, header=True, index=False)"
   ]
  },
  {
   "cell_type": "code",
   "execution_count": 25,
   "id": "24a9dd68",
   "metadata": {},
   "outputs": [],
   "source": [
    "# load the data\n",
    "df_encoded_train_upsampled = pd.read_csv(train_encoded_path)\n",
    "df_encoded_test = pd.read_csv(test_encoded_path)"
   ]
  },
  {
   "cell_type": "code",
   "execution_count": 27,
   "id": "e8fe48fc",
   "metadata": {},
   "outputs": [],
   "source": [
    "# Provisionary  measure\n",
    "#df_encoded_train_upsampled.drop('Unnamed: 0', axis=1, inplace=True)\n",
    "#df_encoded_test.drop('Unnamed: 0', axis=1, inplace=True)"
   ]
  },
  {
   "cell_type": "code",
   "execution_count": 28,
   "id": "957041a3",
   "metadata": {},
   "outputs": [],
   "source": [
    "# split X,y\n",
    "y_train_upsample = df_encoded_train_upsampled.pop('target')\n",
    "df_train_upsample = df_encoded_train_upsampled\n",
    "\n",
    "y_test = df_encoded_test.pop('target')\n",
    "df_test = df_encoded_test"
   ]
  },
  {
   "cell_type": "code",
   "execution_count": 30,
   "id": "704af2bc",
   "metadata": {},
   "outputs": [],
   "source": [
    "# provisional measure  due to the saved smote data\n",
    "#df_train_upsample = df_train_upsample.iloc[:,:13]   \n",
    "#df_test = df_test.iloc[:, :13]"
   ]
  },
  {
   "cell_type": "code",
   "execution_count": 31,
   "id": "3882d866",
   "metadata": {},
   "outputs": [
    {
     "data": {
      "text/plain": [
       "((6233067, 13), (6233067, 13), (6233067,))"
      ]
     },
     "execution_count": 31,
     "metadata": {},
     "output_type": "execute_result"
    }
   ],
   "source": [
    "# take a small sample from the train set (optional)\n",
    "\n",
    "PORTION_FROM_UPSAMPLED_DATA = 0.9999   # 0.9999 = almost all the upsampled observations\n",
    "\n",
    "df_train, _, y_train, _ = train_test_split(df_train_upsample, y_train_upsample, \n",
    "            train_size=PORTION_FROM_UPSAMPLED_DATA, stratify=y_train_upsample)\n",
    "\n",
    "X_train, y_train = df_train.values, y_train.values\n",
    "\n",
    "X_train.shape, df_train.shape, y_train.shape"
   ]
  },
  {
   "cell_type": "markdown",
   "id": "0ad4c421",
   "metadata": {},
   "source": [
    "## Feature engineering"
   ]
  },
  {
   "cell_type": "code",
   "execution_count": 32,
   "id": "9d2ab553",
   "metadata": {},
   "outputs": [],
   "source": [
    "\n",
    "def feature_engineer(df):\n",
    "    df['ratio'] = (df['counter_number'] / df['region']).fillna(0).replace((-np.inf, np.inf), 0)\n",
    "    df['interaction'] = np.log( (df['counter_number'] * df['region']).fillna(0).replace((-np.inf, np.inf), 0)).fillna(0).replace((-np.inf, np.inf), 0)\n",
    "    return df"
   ]
  },
  {
   "cell_type": "code",
   "execution_count": 33,
   "id": "b184c4ce",
   "metadata": {},
   "outputs": [],
   "source": [
    "df_train = feature_engineer(df_train)\n",
    "df_test = feature_engineer(df_test)\n",
    "\n",
    "X_train = df_train.values\n",
    "X_test = df_test.values"
   ]
  },
  {
   "cell_type": "code",
   "execution_count": 37,
   "id": "bc6e797c",
   "metadata": {},
   "outputs": [],
   "source": [
    "def print_report(model, Xtrain, ytrain, Xtest, ytest):\n",
    "    print(\"Train set:\")\n",
    "    ypred = model.predict(Xtrain)\n",
    "    print(classification_report(ytrain, ypred))\n",
    "\n",
    "    print(\"Test set:\")\n",
    "    ypred = model.predict(Xtest)\n",
    "    print(classification_report(ytest, ypred))\n",
    "\n",
    "    probs = model.predict_proba(Xtest)[:,-1]\n",
    "    auc = roc_auc_score(ytest, probs)\n",
    "    print(\"AUC =\", auc.round(2))\n",
    "    print(confusion_matrix(ytest, ypred))\n",
    "    "
   ]
  },
  {
   "cell_type": "markdown",
   "id": "c71c85d4",
   "metadata": {},
   "source": [
    "## Fit a single Desicion Tree"
   ]
  },
  {
   "cell_type": "code",
   "execution_count": 41,
   "id": "4772aec0",
   "metadata": {},
   "outputs": [
    {
     "data": {
      "text/plain": [
       "counter_number          0.155252\n",
       "region                  0.151652\n",
       "ratio                   0.151206\n",
       "interaction             0.144448\n",
       "new_index               0.096039\n",
       "year_created            0.092097\n",
       "consommation_level_1    0.074388\n",
       "counter_code            0.050354\n",
       "invoice_year            0.030313\n",
       "consommation_level_2    0.015549\n",
       "invoice_month           0.012590\n",
       "tarif_type              0.012581\n",
       "invoice_weekday         0.007872\n",
       "consommation_level_3    0.003743\n",
       "consommation_level_4    0.001916\n",
       "dtype: float64"
      ]
     },
     "execution_count": 41,
     "metadata": {},
     "output_type": "execute_result"
    }
   ],
   "source": [
    "from sklearn.tree import DecisionTreeClassifier\n",
    "\n",
    "md = DecisionTreeClassifier(max_depth=70)   # 70 = grid search result\n",
    "md.fit(X_train, y_train)\n",
    "\n",
    "pd.Series(md.feature_importances_, index=df_train.columns).sort_values(ascending=False)"
   ]
  },
  {
   "cell_type": "code",
   "execution_count": 42,
   "id": "8476eaeb",
   "metadata": {},
   "outputs": [
    {
     "name": "stdout",
     "output_type": "stream",
     "text": [
      "Train set:\n",
      "              precision    recall  f1-score   support\n",
      "\n",
      "           0       1.00      1.00      1.00   3280562\n",
      "           1       1.00      1.00      1.00   2952505\n",
      "\n",
      "    accuracy                           1.00   6233067\n",
      "   macro avg       1.00      1.00      1.00   6233067\n",
      "weighted avg       1.00      1.00      1.00   6233067\n",
      "\n",
      "Test set:\n",
      "              precision    recall  f1-score   support\n",
      "\n",
      "           0       0.98      0.96      0.97    820306\n",
      "           1       0.65      0.82      0.73     70622\n",
      "\n",
      "    accuracy                           0.95    890928\n",
      "   macro avg       0.82      0.89      0.85    890928\n",
      "weighted avg       0.96      0.95      0.95    890928\n",
      "\n",
      "AUC = 0.89\n",
      "[[789880  30426]\n",
      " [ 12987  57635]]\n"
     ]
    }
   ],
   "source": [
    "print_report(md, X_train, y_train, df_test, y_test)"
   ]
  },
  {
   "cell_type": "code",
   "execution_count": null,
   "id": "fcaa20f3",
   "metadata": {},
   "outputs": [],
   "source": [
    "# 0.65      0.82      0.73     0.89. (with engin feats, 70)"
   ]
  },
  {
   "cell_type": "code",
   "execution_count": null,
   "id": "e4abccab",
   "metadata": {},
   "outputs": [],
   "source": [
    "# 0.59      0.81      0.68    0.89    (with engin fetas, 40 depth)"
   ]
  },
  {
   "cell_type": "code",
   "execution_count": null,
   "id": "007a5b63",
   "metadata": {},
   "outputs": [],
   "source": [
    "# 0.63      0.80      0.71     0.88. (no engin feats, depth=70)"
   ]
  },
  {
   "cell_type": "code",
   "execution_count": null,
   "id": "f5e98452",
   "metadata": {},
   "outputs": [],
   "source": [
    "# 0.84      0.79      0.81     0.98. (random f, engin feats, 25 est)       "
   ]
  },
  {
   "cell_type": "markdown",
   "id": "38921a82",
   "metadata": {},
   "source": [
    "## Fit a random forest"
   ]
  },
  {
   "cell_type": "code",
   "execution_count": 46,
   "id": "3eb1cb4f",
   "metadata": {},
   "outputs": [
    {
     "data": {
      "text/plain": [
       "counter_number          0.145563\n",
       "ratio                   0.144313\n",
       "interaction             0.142769\n",
       "region                  0.124144\n",
       "new_index               0.091114\n",
       "year_created            0.088620\n",
       "consommation_level_1    0.081906\n",
       "counter_code            0.047769\n",
       "invoice_year            0.040571\n",
       "invoice_month           0.026413\n",
       "consommation_level_2    0.022839\n",
       "invoice_weekday         0.019229\n",
       "tarif_type              0.012397\n",
       "consommation_level_3    0.008151\n",
       "consommation_level_4    0.004202\n",
       "dtype: float64"
      ]
     },
     "execution_count": 46,
     "metadata": {},
     "output_type": "execute_result"
    }
   ],
   "source": [
    "md = RandomForestClassifier(n_estimators=100, criterion='gini')\n",
    "md.fit(X_train, y_train)\n",
    "\n",
    "pd.Series(md.feature_importances_, index=df_train.columns).sort_values(ascending=False)"
   ]
  },
  {
   "cell_type": "code",
   "execution_count": 47,
   "id": "8d2c7660",
   "metadata": {},
   "outputs": [
    {
     "name": "stdout",
     "output_type": "stream",
     "text": [
      "Train set:\n",
      "              precision    recall  f1-score   support\n",
      "\n",
      "           0       1.00      1.00      1.00   3280562\n",
      "           1       1.00      1.00      1.00   2952505\n",
      "\n",
      "    accuracy                           1.00   6233067\n",
      "   macro avg       1.00      1.00      1.00   6233067\n",
      "weighted avg       1.00      1.00      1.00   6233067\n",
      "\n",
      "Test set:\n",
      "              precision    recall  f1-score   support\n",
      "\n",
      "           0       0.98      0.99      0.99    820306\n",
      "           1       0.87      0.78      0.82     70622\n",
      "\n",
      "    accuracy                           0.97    890928\n",
      "   macro avg       0.92      0.89      0.90    890928\n",
      "weighted avg       0.97      0.97      0.97    890928\n",
      "\n",
      "AUC = 0.98\n",
      "[[811902   8404]\n",
      " [ 15244  55378]]\n"
     ]
    }
   ],
   "source": [
    "print_report(md, X_train, y_train, df_test, y_test)"
   ]
  },
  {
   "cell_type": "code",
   "execution_count": null,
   "id": "13d2e3cb",
   "metadata": {},
   "outputs": [],
   "source": [
    "#. 0.84      0.79      0.81   0.98    25 estimators"
   ]
  },
  {
   "cell_type": "code",
   "execution_count": null,
   "id": "dee69483",
   "metadata": {},
   "outputs": [],
   "source": [
    "#  0.87      0.78      0.82   0.98.   50 est"
   ]
  },
  {
   "cell_type": "code",
   "execution_count": null,
   "id": "075cf412",
   "metadata": {},
   "outputs": [],
   "source": []
  },
  {
   "cell_type": "code",
   "execution_count": null,
   "id": "18cdd8f2",
   "metadata": {},
   "outputs": [],
   "source": []
  },
  {
   "cell_type": "code",
   "execution_count": null,
   "id": "73e8d696",
   "metadata": {},
   "outputs": [],
   "source": []
  },
  {
   "cell_type": "code",
   "execution_count": null,
   "id": "c6bd26e1",
   "metadata": {},
   "outputs": [],
   "source": []
  },
  {
   "cell_type": "code",
   "execution_count": null,
   "id": "76b759e6",
   "metadata": {},
   "outputs": [],
   "source": []
  },
  {
   "cell_type": "code",
   "execution_count": null,
   "id": "ce77e84f",
   "metadata": {},
   "outputs": [],
   "source": []
  },
  {
   "cell_type": "code",
   "execution_count": null,
   "id": "64f84650",
   "metadata": {},
   "outputs": [],
   "source": []
  },
  {
   "cell_type": "code",
   "execution_count": null,
   "id": "79378942",
   "metadata": {},
   "outputs": [],
   "source": []
  },
  {
   "cell_type": "code",
   "execution_count": null,
   "id": "5071f8aa",
   "metadata": {},
   "outputs": [],
   "source": []
  },
  {
   "cell_type": "code",
   "execution_count": null,
   "id": "b119fb4b",
   "metadata": {},
   "outputs": [],
   "source": []
  },
  {
   "cell_type": "code",
   "execution_count": null,
   "id": "2a3d97cc",
   "metadata": {},
   "outputs": [],
   "source": []
  },
  {
   "cell_type": "markdown",
   "id": "af47fc99",
   "metadata": {},
   "source": [
    "## Decision Tree (gird search for f1)"
   ]
  },
  {
   "cell_type": "code",
   "execution_count": null,
   "id": "a8ebcbc7",
   "metadata": {},
   "outputs": [],
   "source": [
    "N_ITER = 30 \n",
    "CV = 7"
   ]
  },
  {
   "cell_type": "code",
   "execution_count": 65,
   "id": "a5a78621",
   "metadata": {},
   "outputs": [],
   "source": [
    "md = DecisionTreeClassifier(criterion='gini')\n",
    "\n",
    "params = {'max_depth': [50, 70]}  # the best was NOne, try more than 60\n",
    "\n",
    "# TIMEIT!\n",
    "gs = GridSearchCV(md, params, cv=CV, scoring='f1').fit(X,y)"
   ]
  },
  {
   "cell_type": "code",
   "execution_count": 66,
   "id": "2fd5fcae",
   "metadata": {},
   "outputs": [
    {
     "name": "stdout",
     "output_type": "stream",
     "text": [
      "best params for desicion tree f1:\n",
      "{'max_depth': None}\n"
     ]
    }
   ],
   "source": [
    "best_tree = gs.best_estimator_\n",
    "\n",
    "best_params_f1 = gs.best_params_\n",
    "print(\"best params for desicion tree f1:\", best_params_f1, sep=\"\\n\")"
   ]
  },
  {
   "cell_type": "code",
   "execution_count": 67,
   "id": "69b318cc",
   "metadata": {},
   "outputs": [
    {
     "data": {
      "text/plain": [
       "counter_number          0.372326\n",
       "region                  0.163611\n",
       "year_created            0.089843\n",
       "consommation_level_1    0.077164\n",
       "interaction             0.056707\n",
       "new_index               0.052362\n",
       "counter_code            0.050505\n",
       "ratio                   0.050066\n",
       "invoice_year            0.030793\n",
       "consommation_level_2    0.016331\n",
       "invoice_month           0.013517\n",
       "tarif_type              0.012542\n",
       "invoice_weekday         0.008649\n",
       "consommation_level_3    0.003720\n",
       "consommation_level_4    0.001863\n",
       "dtype: float64"
      ]
     },
     "execution_count": 67,
     "metadata": {},
     "output_type": "execute_result"
    }
   ],
   "source": [
    "pd.Series(best_tree.feature_importances_, index=df.columns).sort_values(ascending=False)"
   ]
  },
  {
   "cell_type": "code",
   "execution_count": 68,
   "id": "58543103",
   "metadata": {},
   "outputs": [
    {
     "name": "stdout",
     "output_type": "stream",
     "text": [
      "Test set:\n",
      "              precision    recall  f1-score   support\n",
      "\n",
      "         0.0       0.98      0.96      0.97    820306\n",
      "         1.0       0.61      0.78      0.69     70622\n",
      "\n",
      "    accuracy                           0.94    890928\n",
      "   macro avg       0.80      0.87      0.83    890928\n",
      "weighted avg       0.95      0.94      0.95    890928\n",
      "\n",
      "AUC = 0.87\n"
     ]
    }
   ],
   "source": [
    "report(best_tree, df_test, y_test)"
   ]
  },
  {
   "cell_type": "markdown",
   "id": "b7c6d7ab",
   "metadata": {},
   "source": [
    "## Random Forest (grid search for f1)"
   ]
  },
  {
   "cell_type": "code",
   "execution_count": null,
   "id": "7819d40d",
   "metadata": {},
   "outputs": [],
   "source": [
    "md = RandomForestClassifier('n_estimators'=100, criterion='gini', bootstrap=True, oob_score=True)\n",
    "\n",
    "params = {\n",
    "          'max_depth': [None, 40, 60],\n",
    "          'min_samples_split': [2, 5],\n",
    "          'min_samples_leaf': [1, 3]}\n",
    "\n",
    "gs = GridSearchCV(md, params, cv=CV, scoring='f1').fit(X,y)\n"
   ]
  },
  {
   "cell_type": "code",
   "execution_count": null,
   "id": "6251f217",
   "metadata": {},
   "outputs": [],
   "source": [
    "best_rf = gs.best_estimator_\n",
    "\n",
    "best_params_f1 = gs.best_params_\n",
    "print(\"best params for random forest f1:\", best_params_f1, sep=\"\\n\")"
   ]
  },
  {
   "cell_type": "code",
   "execution_count": null,
   "id": "34605f59",
   "metadata": {},
   "outputs": [],
   "source": [
    "pd.Series(best_rf.feature_importances_, index=df.columns).sort_values(ascending=False)"
   ]
  },
  {
   "cell_type": "code",
   "execution_count": null,
   "id": "1135e3fa",
   "metadata": {},
   "outputs": [],
   "source": [
    "report(best_rf, df_test, y_test)"
   ]
  },
  {
   "cell_type": "code",
   "execution_count": null,
   "id": "a30b667f",
   "metadata": {},
   "outputs": [],
   "source": []
  },
  {
   "cell_type": "markdown",
   "id": "06699218",
   "metadata": {},
   "source": [
    "### Randomized Search"
   ]
  },
  {
   "cell_type": "code",
   "execution_count": 27,
   "id": "10d228d3",
   "metadata": {},
   "outputs": [
    {
     "ename": "KeyboardInterrupt",
     "evalue": "",
     "output_type": "error",
     "traceback": [
      "\u001b[0;31m---------------------------------------------------------------------------\u001b[0m",
      "\u001b[0;31mKeyboardInterrupt\u001b[0m                         Traceback (most recent call last)",
      "Cell \u001b[0;32mIn[27], line 8\u001b[0m\n\u001b[1;32m      1\u001b[0m md \u001b[38;5;241m=\u001b[39m DecisionTreeClassifier(criterion\u001b[38;5;241m=\u001b[39m\u001b[38;5;124m'\u001b[39m\u001b[38;5;124mgini\u001b[39m\u001b[38;5;124m'\u001b[39m)\n\u001b[1;32m      3\u001b[0m params \u001b[38;5;241m=\u001b[39m {\u001b[38;5;124m'\u001b[39m\u001b[38;5;124mcriterion\u001b[39m\u001b[38;5;124m'\u001b[39m: [\u001b[38;5;124m'\u001b[39m\u001b[38;5;124mgini\u001b[39m\u001b[38;5;124m'\u001b[39m, \u001b[38;5;124m'\u001b[39m\u001b[38;5;124mentropy\u001b[39m\u001b[38;5;124m'\u001b[39m, \u001b[38;5;124m'\u001b[39m\u001b[38;5;124mlog_loss\u001b[39m\u001b[38;5;124m'\u001b[39m],\n\u001b[1;32m      4\u001b[0m           \u001b[38;5;124m'\u001b[39m\u001b[38;5;124mmax_depth\u001b[39m\u001b[38;5;124m'\u001b[39m: np\u001b[38;5;241m.\u001b[39marange(\u001b[38;5;241m10\u001b[39m, \u001b[38;5;241m100\u001b[39m),\n\u001b[1;32m      5\u001b[0m           \u001b[38;5;124m'\u001b[39m\u001b[38;5;124mmin_samples_split\u001b[39m\u001b[38;5;124m'\u001b[39m: np\u001b[38;5;241m.\u001b[39marange(\u001b[38;5;241m2\u001b[39m, \u001b[38;5;241m9\u001b[39m),\n\u001b[1;32m      6\u001b[0m           \u001b[38;5;124m'\u001b[39m\u001b[38;5;124mmin_samples_leaf\u001b[39m\u001b[38;5;124m'\u001b[39m: np\u001b[38;5;241m.\u001b[39marange(\u001b[38;5;241m1\u001b[39m, \u001b[38;5;241m5\u001b[39m)}\n\u001b[0;32m----> 8\u001b[0m gs_f1 \u001b[38;5;241m=\u001b[39m \u001b[43mRandomizedSearchCV\u001b[49m\u001b[43m(\u001b[49m\u001b[43mmd\u001b[49m\u001b[43m,\u001b[49m\u001b[43m \u001b[49m\u001b[43mparams\u001b[49m\u001b[43m,\u001b[49m\u001b[43m \u001b[49m\u001b[43mcv\u001b[49m\u001b[38;5;241;43m=\u001b[39;49m\u001b[43mCV\u001b[49m\u001b[43m,\u001b[49m\u001b[43m \u001b[49m\u001b[43mscoring\u001b[49m\u001b[38;5;241;43m=\u001b[39;49m\u001b[38;5;124;43m'\u001b[39;49m\u001b[38;5;124;43mf1\u001b[39;49m\u001b[38;5;124;43m'\u001b[39;49m\u001b[43m,\u001b[49m\u001b[43m \u001b[49m\u001b[43mn_iter\u001b[49m\u001b[38;5;241;43m=\u001b[39;49m\u001b[43mN_ITER\u001b[49m\u001b[43m)\u001b[49m\u001b[38;5;241;43m.\u001b[39;49m\u001b[43mfit\u001b[49m\u001b[43m(\u001b[49m\u001b[43mX\u001b[49m\u001b[43m,\u001b[49m\u001b[43my\u001b[49m\u001b[43m)\u001b[49m\n\u001b[1;32m      9\u001b[0m gs_recall \u001b[38;5;241m=\u001b[39m RandomizedSearchCV(md, params, cv\u001b[38;5;241m=\u001b[39mCV, scoring\u001b[38;5;241m=\u001b[39m\u001b[38;5;124m'\u001b[39m\u001b[38;5;124mrecall\u001b[39m\u001b[38;5;124m'\u001b[39m, n_iter\u001b[38;5;241m=\u001b[39mN_ITER)\u001b[38;5;241m.\u001b[39mfit(X,y)\n",
      "File \u001b[0;32m~/neuefische/MLproject-FraudDetection/.venv/lib/python3.9/site-packages/sklearn/model_selection/_search.py:891\u001b[0m, in \u001b[0;36mBaseSearchCV.fit\u001b[0;34m(self, X, y, groups, **fit_params)\u001b[0m\n\u001b[1;32m    885\u001b[0m     results \u001b[38;5;241m=\u001b[39m \u001b[38;5;28mself\u001b[39m\u001b[38;5;241m.\u001b[39m_format_results(\n\u001b[1;32m    886\u001b[0m         all_candidate_params, n_splits, all_out, all_more_results\n\u001b[1;32m    887\u001b[0m     )\n\u001b[1;32m    889\u001b[0m     \u001b[38;5;28;01mreturn\u001b[39;00m results\n\u001b[0;32m--> 891\u001b[0m \u001b[38;5;28;43mself\u001b[39;49m\u001b[38;5;241;43m.\u001b[39;49m\u001b[43m_run_search\u001b[49m\u001b[43m(\u001b[49m\u001b[43mevaluate_candidates\u001b[49m\u001b[43m)\u001b[49m\n\u001b[1;32m    893\u001b[0m \u001b[38;5;66;03m# multimetric is determined here because in the case of a callable\u001b[39;00m\n\u001b[1;32m    894\u001b[0m \u001b[38;5;66;03m# self.scoring the return type is only known after calling\u001b[39;00m\n\u001b[1;32m    895\u001b[0m first_test_score \u001b[38;5;241m=\u001b[39m all_out[\u001b[38;5;241m0\u001b[39m][\u001b[38;5;124m\"\u001b[39m\u001b[38;5;124mtest_scores\u001b[39m\u001b[38;5;124m\"\u001b[39m]\n",
      "File \u001b[0;32m~/neuefische/MLproject-FraudDetection/.venv/lib/python3.9/site-packages/sklearn/model_selection/_search.py:1766\u001b[0m, in \u001b[0;36mRandomizedSearchCV._run_search\u001b[0;34m(self, evaluate_candidates)\u001b[0m\n\u001b[1;32m   1764\u001b[0m \u001b[38;5;28;01mdef\u001b[39;00m \u001b[38;5;21m_run_search\u001b[39m(\u001b[38;5;28mself\u001b[39m, evaluate_candidates):\n\u001b[1;32m   1765\u001b[0m \u001b[38;5;250m    \u001b[39m\u001b[38;5;124;03m\"\"\"Search n_iter candidates from param_distributions\"\"\"\u001b[39;00m\n\u001b[0;32m-> 1766\u001b[0m     \u001b[43mevaluate_candidates\u001b[49m\u001b[43m(\u001b[49m\n\u001b[1;32m   1767\u001b[0m \u001b[43m        \u001b[49m\u001b[43mParameterSampler\u001b[49m\u001b[43m(\u001b[49m\n\u001b[1;32m   1768\u001b[0m \u001b[43m            \u001b[49m\u001b[38;5;28;43mself\u001b[39;49m\u001b[38;5;241;43m.\u001b[39;49m\u001b[43mparam_distributions\u001b[49m\u001b[43m,\u001b[49m\u001b[43m \u001b[49m\u001b[38;5;28;43mself\u001b[39;49m\u001b[38;5;241;43m.\u001b[39;49m\u001b[43mn_iter\u001b[49m\u001b[43m,\u001b[49m\u001b[43m \u001b[49m\u001b[43mrandom_state\u001b[49m\u001b[38;5;241;43m=\u001b[39;49m\u001b[38;5;28;43mself\u001b[39;49m\u001b[38;5;241;43m.\u001b[39;49m\u001b[43mrandom_state\u001b[49m\n\u001b[1;32m   1769\u001b[0m \u001b[43m        \u001b[49m\u001b[43m)\u001b[49m\n\u001b[1;32m   1770\u001b[0m \u001b[43m    \u001b[49m\u001b[43m)\u001b[49m\n",
      "File \u001b[0;32m~/neuefische/MLproject-FraudDetection/.venv/lib/python3.9/site-packages/sklearn/model_selection/_search.py:838\u001b[0m, in \u001b[0;36mBaseSearchCV.fit.<locals>.evaluate_candidates\u001b[0;34m(candidate_params, cv, more_results)\u001b[0m\n\u001b[1;32m    830\u001b[0m \u001b[38;5;28;01mif\u001b[39;00m \u001b[38;5;28mself\u001b[39m\u001b[38;5;241m.\u001b[39mverbose \u001b[38;5;241m>\u001b[39m \u001b[38;5;241m0\u001b[39m:\n\u001b[1;32m    831\u001b[0m     \u001b[38;5;28mprint\u001b[39m(\n\u001b[1;32m    832\u001b[0m         \u001b[38;5;124m\"\u001b[39m\u001b[38;5;124mFitting \u001b[39m\u001b[38;5;132;01m{0}\u001b[39;00m\u001b[38;5;124m folds for each of \u001b[39m\u001b[38;5;132;01m{1}\u001b[39;00m\u001b[38;5;124m candidates,\u001b[39m\u001b[38;5;124m\"\u001b[39m\n\u001b[1;32m    833\u001b[0m         \u001b[38;5;124m\"\u001b[39m\u001b[38;5;124m totalling \u001b[39m\u001b[38;5;132;01m{2}\u001b[39;00m\u001b[38;5;124m fits\u001b[39m\u001b[38;5;124m\"\u001b[39m\u001b[38;5;241m.\u001b[39mformat(\n\u001b[1;32m    834\u001b[0m             n_splits, n_candidates, n_candidates \u001b[38;5;241m*\u001b[39m n_splits\n\u001b[1;32m    835\u001b[0m         )\n\u001b[1;32m    836\u001b[0m     )\n\u001b[0;32m--> 838\u001b[0m out \u001b[38;5;241m=\u001b[39m \u001b[43mparallel\u001b[49m\u001b[43m(\u001b[49m\n\u001b[1;32m    839\u001b[0m \u001b[43m    \u001b[49m\u001b[43mdelayed\u001b[49m\u001b[43m(\u001b[49m\u001b[43m_fit_and_score\u001b[49m\u001b[43m)\u001b[49m\u001b[43m(\u001b[49m\n\u001b[1;32m    840\u001b[0m \u001b[43m        \u001b[49m\u001b[43mclone\u001b[49m\u001b[43m(\u001b[49m\u001b[43mbase_estimator\u001b[49m\u001b[43m)\u001b[49m\u001b[43m,\u001b[49m\n\u001b[1;32m    841\u001b[0m \u001b[43m        \u001b[49m\u001b[43mX\u001b[49m\u001b[43m,\u001b[49m\n\u001b[1;32m    842\u001b[0m \u001b[43m        \u001b[49m\u001b[43my\u001b[49m\u001b[43m,\u001b[49m\n\u001b[1;32m    843\u001b[0m \u001b[43m        \u001b[49m\u001b[43mtrain\u001b[49m\u001b[38;5;241;43m=\u001b[39;49m\u001b[43mtrain\u001b[49m\u001b[43m,\u001b[49m\n\u001b[1;32m    844\u001b[0m \u001b[43m        \u001b[49m\u001b[43mtest\u001b[49m\u001b[38;5;241;43m=\u001b[39;49m\u001b[43mtest\u001b[49m\u001b[43m,\u001b[49m\n\u001b[1;32m    845\u001b[0m \u001b[43m        \u001b[49m\u001b[43mparameters\u001b[49m\u001b[38;5;241;43m=\u001b[39;49m\u001b[43mparameters\u001b[49m\u001b[43m,\u001b[49m\n\u001b[1;32m    846\u001b[0m \u001b[43m        \u001b[49m\u001b[43msplit_progress\u001b[49m\u001b[38;5;241;43m=\u001b[39;49m\u001b[43m(\u001b[49m\u001b[43msplit_idx\u001b[49m\u001b[43m,\u001b[49m\u001b[43m \u001b[49m\u001b[43mn_splits\u001b[49m\u001b[43m)\u001b[49m\u001b[43m,\u001b[49m\n\u001b[1;32m    847\u001b[0m \u001b[43m        \u001b[49m\u001b[43mcandidate_progress\u001b[49m\u001b[38;5;241;43m=\u001b[39;49m\u001b[43m(\u001b[49m\u001b[43mcand_idx\u001b[49m\u001b[43m,\u001b[49m\u001b[43m \u001b[49m\u001b[43mn_candidates\u001b[49m\u001b[43m)\u001b[49m\u001b[43m,\u001b[49m\n\u001b[1;32m    848\u001b[0m \u001b[43m        \u001b[49m\u001b[38;5;241;43m*\u001b[39;49m\u001b[38;5;241;43m*\u001b[39;49m\u001b[43mfit_and_score_kwargs\u001b[49m\u001b[43m,\u001b[49m\n\u001b[1;32m    849\u001b[0m \u001b[43m    \u001b[49m\u001b[43m)\u001b[49m\n\u001b[1;32m    850\u001b[0m \u001b[43m    \u001b[49m\u001b[38;5;28;43;01mfor\u001b[39;49;00m\u001b[43m \u001b[49m\u001b[43m(\u001b[49m\u001b[43mcand_idx\u001b[49m\u001b[43m,\u001b[49m\u001b[43m \u001b[49m\u001b[43mparameters\u001b[49m\u001b[43m)\u001b[49m\u001b[43m,\u001b[49m\u001b[43m \u001b[49m\u001b[43m(\u001b[49m\u001b[43msplit_idx\u001b[49m\u001b[43m,\u001b[49m\u001b[43m \u001b[49m\u001b[43m(\u001b[49m\u001b[43mtrain\u001b[49m\u001b[43m,\u001b[49m\u001b[43m \u001b[49m\u001b[43mtest\u001b[49m\u001b[43m)\u001b[49m\u001b[43m)\u001b[49m\u001b[43m \u001b[49m\u001b[38;5;129;43;01min\u001b[39;49;00m\u001b[43m \u001b[49m\u001b[43mproduct\u001b[49m\u001b[43m(\u001b[49m\n\u001b[1;32m    851\u001b[0m \u001b[43m        \u001b[49m\u001b[38;5;28;43menumerate\u001b[39;49m\u001b[43m(\u001b[49m\u001b[43mcandidate_params\u001b[49m\u001b[43m)\u001b[49m\u001b[43m,\u001b[49m\u001b[43m \u001b[49m\u001b[38;5;28;43menumerate\u001b[39;49m\u001b[43m(\u001b[49m\u001b[43mcv\u001b[49m\u001b[38;5;241;43m.\u001b[39;49m\u001b[43msplit\u001b[49m\u001b[43m(\u001b[49m\u001b[43mX\u001b[49m\u001b[43m,\u001b[49m\u001b[43m \u001b[49m\u001b[43my\u001b[49m\u001b[43m,\u001b[49m\u001b[43m \u001b[49m\u001b[43mgroups\u001b[49m\u001b[43m)\u001b[49m\u001b[43m)\u001b[49m\n\u001b[1;32m    852\u001b[0m \u001b[43m    \u001b[49m\u001b[43m)\u001b[49m\n\u001b[1;32m    853\u001b[0m \u001b[43m\u001b[49m\u001b[43m)\u001b[49m\n\u001b[1;32m    855\u001b[0m \u001b[38;5;28;01mif\u001b[39;00m \u001b[38;5;28mlen\u001b[39m(out) \u001b[38;5;241m<\u001b[39m \u001b[38;5;241m1\u001b[39m:\n\u001b[1;32m    856\u001b[0m     \u001b[38;5;28;01mraise\u001b[39;00m \u001b[38;5;167;01mValueError\u001b[39;00m(\n\u001b[1;32m    857\u001b[0m         \u001b[38;5;124m\"\u001b[39m\u001b[38;5;124mNo fits were performed. \u001b[39m\u001b[38;5;124m\"\u001b[39m\n\u001b[1;32m    858\u001b[0m         \u001b[38;5;124m\"\u001b[39m\u001b[38;5;124mWas the CV iterator empty? \u001b[39m\u001b[38;5;124m\"\u001b[39m\n\u001b[1;32m    859\u001b[0m         \u001b[38;5;124m\"\u001b[39m\u001b[38;5;124mWere there no candidates?\u001b[39m\u001b[38;5;124m\"\u001b[39m\n\u001b[1;32m    860\u001b[0m     )\n",
      "File \u001b[0;32m~/neuefische/MLproject-FraudDetection/.venv/lib/python3.9/site-packages/joblib/parallel.py:1088\u001b[0m, in \u001b[0;36mParallel.__call__\u001b[0;34m(self, iterable)\u001b[0m\n\u001b[1;32m   1085\u001b[0m \u001b[38;5;28;01mif\u001b[39;00m \u001b[38;5;28mself\u001b[39m\u001b[38;5;241m.\u001b[39mdispatch_one_batch(iterator):\n\u001b[1;32m   1086\u001b[0m     \u001b[38;5;28mself\u001b[39m\u001b[38;5;241m.\u001b[39m_iterating \u001b[38;5;241m=\u001b[39m \u001b[38;5;28mself\u001b[39m\u001b[38;5;241m.\u001b[39m_original_iterator \u001b[38;5;129;01mis\u001b[39;00m \u001b[38;5;129;01mnot\u001b[39;00m \u001b[38;5;28;01mNone\u001b[39;00m\n\u001b[0;32m-> 1088\u001b[0m \u001b[38;5;28;01mwhile\u001b[39;00m \u001b[38;5;28;43mself\u001b[39;49m\u001b[38;5;241;43m.\u001b[39;49m\u001b[43mdispatch_one_batch\u001b[49m\u001b[43m(\u001b[49m\u001b[43miterator\u001b[49m\u001b[43m)\u001b[49m:\n\u001b[1;32m   1089\u001b[0m     \u001b[38;5;28;01mpass\u001b[39;00m\n\u001b[1;32m   1091\u001b[0m \u001b[38;5;28;01mif\u001b[39;00m pre_dispatch \u001b[38;5;241m==\u001b[39m \u001b[38;5;124m\"\u001b[39m\u001b[38;5;124mall\u001b[39m\u001b[38;5;124m\"\u001b[39m \u001b[38;5;129;01mor\u001b[39;00m n_jobs \u001b[38;5;241m==\u001b[39m \u001b[38;5;241m1\u001b[39m:\n\u001b[1;32m   1092\u001b[0m     \u001b[38;5;66;03m# The iterable was consumed all at once by the above for loop.\u001b[39;00m\n\u001b[1;32m   1093\u001b[0m     \u001b[38;5;66;03m# No need to wait for async callbacks to trigger to\u001b[39;00m\n\u001b[1;32m   1094\u001b[0m     \u001b[38;5;66;03m# consumption.\u001b[39;00m\n",
      "File \u001b[0;32m~/neuefische/MLproject-FraudDetection/.venv/lib/python3.9/site-packages/joblib/parallel.py:901\u001b[0m, in \u001b[0;36mParallel.dispatch_one_batch\u001b[0;34m(self, iterator)\u001b[0m\n\u001b[1;32m    899\u001b[0m     \u001b[38;5;28;01mreturn\u001b[39;00m \u001b[38;5;28;01mFalse\u001b[39;00m\n\u001b[1;32m    900\u001b[0m \u001b[38;5;28;01melse\u001b[39;00m:\n\u001b[0;32m--> 901\u001b[0m     \u001b[38;5;28;43mself\u001b[39;49m\u001b[38;5;241;43m.\u001b[39;49m\u001b[43m_dispatch\u001b[49m\u001b[43m(\u001b[49m\u001b[43mtasks\u001b[49m\u001b[43m)\u001b[49m\n\u001b[1;32m    902\u001b[0m     \u001b[38;5;28;01mreturn\u001b[39;00m \u001b[38;5;28;01mTrue\u001b[39;00m\n",
      "File \u001b[0;32m~/neuefische/MLproject-FraudDetection/.venv/lib/python3.9/site-packages/joblib/parallel.py:819\u001b[0m, in \u001b[0;36mParallel._dispatch\u001b[0;34m(self, batch)\u001b[0m\n\u001b[1;32m    817\u001b[0m \u001b[38;5;28;01mwith\u001b[39;00m \u001b[38;5;28mself\u001b[39m\u001b[38;5;241m.\u001b[39m_lock:\n\u001b[1;32m    818\u001b[0m     job_idx \u001b[38;5;241m=\u001b[39m \u001b[38;5;28mlen\u001b[39m(\u001b[38;5;28mself\u001b[39m\u001b[38;5;241m.\u001b[39m_jobs)\n\u001b[0;32m--> 819\u001b[0m     job \u001b[38;5;241m=\u001b[39m \u001b[38;5;28;43mself\u001b[39;49m\u001b[38;5;241;43m.\u001b[39;49m\u001b[43m_backend\u001b[49m\u001b[38;5;241;43m.\u001b[39;49m\u001b[43mapply_async\u001b[49m\u001b[43m(\u001b[49m\u001b[43mbatch\u001b[49m\u001b[43m,\u001b[49m\u001b[43m \u001b[49m\u001b[43mcallback\u001b[49m\u001b[38;5;241;43m=\u001b[39;49m\u001b[43mcb\u001b[49m\u001b[43m)\u001b[49m\n\u001b[1;32m    820\u001b[0m     \u001b[38;5;66;03m# A job can complete so quickly than its callback is\u001b[39;00m\n\u001b[1;32m    821\u001b[0m     \u001b[38;5;66;03m# called before we get here, causing self._jobs to\u001b[39;00m\n\u001b[1;32m    822\u001b[0m     \u001b[38;5;66;03m# grow. To ensure correct results ordering, .insert is\u001b[39;00m\n\u001b[1;32m    823\u001b[0m     \u001b[38;5;66;03m# used (rather than .append) in the following line\u001b[39;00m\n\u001b[1;32m    824\u001b[0m     \u001b[38;5;28mself\u001b[39m\u001b[38;5;241m.\u001b[39m_jobs\u001b[38;5;241m.\u001b[39minsert(job_idx, job)\n",
      "File \u001b[0;32m~/neuefische/MLproject-FraudDetection/.venv/lib/python3.9/site-packages/joblib/_parallel_backends.py:208\u001b[0m, in \u001b[0;36mSequentialBackend.apply_async\u001b[0;34m(self, func, callback)\u001b[0m\n\u001b[1;32m    206\u001b[0m \u001b[38;5;28;01mdef\u001b[39;00m \u001b[38;5;21mapply_async\u001b[39m(\u001b[38;5;28mself\u001b[39m, func, callback\u001b[38;5;241m=\u001b[39m\u001b[38;5;28;01mNone\u001b[39;00m):\n\u001b[1;32m    207\u001b[0m \u001b[38;5;250m    \u001b[39m\u001b[38;5;124;03m\"\"\"Schedule a func to be run\"\"\"\u001b[39;00m\n\u001b[0;32m--> 208\u001b[0m     result \u001b[38;5;241m=\u001b[39m \u001b[43mImmediateResult\u001b[49m\u001b[43m(\u001b[49m\u001b[43mfunc\u001b[49m\u001b[43m)\u001b[49m\n\u001b[1;32m    209\u001b[0m     \u001b[38;5;28;01mif\u001b[39;00m callback:\n\u001b[1;32m    210\u001b[0m         callback(result)\n",
      "File \u001b[0;32m~/neuefische/MLproject-FraudDetection/.venv/lib/python3.9/site-packages/joblib/_parallel_backends.py:597\u001b[0m, in \u001b[0;36mImmediateResult.__init__\u001b[0;34m(self, batch)\u001b[0m\n\u001b[1;32m    594\u001b[0m \u001b[38;5;28;01mdef\u001b[39;00m \u001b[38;5;21m__init__\u001b[39m(\u001b[38;5;28mself\u001b[39m, batch):\n\u001b[1;32m    595\u001b[0m     \u001b[38;5;66;03m# Don't delay the application, to avoid keeping the input\u001b[39;00m\n\u001b[1;32m    596\u001b[0m     \u001b[38;5;66;03m# arguments in memory\u001b[39;00m\n\u001b[0;32m--> 597\u001b[0m     \u001b[38;5;28mself\u001b[39m\u001b[38;5;241m.\u001b[39mresults \u001b[38;5;241m=\u001b[39m \u001b[43mbatch\u001b[49m\u001b[43m(\u001b[49m\u001b[43m)\u001b[49m\n",
      "File \u001b[0;32m~/neuefische/MLproject-FraudDetection/.venv/lib/python3.9/site-packages/joblib/parallel.py:288\u001b[0m, in \u001b[0;36mBatchedCalls.__call__\u001b[0;34m(self)\u001b[0m\n\u001b[1;32m    284\u001b[0m \u001b[38;5;28;01mdef\u001b[39;00m \u001b[38;5;21m__call__\u001b[39m(\u001b[38;5;28mself\u001b[39m):\n\u001b[1;32m    285\u001b[0m     \u001b[38;5;66;03m# Set the default nested backend to self._backend but do not set the\u001b[39;00m\n\u001b[1;32m    286\u001b[0m     \u001b[38;5;66;03m# change the default number of processes to -1\u001b[39;00m\n\u001b[1;32m    287\u001b[0m     \u001b[38;5;28;01mwith\u001b[39;00m parallel_backend(\u001b[38;5;28mself\u001b[39m\u001b[38;5;241m.\u001b[39m_backend, n_jobs\u001b[38;5;241m=\u001b[39m\u001b[38;5;28mself\u001b[39m\u001b[38;5;241m.\u001b[39m_n_jobs):\n\u001b[0;32m--> 288\u001b[0m         \u001b[38;5;28;01mreturn\u001b[39;00m [func(\u001b[38;5;241m*\u001b[39margs, \u001b[38;5;241m*\u001b[39m\u001b[38;5;241m*\u001b[39mkwargs)\n\u001b[1;32m    289\u001b[0m                 \u001b[38;5;28;01mfor\u001b[39;00m func, args, kwargs \u001b[38;5;129;01min\u001b[39;00m \u001b[38;5;28mself\u001b[39m\u001b[38;5;241m.\u001b[39mitems]\n",
      "File \u001b[0;32m~/neuefische/MLproject-FraudDetection/.venv/lib/python3.9/site-packages/joblib/parallel.py:288\u001b[0m, in \u001b[0;36m<listcomp>\u001b[0;34m(.0)\u001b[0m\n\u001b[1;32m    284\u001b[0m \u001b[38;5;28;01mdef\u001b[39;00m \u001b[38;5;21m__call__\u001b[39m(\u001b[38;5;28mself\u001b[39m):\n\u001b[1;32m    285\u001b[0m     \u001b[38;5;66;03m# Set the default nested backend to self._backend but do not set the\u001b[39;00m\n\u001b[1;32m    286\u001b[0m     \u001b[38;5;66;03m# change the default number of processes to -1\u001b[39;00m\n\u001b[1;32m    287\u001b[0m     \u001b[38;5;28;01mwith\u001b[39;00m parallel_backend(\u001b[38;5;28mself\u001b[39m\u001b[38;5;241m.\u001b[39m_backend, n_jobs\u001b[38;5;241m=\u001b[39m\u001b[38;5;28mself\u001b[39m\u001b[38;5;241m.\u001b[39m_n_jobs):\n\u001b[0;32m--> 288\u001b[0m         \u001b[38;5;28;01mreturn\u001b[39;00m [\u001b[43mfunc\u001b[49m\u001b[43m(\u001b[49m\u001b[38;5;241;43m*\u001b[39;49m\u001b[43margs\u001b[49m\u001b[43m,\u001b[49m\u001b[43m \u001b[49m\u001b[38;5;241;43m*\u001b[39;49m\u001b[38;5;241;43m*\u001b[39;49m\u001b[43mkwargs\u001b[49m\u001b[43m)\u001b[49m\n\u001b[1;32m    289\u001b[0m                 \u001b[38;5;28;01mfor\u001b[39;00m func, args, kwargs \u001b[38;5;129;01min\u001b[39;00m \u001b[38;5;28mself\u001b[39m\u001b[38;5;241m.\u001b[39mitems]\n",
      "File \u001b[0;32m~/neuefische/MLproject-FraudDetection/.venv/lib/python3.9/site-packages/sklearn/utils/fixes.py:216\u001b[0m, in \u001b[0;36m_FuncWrapper.__call__\u001b[0;34m(self, *args, **kwargs)\u001b[0m\n\u001b[1;32m    214\u001b[0m \u001b[38;5;28;01mdef\u001b[39;00m \u001b[38;5;21m__call__\u001b[39m(\u001b[38;5;28mself\u001b[39m, \u001b[38;5;241m*\u001b[39margs, \u001b[38;5;241m*\u001b[39m\u001b[38;5;241m*\u001b[39mkwargs):\n\u001b[1;32m    215\u001b[0m     \u001b[38;5;28;01mwith\u001b[39;00m config_context(\u001b[38;5;241m*\u001b[39m\u001b[38;5;241m*\u001b[39m\u001b[38;5;28mself\u001b[39m\u001b[38;5;241m.\u001b[39mconfig):\n\u001b[0;32m--> 216\u001b[0m         \u001b[38;5;28;01mreturn\u001b[39;00m \u001b[38;5;28;43mself\u001b[39;49m\u001b[38;5;241;43m.\u001b[39;49m\u001b[43mfunction\u001b[49m\u001b[43m(\u001b[49m\u001b[38;5;241;43m*\u001b[39;49m\u001b[43margs\u001b[49m\u001b[43m,\u001b[49m\u001b[43m \u001b[49m\u001b[38;5;241;43m*\u001b[39;49m\u001b[38;5;241;43m*\u001b[39;49m\u001b[43mkwargs\u001b[49m\u001b[43m)\u001b[49m\n",
      "File \u001b[0;32m~/neuefische/MLproject-FraudDetection/.venv/lib/python3.9/site-packages/sklearn/model_selection/_validation.py:680\u001b[0m, in \u001b[0;36m_fit_and_score\u001b[0;34m(estimator, X, y, scorer, train, test, verbose, parameters, fit_params, return_train_score, return_parameters, return_n_test_samples, return_times, return_estimator, split_progress, candidate_progress, error_score)\u001b[0m\n\u001b[1;32m    678\u001b[0m         estimator\u001b[38;5;241m.\u001b[39mfit(X_train, \u001b[38;5;241m*\u001b[39m\u001b[38;5;241m*\u001b[39mfit_params)\n\u001b[1;32m    679\u001b[0m     \u001b[38;5;28;01melse\u001b[39;00m:\n\u001b[0;32m--> 680\u001b[0m         \u001b[43mestimator\u001b[49m\u001b[38;5;241;43m.\u001b[39;49m\u001b[43mfit\u001b[49m\u001b[43m(\u001b[49m\u001b[43mX_train\u001b[49m\u001b[43m,\u001b[49m\u001b[43m \u001b[49m\u001b[43my_train\u001b[49m\u001b[43m,\u001b[49m\u001b[43m \u001b[49m\u001b[38;5;241;43m*\u001b[39;49m\u001b[38;5;241;43m*\u001b[39;49m\u001b[43mfit_params\u001b[49m\u001b[43m)\u001b[49m\n\u001b[1;32m    682\u001b[0m \u001b[38;5;28;01mexcept\u001b[39;00m \u001b[38;5;167;01mException\u001b[39;00m:\n\u001b[1;32m    683\u001b[0m     \u001b[38;5;66;03m# Note fit time as time until error\u001b[39;00m\n\u001b[1;32m    684\u001b[0m     fit_time \u001b[38;5;241m=\u001b[39m time\u001b[38;5;241m.\u001b[39mtime() \u001b[38;5;241m-\u001b[39m start_time\n",
      "File \u001b[0;32m~/neuefische/MLproject-FraudDetection/.venv/lib/python3.9/site-packages/sklearn/tree/_classes.py:937\u001b[0m, in \u001b[0;36mDecisionTreeClassifier.fit\u001b[0;34m(self, X, y, sample_weight, check_input, X_idx_sorted)\u001b[0m\n\u001b[1;32m    899\u001b[0m \u001b[38;5;28;01mdef\u001b[39;00m \u001b[38;5;21mfit\u001b[39m(\n\u001b[1;32m    900\u001b[0m     \u001b[38;5;28mself\u001b[39m, X, y, sample_weight\u001b[38;5;241m=\u001b[39m\u001b[38;5;28;01mNone\u001b[39;00m, check_input\u001b[38;5;241m=\u001b[39m\u001b[38;5;28;01mTrue\u001b[39;00m, X_idx_sorted\u001b[38;5;241m=\u001b[39m\u001b[38;5;124m\"\u001b[39m\u001b[38;5;124mdeprecated\u001b[39m\u001b[38;5;124m\"\u001b[39m\n\u001b[1;32m    901\u001b[0m ):\n\u001b[1;32m    902\u001b[0m \u001b[38;5;250m    \u001b[39m\u001b[38;5;124;03m\"\"\"Build a decision tree classifier from the training set (X, y).\u001b[39;00m\n\u001b[1;32m    903\u001b[0m \n\u001b[1;32m    904\u001b[0m \u001b[38;5;124;03m    Parameters\u001b[39;00m\n\u001b[0;32m   (...)\u001b[0m\n\u001b[1;32m    934\u001b[0m \u001b[38;5;124;03m        Fitted estimator.\u001b[39;00m\n\u001b[1;32m    935\u001b[0m \u001b[38;5;124;03m    \"\"\"\u001b[39;00m\n\u001b[0;32m--> 937\u001b[0m     \u001b[38;5;28;43msuper\u001b[39;49m\u001b[43m(\u001b[49m\u001b[43m)\u001b[49m\u001b[38;5;241;43m.\u001b[39;49m\u001b[43mfit\u001b[49m\u001b[43m(\u001b[49m\n\u001b[1;32m    938\u001b[0m \u001b[43m        \u001b[49m\u001b[43mX\u001b[49m\u001b[43m,\u001b[49m\n\u001b[1;32m    939\u001b[0m \u001b[43m        \u001b[49m\u001b[43my\u001b[49m\u001b[43m,\u001b[49m\n\u001b[1;32m    940\u001b[0m \u001b[43m        \u001b[49m\u001b[43msample_weight\u001b[49m\u001b[38;5;241;43m=\u001b[39;49m\u001b[43msample_weight\u001b[49m\u001b[43m,\u001b[49m\n\u001b[1;32m    941\u001b[0m \u001b[43m        \u001b[49m\u001b[43mcheck_input\u001b[49m\u001b[38;5;241;43m=\u001b[39;49m\u001b[43mcheck_input\u001b[49m\u001b[43m,\u001b[49m\n\u001b[1;32m    942\u001b[0m \u001b[43m        \u001b[49m\u001b[43mX_idx_sorted\u001b[49m\u001b[38;5;241;43m=\u001b[39;49m\u001b[43mX_idx_sorted\u001b[49m\u001b[43m,\u001b[49m\n\u001b[1;32m    943\u001b[0m \u001b[43m    \u001b[49m\u001b[43m)\u001b[49m\n\u001b[1;32m    944\u001b[0m     \u001b[38;5;28;01mreturn\u001b[39;00m \u001b[38;5;28mself\u001b[39m\n",
      "File \u001b[0;32m~/neuefische/MLproject-FraudDetection/.venv/lib/python3.9/site-packages/sklearn/tree/_classes.py:420\u001b[0m, in \u001b[0;36mBaseDecisionTree.fit\u001b[0;34m(self, X, y, sample_weight, check_input, X_idx_sorted)\u001b[0m\n\u001b[1;32m    409\u001b[0m \u001b[38;5;28;01melse\u001b[39;00m:\n\u001b[1;32m    410\u001b[0m     builder \u001b[38;5;241m=\u001b[39m BestFirstTreeBuilder(\n\u001b[1;32m    411\u001b[0m         splitter,\n\u001b[1;32m    412\u001b[0m         min_samples_split,\n\u001b[0;32m   (...)\u001b[0m\n\u001b[1;32m    417\u001b[0m         \u001b[38;5;28mself\u001b[39m\u001b[38;5;241m.\u001b[39mmin_impurity_decrease,\n\u001b[1;32m    418\u001b[0m     )\n\u001b[0;32m--> 420\u001b[0m \u001b[43mbuilder\u001b[49m\u001b[38;5;241;43m.\u001b[39;49m\u001b[43mbuild\u001b[49m\u001b[43m(\u001b[49m\u001b[38;5;28;43mself\u001b[39;49m\u001b[38;5;241;43m.\u001b[39;49m\u001b[43mtree_\u001b[49m\u001b[43m,\u001b[49m\u001b[43m \u001b[49m\u001b[43mX\u001b[49m\u001b[43m,\u001b[49m\u001b[43m \u001b[49m\u001b[43my\u001b[49m\u001b[43m,\u001b[49m\u001b[43m \u001b[49m\u001b[43msample_weight\u001b[49m\u001b[43m)\u001b[49m\n\u001b[1;32m    422\u001b[0m \u001b[38;5;28;01mif\u001b[39;00m \u001b[38;5;28mself\u001b[39m\u001b[38;5;241m.\u001b[39mn_outputs_ \u001b[38;5;241m==\u001b[39m \u001b[38;5;241m1\u001b[39m \u001b[38;5;129;01mand\u001b[39;00m is_classifier(\u001b[38;5;28mself\u001b[39m):\n\u001b[1;32m    423\u001b[0m     \u001b[38;5;28mself\u001b[39m\u001b[38;5;241m.\u001b[39mn_classes_ \u001b[38;5;241m=\u001b[39m \u001b[38;5;28mself\u001b[39m\u001b[38;5;241m.\u001b[39mn_classes_[\u001b[38;5;241m0\u001b[39m]\n",
      "\u001b[0;31mKeyboardInterrupt\u001b[0m: "
     ]
    }
   ],
   "source": [
    "\n",
    "md = DecisionTreeClassifier(criterion='gini')\n",
    "\n",
    "params = {'criterion': ['gini', 'entropy', 'log_loss'],\n",
    "          'max_depth': np.arange(10, 100),\n",
    "          'min_samples_split': np.arange(2, 9),\n",
    "          'min_samples_leaf': np.arange(1, 5)}\n",
    "\n",
    "gs_f1 = RandomizedSearchCV(md, params, cv=CV, scoring='f1', n_iter=N_ITER).fit(X,y)\n",
    "gs_recall = RandomizedSearchCV(md, params, cv=CV, scoring='recall', n_iter=N_ITER).fit(X,y)\n"
   ]
  },
  {
   "cell_type": "code",
   "execution_count": null,
   "id": "a943a01b",
   "metadata": {},
   "outputs": [],
   "source": [
    "best_tree = gs_f1.best_estimator_\n",
    "\n",
    "best_params_f1 = gs_f1.best_params_\n",
    "print(\"best params for desicion tree f1:\", best_params_f1, sep=\"\\n\")"
   ]
  },
  {
   "cell_type": "code",
   "execution_count": null,
   "id": "d3654f5d",
   "metadata": {},
   "outputs": [],
   "source": [
    "tree_recall = gs_recall.best_estimator_\n",
    "\n",
    "best_params_recall = gs_recall.best_params_\n",
    "print(\"best params for desicion tree recall:\", best_params_recall, sep=\"\\n\")"
   ]
  },
  {
   "cell_type": "code",
   "execution_count": null,
   "id": "eeee930d",
   "metadata": {},
   "outputs": [],
   "source": [
    "pd.Series(best_tree.feature_importances_, index=df.columns).sort_values(ascending=False)"
   ]
  },
  {
   "cell_type": "code",
   "execution_count": null,
   "id": "4a42638c",
   "metadata": {},
   "outputs": [],
   "source": [
    "report(best_tree, df_test, y_test)"
   ]
  },
  {
   "cell_type": "markdown",
   "id": "97d92b0c",
   "metadata": {},
   "source": [
    "## Random Forest"
   ]
  },
  {
   "cell_type": "code",
   "execution_count": null,
   "id": "ddda5e9e",
   "metadata": {},
   "outputs": [],
   "source": [
    "md = RandomForestClassifier(criterion='gini', bootstrap=True, oob_score=True)\n",
    "\n",
    "params = {'n_estimators': np.arange(50, 250, 20),\n",
    "          'criterion': ['gini', 'entropy', 'log_loss'],\n",
    "          'max_depth': np.arange(10, 100),\n",
    "          'min_samples_split': np.arange(2, 9),\n",
    "          'min_samples_leaf': np.arange(1, 5),\n",
    "          'oob_score': [False, True]}\n",
    "\n",
    "gs_f1 = RandomizedSearchCV(md, params, cv=CV, scoring='f1', n_iter=N_ITER).fit(X,y)\n",
    "gs_recall = RandomizedSearchCV(md, params, cv=CV, scoring='recall', n_iter=N_ITER).fit(X,y)"
   ]
  },
  {
   "cell_type": "code",
   "execution_count": null,
   "id": "355416cc",
   "metadata": {},
   "outputs": [],
   "source": [
    "best_rf = gs_f1.best_estimator_\n",
    "\n",
    "best_params_f1 = gs_f1.best_params_\n",
    "print(\"best params for random forest f1:\", best_params_f1, sep=\"\\n\")"
   ]
  },
  {
   "cell_type": "code",
   "execution_count": null,
   "id": "4fcf1319",
   "metadata": {},
   "outputs": [],
   "source": [
    "best_rf_recall = gs_recall.best_estimator_\n",
    "\n",
    "best_params_recall = gs_recall.best_params_\n",
    "print(\"best params for random forest recall:\", best_params_recall, sep=\"\\n\")"
   ]
  },
  {
   "cell_type": "code",
   "execution_count": null,
   "id": "afbb4d30",
   "metadata": {},
   "outputs": [],
   "source": [
    "pd.Series(best_rf.feature_importances_, index=df.columns).sort_values(ascending=False)"
   ]
  },
  {
   "cell_type": "code",
   "execution_count": null,
   "id": "c9079594",
   "metadata": {},
   "outputs": [],
   "source": [
    "report(best_rf, df_test, y_test)"
   ]
  },
  {
   "cell_type": "code",
   "execution_count": null,
   "id": "c6f11857",
   "metadata": {},
   "outputs": [],
   "source": []
  },
  {
   "cell_type": "code",
   "execution_count": null,
   "id": "ac2b1b45",
   "metadata": {},
   "outputs": [],
   "source": [
    "#### the last one"
   ]
  },
  {
   "cell_type": "code",
   "execution_count": 164,
   "id": "7863f31b",
   "metadata": {},
   "outputs": [
    {
     "data": {
      "text/plain": [
       "region                  0.155287\n",
       "counter_number          0.139989\n",
       "ratio                   0.133872\n",
       "interaction             0.128010\n",
       "year_created            0.088485\n",
       "consommation_level_1    0.074590\n",
       "counter_code            0.051127\n",
       "new_index               0.046064\n",
       "ratio2                  0.042776\n",
       "interaction2_r          0.029570\n",
       "interaction2            0.028571\n",
       "invoice_year            0.028164\n",
       "consommation_level_2    0.016565\n",
       "tarif_type              0.012512\n",
       "invoice_month           0.011706\n",
       "invoice_weekday         0.007055\n",
       "consommation_level_3    0.003723\n",
       "consommation_level_4    0.001934\n",
       "dtype: float64"
      ]
     },
     "execution_count": 164,
     "metadata": {},
     "output_type": "execute_result"
    }
   ],
   "source": [
    "from sklearn.tree import DecisionTreeClassifier\n",
    "\n",
    "md = DecisionTreeClassifier(max_depth=40)\n",
    "md.fit(X,y)\n",
    "\n",
    "pd.Series(md.feature_importances_, index=df.columns).sort_values(ascending=False)"
   ]
  },
  {
   "cell_type": "code",
   "execution_count": 165,
   "id": "a77b89a5",
   "metadata": {},
   "outputs": [
    {
     "name": "stdout",
     "output_type": "stream",
     "text": [
      "Train set:\n",
      "              precision    recall  f1-score   support\n",
      "\n",
      "         0.0       0.99      0.98      0.99   3280562\n",
      "         1.0       0.98      0.99      0.99   2952505\n",
      "\n",
      "    accuracy                           0.99   6233067\n",
      "   macro avg       0.99      0.99      0.99   6233067\n",
      "weighted avg       0.99      0.99      0.99   6233067\n",
      "\n",
      "Test set:\n",
      "              precision    recall  f1-score   support\n",
      "\n",
      "         0.0       0.98      0.95      0.96    820306\n",
      "         1.0       0.56      0.80      0.66     70622\n",
      "\n",
      "    accuracy                           0.94    890928\n",
      "   macro avg       0.77      0.87      0.81    890928\n",
      "weighted avg       0.95      0.94      0.94    890928\n",
      "\n",
      "AUC = 0.88\n",
      "[[776751  43555]\n",
      " [ 14243  56379]]\n"
     ]
    }
   ],
   "source": [
    "print_report(md, X,y, df_test, y_test)"
   ]
  },
  {
   "cell_type": "code",
   "execution_count": 128,
   "id": "f294a558",
   "metadata": {},
   "outputs": [],
   "source": [
    "#prec 0.54      rec 0.78      f1 0.64  0.87\n",
    "\n",
    "# prec 0.59         0.81            0.68  auc 0.89    (40 depth + 2 engin feats)"
   ]
  },
  {
   "cell_type": "code",
   "execution_count": null,
   "id": "d0e48884",
   "metadata": {},
   "outputs": [],
   "source": [
    "# 0.55      0.80      0.65  0.88  (no engin feats)"
   ]
  }
 ],
 "metadata": {
  "kernelspec": {
   "display_name": "Python 3 (ipykernel)",
   "language": "python",
   "name": "python3"
  },
  "language_info": {
   "codemirror_mode": {
    "name": "ipython",
    "version": 3
   },
   "file_extension": ".py",
   "mimetype": "text/x-python",
   "name": "python",
   "nbconvert_exporter": "python",
   "pygments_lexer": "ipython3",
   "version": "3.9.8"
  }
 },
 "nbformat": 4,
 "nbformat_minor": 5
}
