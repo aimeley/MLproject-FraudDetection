{
 "cells": [
  {
   "cell_type": "markdown",
   "id": "a56295cf",
   "metadata": {},
   "source": [
    "## Features:\n",
    "\n",
    "### Client:\n",
    "\n",
    "- Client_id: Unique id for client\n",
    "- District: District where the client is\n",
    "- Client_catg: Category client belongs to\n",
    "- Region: Area where the client is\n",
    "- Creation_date: Date client joined\n",
    "- Target: fraud:1 , not fraud: 0\n",
    "\n",
    "\n",
    "### Invoice data\n",
    "\n",
    "- Client_id: Unique id for the client\n",
    "- Invoice_date: Date of the invoice\n",
    "- Tarif_type: Type of tax\n",
    "- Counter_number:\n",
    "- Counter_statue: takes up to 5 values such as working fine, not working, on hold statue, ect\n",
    "- Counter_code:\n",
    "- Reading_remarque: notes that the STEG agent takes during his visit to the client (e.g: If the counter shows something wrong, the agent gives a bad score)\n",
    "- Counter_coefficient: An additional coefficient to be added when standard consumption is exceeded\n",
    "- Consommation_level_1: Consumption_level_1\n",
    "- Consommation_level_2: Consumption_level_2\n",
    "- Consommation_level_3: Consumption_level_3\n",
    "- Consommation_level_4: Consumption_level_4\n",
    "- Old_index: Old index\n",
    "- New_index: New index\n",
    "- Months_number: Month number\n",
    "- Counter_type: Type of counter\n"
   ]
  },
  {
   "cell_type": "markdown",
   "id": "a76a0645",
   "metadata": {},
   "source": [
    "## Some findings\n",
    "\n",
    "- the \"test\" = \"competition\" set (no targets there). Therefore must split the \"train\" set into train/test sets\n",
    "\n",
    "- must not aggregate to make a shorter table with customers. Instead predict on TRANSACTIONS. (df.groupby('client_id').nunique())\n",
    "\n",
    "- the proportion of positives is higher in the merged \"transactions\" table than the proportion of positives in the \"clients\" table (0.06 / 0.08).  So you can treat that as \"perturbation\" of positives in order to increase the number of positives (where they are scarse). I.e. this is one more argument in the favour of predicting on transactions  and then aggregating them to get a prediction for a particular customer.\n",
    "\n",
    "- the 'months_number' column does not contain actual months. These values do not correspond to the 'creation_date' or 'invoice_date' columns.  Either keep this columns without any transformation or scaling or delete it completeley. Because the test set contains this kidn of wierd values too.\n",
    "\n",
    "- the features  ['consommation_level_1', 'consommation_level_2', 'consommation_level_3', 'consommation_level_4']   are not very promising (in tearms of building univariate logistic regression on them)\n",
    "\n",
    "- columns 'counter_statue'  is supposed to be integers [0-5] but is of mixed type (object) with some bogus values.  Convert to int, drop the rows with values > 5, because the test set doesnt have any bad values in this column - only the valid integers from 0 to 5\n",
    "\n",
    "- search for a decent baseline model didn't give decent results. Try non-deterministic baseline model based on the prior (i.e. the proportion of positives in the population)\n",
    "\n",
    "- eventually agreed to predict transactions (and not fraudulent clients)\n",
    "\n",
    "- rule-based baseline model on two rules (2005, higher consumption)\n"
   ]
  },
  {
   "cell_type": "code",
   "execution_count": 1,
   "id": "858f48bd",
   "metadata": {},
   "outputs": [],
   "source": [
    "import numpy as np, pandas as pd\n",
    "import matplotlib.pyplot as plt\n",
    "import seaborn as sns\n",
    "\n",
    "from sklearn.metrics import f1_score, roc_auc_score, accuracy_score, classification_report\n",
    "from sklearn.metrics import fbeta_score, confusion_matrix, recall_score, precision_score\n",
    "from sklearn.metrics import make_scorer\n",
    "\n",
    "from sklearn.model_selection import train_test_split, cross_val_predict, cross_val_score\n",
    "\n",
    "from sklearn.preprocessing import OrdinalEncoder\n",
    "from imblearn.over_sampling import SMOTENC\n",
    "\n",
    "from sklearn.tree import DecisionTreeClassifier\n",
    "from sklearn.ensemble import RandomForestClassifier\n",
    "\n",
    "from sklearn.model_selection import GridSearchCV, RandomizedSearchCV"
   ]
  },
  {
   "cell_type": "code",
   "execution_count": 2,
   "id": "eb2b1882",
   "metadata": {},
   "outputs": [],
   "source": [
    "from warnings import filterwarnings\n",
    "filterwarnings('ignore')"
   ]
  },
  {
   "cell_type": "code",
   "execution_count": 3,
   "id": "582b5e0b",
   "metadata": {},
   "outputs": [],
   "source": [
    "# TODO: random seed\n",
    "..."
   ]
  },
  {
   "cell_type": "code",
   "execution_count": 4,
   "id": "76bb87f7",
   "metadata": {},
   "outputs": [],
   "source": [
    "# feature preprocessing functions\n",
    "\n",
    "def preprocess(feature, data):\n",
    "    functions = {'counter_statue': preprocess_counter_statue}\n",
    "    feature = feature if type(feature) is str else data.name if type(data) is pd.Series else data.columns[feature]\n",
    "    function = functions[feature]\n",
    "    return function(data)\n",
    "\n",
    "    \n",
    "# preprocess 'counter_statue'\n",
    "def preprocess_counter_statue(data):\n",
    "    col = 'counter_statue'\n",
    "    sr = data[col].astype(str)\n",
    "    mask = sr.isin(list(\"012345\"))\n",
    "    sr[~mask] = sr[mask].mode().values[0]\n",
    "    data[col] = sr.astype(int)\n"
   ]
  },
  {
   "cell_type": "code",
   "execution_count": 5,
   "id": "882f4079",
   "metadata": {},
   "outputs": [],
   "source": [
    "path1 = \"data/train/client_train.csv\"\n",
    "path2 = \"data/train/invoice_train.csv\"\n",
    "\n",
    "path3 = \"data/test/client_test.csv\"\n",
    "path4 = \"data/test/invoice_test.csv\""
   ]
  },
  {
   "cell_type": "code",
   "execution_count": 6,
   "id": "f6746538",
   "metadata": {},
   "outputs": [],
   "source": [
    "# load the data\n",
    "\n",
    "df1 = pd.read_csv(path1)\n",
    "df2 = pd.read_csv(path2, low_memory=False)     # low_memory=False\n",
    "\n",
    "df3 = pd.read_csv(path3)\n",
    "df4 = pd.read_csv(path4)"
   ]
  },
  {
   "cell_type": "code",
   "execution_count": 7,
   "id": "01588cb6",
   "metadata": {},
   "outputs": [],
   "source": [
    "# join tables\n",
    "\n",
    "# data from the \"train\" folder (will have to be split into train/test)\n",
    "df_entire = df1.merge(df2, left_on='client_id', right_on='client_id', how='outer')\n",
    "\n",
    "# data from the \"test\" folder (doesn't contain targets)\n",
    "df_test_zindi = df3.merge(df4, left_on='client_id', right_on='client_id', how='outer')\n"
   ]
  },
  {
   "cell_type": "code",
   "execution_count": 8,
   "id": "ce0a0b76",
   "metadata": {},
   "outputs": [],
   "source": [
    "# converts all values to int, fills bad values with the mode\n",
    "preprocess('counter_statue', df_entire)"
   ]
  },
  {
   "cell_type": "code",
   "execution_count": 9,
   "id": "d4b85a77",
   "metadata": {},
   "outputs": [],
   "source": [
    "# feature engineering \n",
    "\n",
    "df_entire['year_created'] = pd.to_datetime(df_entire['creation_date'],\n",
    "                                           format=\"%d/%m/%Y\").dt.year\n",
    "dates = pd.to_datetime(df_entire['invoice_date'])\n",
    "df_entire['invoice_year'] = dates.dt.year\n",
    "df_entire['invoice_month'] = dates.dt.month\n",
    "df_entire['invoice_weekday'] = dates.dt.weekday"
   ]
  },
  {
   "cell_type": "code",
   "execution_count": 10,
   "id": "ecd00507",
   "metadata": {},
   "outputs": [],
   "source": [
    "# drop the observations before 2005\n",
    "\n",
    "YEAR = 2005\n",
    "df_entire.drop(df_entire.index[df_entire['invoice_year'] < YEAR], axis=0, inplace=True)\n",
    "\n",
    "# reset index\n",
    "df_entire.reset_index(drop=True, inplace=True)"
   ]
  },
  {
   "cell_type": "code",
   "execution_count": 11,
   "id": "0b13e436",
   "metadata": {},
   "outputs": [],
   "source": [
    "# enlabel 'counter_type'\n",
    "\n",
    "df_entire['counter_type'], _ = pd.factorize(df_entire['counter_type'])"
   ]
  },
  {
   "cell_type": "code",
   "execution_count": 12,
   "id": "5cf13280",
   "metadata": {},
   "outputs": [],
   "source": [
    "# drop these columns\n",
    "\n",
    "cols = [\n",
    "    'disrict', 'client_id', 'creation_date', 'invoice_date', 'old_index', 'months_number',\n",
    "    'client_catg', 'counter_statue', 'reading_remarque', 'counter_coefficient','counter_type'\n",
    "        ]\n",
    "\n",
    "df_entire.drop(cols, axis=1, inplace=True)"
   ]
  },
  {
   "cell_type": "markdown",
   "id": "704da15c",
   "metadata": {},
   "source": [
    "## Separate X, y"
   ]
  },
  {
   "cell_type": "code",
   "execution_count": 13,
   "id": "ac5471bc",
   "metadata": {},
   "outputs": [],
   "source": [
    "y_entire = df_entire.pop('target')"
   ]
  },
  {
   "cell_type": "markdown",
   "id": "9ed2b9e9",
   "metadata": {},
   "source": [
    "## Encode"
   ]
  },
  {
   "cell_type": "code",
   "execution_count": 14,
   "id": "0686fc27",
   "metadata": {},
   "outputs": [],
   "source": [
    "categoricals = [col for col in df_entire.columns if df_entire[col].nunique() < 20]\n",
    "non_cats = [col for col in df_entire.columns if df_entire[col].nunique() >= 20]\n",
    "\n",
    "nd_cats_encoded = OrdinalEncoder().fit_transform(df_entire[categoricals]).astype(int)"
   ]
  },
  {
   "cell_type": "code",
   "execution_count": 15,
   "id": "f89b3d16",
   "metadata": {},
   "outputs": [
    {
     "data": {
      "text/html": [
       "<div>\n",
       "<style scoped>\n",
       "    .dataframe tbody tr th:only-of-type {\n",
       "        vertical-align: middle;\n",
       "    }\n",
       "\n",
       "    .dataframe tbody tr th {\n",
       "        vertical-align: top;\n",
       "    }\n",
       "\n",
       "    .dataframe thead th {\n",
       "        text-align: right;\n",
       "    }\n",
       "</style>\n",
       "<table border=\"1\" class=\"dataframe\">\n",
       "  <thead>\n",
       "    <tr style=\"text-align: right;\">\n",
       "      <th></th>\n",
       "      <th>tarif_type</th>\n",
       "      <th>invoice_year</th>\n",
       "      <th>invoice_month</th>\n",
       "      <th>invoice_weekday</th>\n",
       "      <th>region</th>\n",
       "      <th>counter_number</th>\n",
       "      <th>counter_code</th>\n",
       "      <th>consommation_level_1</th>\n",
       "      <th>consommation_level_2</th>\n",
       "      <th>consommation_level_3</th>\n",
       "      <th>consommation_level_4</th>\n",
       "      <th>new_index</th>\n",
       "      <th>year_created</th>\n",
       "    </tr>\n",
       "  </thead>\n",
       "  <tbody>\n",
       "    <tr>\n",
       "      <th>0</th>\n",
       "      <td>3</td>\n",
       "      <td>9</td>\n",
       "      <td>2</td>\n",
       "      <td>0</td>\n",
       "      <td>101</td>\n",
       "      <td>1335667</td>\n",
       "      <td>203</td>\n",
       "      <td>82</td>\n",
       "      <td>0</td>\n",
       "      <td>0</td>\n",
       "      <td>0</td>\n",
       "      <td>14384</td>\n",
       "      <td>1994</td>\n",
       "    </tr>\n",
       "    <tr>\n",
       "      <th>1</th>\n",
       "      <td>3</td>\n",
       "      <td>8</td>\n",
       "      <td>2</td>\n",
       "      <td>4</td>\n",
       "      <td>101</td>\n",
       "      <td>1335667</td>\n",
       "      <td>203</td>\n",
       "      <td>1200</td>\n",
       "      <td>184</td>\n",
       "      <td>0</td>\n",
       "      <td>0</td>\n",
       "      <td>13678</td>\n",
       "      <td>1994</td>\n",
       "    </tr>\n",
       "    <tr>\n",
       "      <th>2</th>\n",
       "      <td>3</td>\n",
       "      <td>10</td>\n",
       "      <td>2</td>\n",
       "      <td>0</td>\n",
       "      <td>101</td>\n",
       "      <td>1335667</td>\n",
       "      <td>203</td>\n",
       "      <td>123</td>\n",
       "      <td>0</td>\n",
       "      <td>0</td>\n",
       "      <td>0</td>\n",
       "      <td>14747</td>\n",
       "      <td>1994</td>\n",
       "    </tr>\n",
       "    <tr>\n",
       "      <th>3</th>\n",
       "      <td>3</td>\n",
       "      <td>10</td>\n",
       "      <td>6</td>\n",
       "      <td>0</td>\n",
       "      <td>101</td>\n",
       "      <td>1335667</td>\n",
       "      <td>207</td>\n",
       "      <td>102</td>\n",
       "      <td>0</td>\n",
       "      <td>0</td>\n",
       "      <td>0</td>\n",
       "      <td>14849</td>\n",
       "      <td>1994</td>\n",
       "    </tr>\n",
       "    <tr>\n",
       "      <th>4</th>\n",
       "      <td>3</td>\n",
       "      <td>11</td>\n",
       "      <td>10</td>\n",
       "      <td>3</td>\n",
       "      <td>101</td>\n",
       "      <td>1335667</td>\n",
       "      <td>207</td>\n",
       "      <td>572</td>\n",
       "      <td>0</td>\n",
       "      <td>0</td>\n",
       "      <td>0</td>\n",
       "      <td>15638</td>\n",
       "      <td>1994</td>\n",
       "    </tr>\n",
       "  </tbody>\n",
       "</table>\n",
       "</div>"
      ],
      "text/plain": [
       "   tarif_type  invoice_year  invoice_month  invoice_weekday  region  \\\n",
       "0           3             9              2                0     101   \n",
       "1           3             8              2                4     101   \n",
       "2           3            10              2                0     101   \n",
       "3           3            10              6                0     101   \n",
       "4           3            11             10                3     101   \n",
       "\n",
       "   counter_number  counter_code  consommation_level_1  consommation_level_2  \\\n",
       "0         1335667           203                    82                     0   \n",
       "1         1335667           203                  1200                   184   \n",
       "2         1335667           203                   123                     0   \n",
       "3         1335667           207                   102                     0   \n",
       "4         1335667           207                   572                     0   \n",
       "\n",
       "   consommation_level_3  consommation_level_4  new_index  year_created  \n",
       "0                     0                     0      14384          1994  \n",
       "1                     0                     0      13678          1994  \n",
       "2                     0                     0      14747          1994  \n",
       "3                     0                     0      14849          1994  \n",
       "4                     0                     0      15638          1994  "
      ]
     },
     "execution_count": 15,
     "metadata": {},
     "output_type": "execute_result"
    }
   ],
   "source": [
    "df_entire = pd.concat([pd.DataFrame(nd_cats_encoded, \n",
    "                                           columns=categoricals,\n",
    "                                          index=df_entire.index), \n",
    "                              df_entire[non_cats]], axis=1)\n",
    "\n",
    "df_entire.head()"
   ]
  },
  {
   "cell_type": "markdown",
   "id": "b427f20c",
   "metadata": {},
   "source": [
    "## Split the data"
   ]
  },
  {
   "cell_type": "code",
   "execution_count": 16,
   "id": "ec581121",
   "metadata": {},
   "outputs": [],
   "source": [
    "df_train, df_test, y_train, y_test = train_test_split(df_entire, y_entire, \n",
    "                                                      test_size=0.2, stratify=y_entire)\n",
    "Xtrain = df_train.values\n",
    "Xtest = df_test.values\n",
    "ytrain = y_train.values\n",
    "ytest = y_test.values"
   ]
  },
  {
   "cell_type": "markdown",
   "id": "2de7725b",
   "metadata": {},
   "source": [
    "## Upsample data with SMOTE"
   ]
  },
  {
   "cell_type": "markdown",
   "id": "ccdb5365",
   "metadata": {},
   "source": [
    "### sample before SMOTE"
   ]
  },
  {
   "cell_type": "code",
   "execution_count": 17,
   "id": "a298d51f",
   "metadata": {},
   "outputs": [],
   "source": [
    "# DO NOT DO THIS SPLIT, \n",
    "\n",
    "train_size = 0.9999    # 0.99    for final training\n",
    "\n",
    "df_sample, df_val, y_sample, y_val = train_test_split(df_train, y_train, \n",
    "                                                      train_size=train_size, stratify=y_train)"
   ]
  },
  {
   "cell_type": "code",
   "execution_count": 37,
   "id": "a6018d5b",
   "metadata": {},
   "outputs": [],
   "source": [
    "train_encoded_path = \"data/train/train_encoded.csv\"\n",
    "test_encoded_path = \"data/test/test_encoded.csv\""
   ]
  },
  {
   "cell_type": "code",
   "execution_count": 42,
   "id": "f3895971",
   "metadata": {},
   "outputs": [],
   "source": [
    "# save to csv\n",
    "df_encoded_train_upsampled = pd.concat([df_smote, y_smote.astype(int)], axis=1)\n",
    "df_encoded_train_upsampled.to_csv(train_encoded_path)\n",
    "\n",
    "df_encoded_test = pd.concat([df_test, y_test.astype(int)], axis=1)\n",
    "df_encoded_test.to_csv(test_encoded_path)"
   ]
  },
  {
   "cell_type": "code",
   "execution_count": 19,
   "id": "104c943d",
   "metadata": {},
   "outputs": [
    {
     "data": {
      "text/html": [
       "<div>\n",
       "<style scoped>\n",
       "    .dataframe tbody tr th:only-of-type {\n",
       "        vertical-align: middle;\n",
       "    }\n",
       "\n",
       "    .dataframe tbody tr th {\n",
       "        vertical-align: top;\n",
       "    }\n",
       "\n",
       "    .dataframe thead th {\n",
       "        text-align: right;\n",
       "    }\n",
       "</style>\n",
       "<table border=\"1\" class=\"dataframe\">\n",
       "  <thead>\n",
       "    <tr style=\"text-align: right;\">\n",
       "      <th></th>\n",
       "      <th>tarif_type</th>\n",
       "      <th>invoice_year</th>\n",
       "      <th>invoice_month</th>\n",
       "      <th>invoice_weekday</th>\n",
       "      <th>region</th>\n",
       "      <th>counter_number</th>\n",
       "      <th>counter_code</th>\n",
       "      <th>consommation_level_1</th>\n",
       "      <th>consommation_level_2</th>\n",
       "      <th>consommation_level_3</th>\n",
       "      <th>consommation_level_4</th>\n",
       "      <th>new_index</th>\n",
       "      <th>year_created</th>\n",
       "    </tr>\n",
       "  </thead>\n",
       "  <tbody>\n",
       "    <tr>\n",
       "      <th>6233686</th>\n",
       "      <td>13</td>\n",
       "      <td>1</td>\n",
       "      <td>4</td>\n",
       "      <td>0</td>\n",
       "      <td>311</td>\n",
       "      <td>8713</td>\n",
       "      <td>5</td>\n",
       "      <td>68</td>\n",
       "      <td>0</td>\n",
       "      <td>0</td>\n",
       "      <td>0</td>\n",
       "      <td>1914</td>\n",
       "      <td>1997</td>\n",
       "    </tr>\n",
       "    <tr>\n",
       "      <th>6233687</th>\n",
       "      <td>3</td>\n",
       "      <td>4</td>\n",
       "      <td>4</td>\n",
       "      <td>0</td>\n",
       "      <td>177</td>\n",
       "      <td>631260</td>\n",
       "      <td>203</td>\n",
       "      <td>837</td>\n",
       "      <td>248</td>\n",
       "      <td>497</td>\n",
       "      <td>388</td>\n",
       "      <td>64668</td>\n",
       "      <td>1996</td>\n",
       "    </tr>\n",
       "    <tr>\n",
       "      <th>6233688</th>\n",
       "      <td>3</td>\n",
       "      <td>10</td>\n",
       "      <td>6</td>\n",
       "      <td>0</td>\n",
       "      <td>281</td>\n",
       "      <td>550985</td>\n",
       "      <td>203</td>\n",
       "      <td>533</td>\n",
       "      <td>10</td>\n",
       "      <td>0</td>\n",
       "      <td>0</td>\n",
       "      <td>8919</td>\n",
       "      <td>2001</td>\n",
       "    </tr>\n",
       "    <tr>\n",
       "      <th>6233689</th>\n",
       "      <td>3</td>\n",
       "      <td>11</td>\n",
       "      <td>3</td>\n",
       "      <td>2</td>\n",
       "      <td>307</td>\n",
       "      <td>216663</td>\n",
       "      <td>203</td>\n",
       "      <td>419</td>\n",
       "      <td>0</td>\n",
       "      <td>0</td>\n",
       "      <td>0</td>\n",
       "      <td>4502</td>\n",
       "      <td>1995</td>\n",
       "    </tr>\n",
       "    <tr>\n",
       "      <th>6233690</th>\n",
       "      <td>3</td>\n",
       "      <td>9</td>\n",
       "      <td>3</td>\n",
       "      <td>4</td>\n",
       "      <td>332</td>\n",
       "      <td>921896</td>\n",
       "      <td>203</td>\n",
       "      <td>503</td>\n",
       "      <td>0</td>\n",
       "      <td>0</td>\n",
       "      <td>0</td>\n",
       "      <td>4104</td>\n",
       "      <td>1999</td>\n",
       "    </tr>\n",
       "  </tbody>\n",
       "</table>\n",
       "</div>"
      ],
      "text/plain": [
       "         tarif_type  invoice_year  invoice_month  invoice_weekday  region  \\\n",
       "6233686          13             1              4                0     311   \n",
       "6233687           3             4              4                0     177   \n",
       "6233688           3            10              6                0     281   \n",
       "6233689           3            11              3                2     307   \n",
       "6233690           3             9              3                4     332   \n",
       "\n",
       "         counter_number  counter_code  consommation_level_1  \\\n",
       "6233686            8713             5                    68   \n",
       "6233687          631260           203                   837   \n",
       "6233688          550985           203                   533   \n",
       "6233689          216663           203                   419   \n",
       "6233690          921896           203                   503   \n",
       "\n",
       "         consommation_level_2  consommation_level_3  consommation_level_4  \\\n",
       "6233686                     0                     0                     0   \n",
       "6233687                   248                   497                   388   \n",
       "6233688                    10                     0                     0   \n",
       "6233689                     0                     0                     0   \n",
       "6233690                     0                     0                     0   \n",
       "\n",
       "         new_index  year_created  \n",
       "6233686       1914          1997  \n",
       "6233687      64668          1996  \n",
       "6233688       8919          2001  \n",
       "6233689       4502          1995  \n",
       "6233690       4104          1999  "
      ]
     },
     "execution_count": 19,
     "metadata": {},
     "output_type": "execute_result"
    }
   ],
   "source": [
    "sm = SMOTENC(categorical_features=list(range(len(categoricals))),\n",
    "             k_neighbors=3,\n",
    "            sampling_strategy=0.9)\n",
    "df_smote, y_smote = sm.fit_resample(df_sample, y_sample)\n",
    "\n",
    "df_smote.tail(5)"
   ]
  },
  {
   "cell_type": "code",
   "execution_count": 166,
   "id": "b3e77665",
   "metadata": {},
   "outputs": [
    {
     "data": {
      "text/plain": [
       "((6233067, 13), (6233067, 13), (6233067,))"
      ]
     },
     "execution_count": 166,
     "metadata": {},
     "output_type": "execute_result"
    }
   ],
   "source": [
    "# provisionary split   !!!\n",
    "\n",
    "\n",
    "df_smote = df_smote.iloc[:,:13]\n",
    "\n",
    "SMALL_PORTION_FROM_UPSAMPLED_DATA = 0.9999\n",
    "\n",
    "df, _, y, _ = train_test_split(df_smote, y_smote, \n",
    "            train_size=SMALL_PORTION_FROM_UPSAMPLED_DATA, stratify=y_smote)\n",
    "\n",
    "\n",
    "###df,y = df_smote, y_smote\n",
    "\n",
    "X,y = df.values, y.values\n",
    "\n",
    "df.shape, X.shape, y.shape"
   ]
  },
  {
   "cell_type": "code",
   "execution_count": 167,
   "id": "7b34ec73",
   "metadata": {},
   "outputs": [
    {
     "data": {
      "text/plain": [
       "Index(['tarif_type', 'invoice_year', 'invoice_month', 'invoice_weekday',\n",
       "       'region', 'counter_number', 'counter_code', 'consommation_level_1',\n",
       "       'consommation_level_2', 'consommation_level_3', 'consommation_level_4',\n",
       "       'new_index', 'year_created'],\n",
       "      dtype='object')"
      ]
     },
     "execution_count": 167,
     "metadata": {},
     "output_type": "execute_result"
    }
   ],
   "source": [
    "df_smote.columns"
   ]
  },
  {
   "cell_type": "markdown",
   "id": "451b67e1",
   "metadata": {},
   "source": [
    "## Feature Selection\n",
    "\n",
    "### features to use:"
   ]
  },
  {
   "cell_type": "code",
   "execution_count": 22,
   "id": "418d7f79",
   "metadata": {},
   "outputs": [],
   "source": [
    "\"\"\"\n",
    "region                  0.230020\n",
    "counter_number          0.184581\n",
    "year_created            0.068360\n",
    "interaction             0.061893\n",
    "ratio                   0.057657\n",
    "new_index               0.055945\n",
    "counter_code            0.040542\n",
    "consommation_level_1    0.038644\n",
    "invoice_year            0.037021\n",
    "invoice_month           0.029143\n",
    "invoice_weekday         0.020443\n",
    "tarif_type              0.019677\n",
    "\"\"\";"
   ]
  },
  {
   "cell_type": "markdown",
   "id": "0ad4c421",
   "metadata": {},
   "source": [
    "## Feature engineering"
   ]
  },
  {
   "cell_type": "code",
   "execution_count": 168,
   "id": "9d2ab553",
   "metadata": {},
   "outputs": [],
   "source": [
    "\n",
    "def feature_engineer(df):\n",
    "    #df['ratio'] = (df['counter_number'] / df['region']).fillna(0).replace((-np.inf, np.inf), 0)\n",
    "    #df['interaction'] = np.log( (df['counter_number'] * df['region']).fillna(0).replace((-np.inf, np.inf), 0)).fillna(0).replace((-np.inf, np.inf), 0)\n",
    "    return df"
   ]
  },
  {
   "cell_type": "code",
   "execution_count": 169,
   "id": "35eee519",
   "metadata": {},
   "outputs": [],
   "source": [
    "df_test = df_test.iloc[:, :13]"
   ]
  },
  {
   "cell_type": "code",
   "execution_count": 170,
   "id": "b184c4ce",
   "metadata": {},
   "outputs": [],
   "source": [
    "df = feature_engineer(df)\n",
    "df_val = feature_engineer(df_val)\n",
    "df_test = feature_engineer(df_test)\n",
    "\n",
    "X = df.values\n",
    "\n"
   ]
  },
  {
   "cell_type": "code",
   "execution_count": 171,
   "id": "6b5ed4f2",
   "metadata": {},
   "outputs": [
    {
     "data": {
      "text/plain": [
       "((6233067, 13), (6233067, 13), (890928, 13))"
      ]
     },
     "execution_count": 171,
     "metadata": {},
     "output_type": "execute_result"
    }
   ],
   "source": [
    "X.shape, df.shape, df_test.shape"
   ]
  },
  {
   "cell_type": "code",
   "execution_count": 172,
   "id": "d130b9ec",
   "metadata": {},
   "outputs": [
    {
     "data": {
      "text/plain": [
       "(Index(['tarif_type', 'invoice_year', 'invoice_month', 'invoice_weekday',\n",
       "        'region', 'counter_number', 'counter_code', 'consommation_level_1',\n",
       "        'consommation_level_2', 'consommation_level_3', 'consommation_level_4',\n",
       "        'new_index', 'year_created'],\n",
       "       dtype='object'),\n",
       " Index(['tarif_type', 'invoice_year', 'invoice_month', 'invoice_weekday',\n",
       "        'region', 'counter_number', 'counter_code', 'consommation_level_1',\n",
       "        'consommation_level_2', 'consommation_level_3', 'consommation_level_4',\n",
       "        'new_index', 'year_created'],\n",
       "       dtype='object'))"
      ]
     },
     "execution_count": 172,
     "metadata": {},
     "output_type": "execute_result"
    }
   ],
   "source": [
    "df.columns, df_test.columns"
   ]
  },
  {
   "cell_type": "code",
   "execution_count": 83,
   "id": "dd71eb48",
   "metadata": {},
   "outputs": [],
   "source": [
    "# function printing model report\n",
    "def print_report(model, Xtrain, ytrain, Xtest, ytest):\n",
    "    print(\"Train set:\")\n",
    "    ypred = model.predict(Xtrain)\n",
    "    print(classification_report(ytrain, ypred))\n",
    "\n",
    "    print(\"Test set:\")\n",
    "    ypred = model.predict(Xtest)\n",
    "    print(classification_report(ytest, ypred))\n",
    "\n",
    "    probs = model.predict_proba(Xtest)[:,-1]\n",
    "    auc = roc_auc_score(ytest, probs)\n",
    "    print(\"AUC =\", auc.round(2))\n",
    "    \n",
    "    print(confusion_matrix(ytest, ypred))\n",
    "    \n"
   ]
  },
  {
   "cell_type": "markdown",
   "id": "11063829",
   "metadata": {},
   "source": [
    "## Fit a single Desicion Tree"
   ]
  },
  {
   "cell_type": "code",
   "execution_count": 60,
   "id": "fd85bfaa",
   "metadata": {},
   "outputs": [
    {
     "data": {
      "text/plain": [
       "counter_number          0.366394\n",
       "region                  0.168340\n",
       "year_created            0.090586\n",
       "consommation_level_1    0.077741\n",
       "interaction             0.056648\n",
       "new_index               0.052626\n",
       "counter_code            0.052248\n",
       "ratio                   0.048736\n",
       "invoice_year            0.030172\n",
       "consommation_level_2    0.016977\n",
       "invoice_month           0.012896\n",
       "tarif_type              0.012756\n",
       "invoice_weekday         0.008052\n",
       "consommation_level_3    0.003874\n",
       "consommation_level_4    0.001952\n",
       "dtype: float64"
      ]
     },
     "execution_count": 60,
     "metadata": {},
     "output_type": "execute_result"
    }
   ],
   "source": [
    "from sklearn.tree import DecisionTreeClassifier\n",
    "\n",
    "md = DecisionTreeClassifier(max_depth=None)\n",
    "md.fit(X,y)\n",
    "\n",
    "pd.Series(md.feature_importances_, index=df.columns).sort_values(ascending=False)"
   ]
  },
  {
   "cell_type": "code",
   "execution_count": 61,
   "id": "b2d63ebd",
   "metadata": {},
   "outputs": [
    {
     "name": "stdout",
     "output_type": "stream",
     "text": [
      "Test set:\n",
      "              precision    recall  f1-score   support\n",
      "\n",
      "         0.0       0.98      0.94      0.96    820306\n",
      "         1.0       0.54      0.78      0.64     70622\n",
      "\n",
      "    accuracy                           0.93    890928\n",
      "   macro avg       0.76      0.86      0.80    890928\n",
      "weighted avg       0.95      0.93      0.94    890928\n",
      "\n",
      "AUC = 0.87\n"
     ]
    }
   ],
   "source": [
    "report(md, df_test, y_test)"
   ]
  },
  {
   "cell_type": "markdown",
   "id": "6f13d96f",
   "metadata": {},
   "source": [
    "## Fit a random forest"
   ]
  },
  {
   "cell_type": "code",
   "execution_count": 62,
   "id": "6792d0a9",
   "metadata": {},
   "outputs": [
    {
     "data": {
      "text/plain": [
       "RandomForestClassifier(n_estimators=25)"
      ]
     },
     "execution_count": 62,
     "metadata": {},
     "output_type": "execute_result"
    }
   ],
   "source": [
    "md = RandomForestClassifier(n_estimators=25, criterion='gini')\n",
    "md.fit(X,y)"
   ]
  },
  {
   "cell_type": "code",
   "execution_count": 63,
   "id": "b9b4fc63",
   "metadata": {},
   "outputs": [
    {
     "data": {
      "text/plain": [
       "counter_number          0.176064\n",
       "region                  0.139613\n",
       "interaction             0.095499\n",
       "consommation_level_1    0.094773\n",
       "year_created            0.094501\n",
       "ratio                   0.092018\n",
       "new_index               0.088609\n",
       "invoice_year            0.054832\n",
       "counter_code            0.049154\n",
       "invoice_month           0.036751\n",
       "invoice_weekday         0.027161\n",
       "consommation_level_2    0.025487\n",
       "tarif_type              0.012834\n",
       "consommation_level_3    0.009146\n",
       "consommation_level_4    0.003558\n",
       "dtype: float64"
      ]
     },
     "execution_count": 63,
     "metadata": {},
     "output_type": "execute_result"
    }
   ],
   "source": [
    "pd.Series(md.feature_importances_, index=df.columns).sort_values(ascending=False)"
   ]
  },
  {
   "cell_type": "code",
   "execution_count": 64,
   "id": "f0728c22",
   "metadata": {},
   "outputs": [
    {
     "name": "stdout",
     "output_type": "stream",
     "text": [
      "Test set:\n",
      "              precision    recall  f1-score   support\n",
      "\n",
      "         0.0       0.96      0.97      0.96    820306\n",
      "         1.0       0.60      0.56      0.58     70622\n",
      "\n",
      "    accuracy                           0.94    890928\n",
      "   macro avg       0.78      0.76      0.77    890928\n",
      "weighted avg       0.93      0.94      0.93    890928\n",
      "\n",
      "AUC = 0.91\n"
     ]
    }
   ],
   "source": [
    "report(md, df_test, y_test)"
   ]
  },
  {
   "cell_type": "markdown",
   "id": "af47fc99",
   "metadata": {},
   "source": [
    "## Decision Tree (gird search for f1)"
   ]
  },
  {
   "cell_type": "code",
   "execution_count": 177,
   "id": "02b6ac29",
   "metadata": {},
   "outputs": [],
   "source": [
    "md = DecisionTreeClassifier(criterion='gini')\n",
    "\n",
    "params = {'max_depth': list(np.arange(30, 120, 20)) + [None,]}  # the best was NOne, try more than 60\n",
    "\n",
    "gs = GridSearchCV(md, params, cv=CV, scoring='f1').fit(X,y)"
   ]
  },
  {
   "cell_type": "code",
   "execution_count": 178,
   "id": "5316bef3",
   "metadata": {},
   "outputs": [
    {
     "name": "stdout",
     "output_type": "stream",
     "text": [
      "best params for desicion tree f1:\n",
      "{'max_depth': 70}\n"
     ]
    }
   ],
   "source": [
    "best_tree = gs.best_estimator_\n",
    "\n",
    "best_params_f1 = gs.best_params_\n",
    "print(\"best params for desicion tree f1:\", best_params_f1, sep=\"\\n\")"
   ]
  },
  {
   "cell_type": "code",
   "execution_count": 179,
   "id": "05a33070",
   "metadata": {},
   "outputs": [
    {
     "data": {
      "text/plain": [
       "counter_number          0.418780\n",
       "region                  0.164412\n",
       "new_index               0.102772\n",
       "year_created            0.094421\n",
       "consommation_level_1    0.078255\n",
       "counter_code            0.050733\n",
       "invoice_year            0.032516\n",
       "consommation_level_2    0.015953\n",
       "invoice_month           0.014162\n",
       "tarif_type              0.012978\n",
       "invoice_weekday         0.009137\n",
       "consommation_level_3    0.003927\n",
       "consommation_level_4    0.001953\n",
       "dtype: float64"
      ]
     },
     "execution_count": 179,
     "metadata": {},
     "output_type": "execute_result"
    }
   ],
   "source": [
    "pd.Series(best_tree.feature_importances_, index=df.columns).sort_values(ascending=False)"
   ]
  },
  {
   "cell_type": "code",
   "execution_count": 180,
   "id": "59c1a689",
   "metadata": {},
   "outputs": [
    {
     "name": "stdout",
     "output_type": "stream",
     "text": [
      "Test set:\n",
      "              precision    recall  f1-score   support\n",
      "\n",
      "         0.0       0.98      0.96      0.97    820306\n",
      "         1.0       0.63      0.80      0.71     70622\n",
      "\n",
      "    accuracy                           0.95    890928\n",
      "   macro avg       0.81      0.88      0.84    890928\n",
      "weighted avg       0.95      0.95      0.95    890928\n",
      "\n",
      "AUC = 0.88\n"
     ]
    }
   ],
   "source": [
    "report(best_tree, df_test, y_test)"
   ]
  },
  {
   "cell_type": "code",
   "execution_count": 183,
   "id": "a2045b07",
   "metadata": {},
   "outputs": [
    {
     "name": "stdout",
     "output_type": "stream",
     "text": [
      "Train set:\n",
      "              precision    recall  f1-score   support\n",
      "\n",
      "         0.0       1.00      1.00      1.00   3280562\n",
      "         1.0       1.00      1.00      1.00   2952505\n",
      "\n",
      "    accuracy                           1.00   6233067\n",
      "   macro avg       1.00      1.00      1.00   6233067\n",
      "weighted avg       1.00      1.00      1.00   6233067\n",
      "\n",
      "Test set:\n",
      "              precision    recall  f1-score   support\n",
      "\n",
      "         0.0       0.98      0.96      0.97    820306\n",
      "         1.0       0.63      0.80      0.71     70622\n",
      "\n",
      "    accuracy                           0.95    890928\n",
      "   macro avg       0.81      0.88      0.84    890928\n",
      "weighted avg       0.95      0.95      0.95    890928\n",
      "\n",
      "AUC = 0.88\n",
      "[[786951  33355]\n",
      " [ 13913  56709]]\n"
     ]
    }
   ],
   "source": [
    "print_report(best_tree, X, y, Xtest, ytest)"
   ]
  },
  {
   "cell_type": "markdown",
   "id": "cc250a0b",
   "metadata": {},
   "source": [
    "## Random Forest (grid search for f1)"
   ]
  },
  {
   "cell_type": "code",
   "execution_count": null,
   "id": "1ea126cc",
   "metadata": {},
   "outputs": [],
   "source": [
    "md = RandomForestClassifier('n_estimators'=100, criterion='gini', bootstrap=True, oob_score=True)\n",
    "\n",
    "params = {\n",
    "          'max_depth': [None, 40, 60],\n",
    "          'min_samples_split': [2, 5],\n",
    "          'min_samples_leaf': [1, 3]}\n",
    "\n",
    "gs = GridSearchCV(md, params, cv=CV, scoring='f1').fit(X,y)\n"
   ]
  },
  {
   "cell_type": "code",
   "execution_count": null,
   "id": "bf3a889c",
   "metadata": {},
   "outputs": [],
   "source": [
    "best_rf = gs.best_estimator_\n",
    "\n",
    "best_params_f1 = gs.best_params_\n",
    "print(\"best params for random forest f1:\", best_params_f1, sep=\"\\n\")"
   ]
  },
  {
   "cell_type": "code",
   "execution_count": null,
   "id": "1ba42b52",
   "metadata": {},
   "outputs": [],
   "source": [
    "pd.Series(best_rf.feature_importances_, index=df.columns).sort_values(ascending=False)"
   ]
  },
  {
   "cell_type": "code",
   "execution_count": null,
   "id": "d938397b",
   "metadata": {},
   "outputs": [],
   "source": [
    "report(best_rf, df_test, y_test)"
   ]
  },
  {
   "cell_type": "markdown",
   "id": "151f18bc",
   "metadata": {},
   "source": [
    "### Randomized Search"
   ]
  },
  {
   "cell_type": "code",
   "execution_count": 27,
   "id": "10d228d3",
   "metadata": {},
   "outputs": [
    {
     "ename": "KeyboardInterrupt",
     "evalue": "",
     "output_type": "error",
     "traceback": [
      "\u001b[0;31m---------------------------------------------------------------------------\u001b[0m",
      "\u001b[0;31mKeyboardInterrupt\u001b[0m                         Traceback (most recent call last)",
      "Cell \u001b[0;32mIn[27], line 8\u001b[0m\n\u001b[1;32m      1\u001b[0m md \u001b[38;5;241m=\u001b[39m DecisionTreeClassifier(criterion\u001b[38;5;241m=\u001b[39m\u001b[38;5;124m'\u001b[39m\u001b[38;5;124mgini\u001b[39m\u001b[38;5;124m'\u001b[39m)\n\u001b[1;32m      3\u001b[0m params \u001b[38;5;241m=\u001b[39m {\u001b[38;5;124m'\u001b[39m\u001b[38;5;124mcriterion\u001b[39m\u001b[38;5;124m'\u001b[39m: [\u001b[38;5;124m'\u001b[39m\u001b[38;5;124mgini\u001b[39m\u001b[38;5;124m'\u001b[39m, \u001b[38;5;124m'\u001b[39m\u001b[38;5;124mentropy\u001b[39m\u001b[38;5;124m'\u001b[39m, \u001b[38;5;124m'\u001b[39m\u001b[38;5;124mlog_loss\u001b[39m\u001b[38;5;124m'\u001b[39m],\n\u001b[1;32m      4\u001b[0m           \u001b[38;5;124m'\u001b[39m\u001b[38;5;124mmax_depth\u001b[39m\u001b[38;5;124m'\u001b[39m: np\u001b[38;5;241m.\u001b[39marange(\u001b[38;5;241m10\u001b[39m, \u001b[38;5;241m100\u001b[39m),\n\u001b[1;32m      5\u001b[0m           \u001b[38;5;124m'\u001b[39m\u001b[38;5;124mmin_samples_split\u001b[39m\u001b[38;5;124m'\u001b[39m: np\u001b[38;5;241m.\u001b[39marange(\u001b[38;5;241m2\u001b[39m, \u001b[38;5;241m9\u001b[39m),\n\u001b[1;32m      6\u001b[0m           \u001b[38;5;124m'\u001b[39m\u001b[38;5;124mmin_samples_leaf\u001b[39m\u001b[38;5;124m'\u001b[39m: np\u001b[38;5;241m.\u001b[39marange(\u001b[38;5;241m1\u001b[39m, \u001b[38;5;241m5\u001b[39m)}\n\u001b[0;32m----> 8\u001b[0m gs_f1 \u001b[38;5;241m=\u001b[39m \u001b[43mRandomizedSearchCV\u001b[49m\u001b[43m(\u001b[49m\u001b[43mmd\u001b[49m\u001b[43m,\u001b[49m\u001b[43m \u001b[49m\u001b[43mparams\u001b[49m\u001b[43m,\u001b[49m\u001b[43m \u001b[49m\u001b[43mcv\u001b[49m\u001b[38;5;241;43m=\u001b[39;49m\u001b[43mCV\u001b[49m\u001b[43m,\u001b[49m\u001b[43m \u001b[49m\u001b[43mscoring\u001b[49m\u001b[38;5;241;43m=\u001b[39;49m\u001b[38;5;124;43m'\u001b[39;49m\u001b[38;5;124;43mf1\u001b[39;49m\u001b[38;5;124;43m'\u001b[39;49m\u001b[43m,\u001b[49m\u001b[43m \u001b[49m\u001b[43mn_iter\u001b[49m\u001b[38;5;241;43m=\u001b[39;49m\u001b[43mN_ITER\u001b[49m\u001b[43m)\u001b[49m\u001b[38;5;241;43m.\u001b[39;49m\u001b[43mfit\u001b[49m\u001b[43m(\u001b[49m\u001b[43mX\u001b[49m\u001b[43m,\u001b[49m\u001b[43my\u001b[49m\u001b[43m)\u001b[49m\n\u001b[1;32m      9\u001b[0m gs_recall \u001b[38;5;241m=\u001b[39m RandomizedSearchCV(md, params, cv\u001b[38;5;241m=\u001b[39mCV, scoring\u001b[38;5;241m=\u001b[39m\u001b[38;5;124m'\u001b[39m\u001b[38;5;124mrecall\u001b[39m\u001b[38;5;124m'\u001b[39m, n_iter\u001b[38;5;241m=\u001b[39mN_ITER)\u001b[38;5;241m.\u001b[39mfit(X,y)\n",
      "File \u001b[0;32m~/neuefische/MLproject-FraudDetection/.venv/lib/python3.9/site-packages/sklearn/model_selection/_search.py:891\u001b[0m, in \u001b[0;36mBaseSearchCV.fit\u001b[0;34m(self, X, y, groups, **fit_params)\u001b[0m\n\u001b[1;32m    885\u001b[0m     results \u001b[38;5;241m=\u001b[39m \u001b[38;5;28mself\u001b[39m\u001b[38;5;241m.\u001b[39m_format_results(\n\u001b[1;32m    886\u001b[0m         all_candidate_params, n_splits, all_out, all_more_results\n\u001b[1;32m    887\u001b[0m     )\n\u001b[1;32m    889\u001b[0m     \u001b[38;5;28;01mreturn\u001b[39;00m results\n\u001b[0;32m--> 891\u001b[0m \u001b[38;5;28;43mself\u001b[39;49m\u001b[38;5;241;43m.\u001b[39;49m\u001b[43m_run_search\u001b[49m\u001b[43m(\u001b[49m\u001b[43mevaluate_candidates\u001b[49m\u001b[43m)\u001b[49m\n\u001b[1;32m    893\u001b[0m \u001b[38;5;66;03m# multimetric is determined here because in the case of a callable\u001b[39;00m\n\u001b[1;32m    894\u001b[0m \u001b[38;5;66;03m# self.scoring the return type is only known after calling\u001b[39;00m\n\u001b[1;32m    895\u001b[0m first_test_score \u001b[38;5;241m=\u001b[39m all_out[\u001b[38;5;241m0\u001b[39m][\u001b[38;5;124m\"\u001b[39m\u001b[38;5;124mtest_scores\u001b[39m\u001b[38;5;124m\"\u001b[39m]\n",
      "File \u001b[0;32m~/neuefische/MLproject-FraudDetection/.venv/lib/python3.9/site-packages/sklearn/model_selection/_search.py:1766\u001b[0m, in \u001b[0;36mRandomizedSearchCV._run_search\u001b[0;34m(self, evaluate_candidates)\u001b[0m\n\u001b[1;32m   1764\u001b[0m \u001b[38;5;28;01mdef\u001b[39;00m \u001b[38;5;21m_run_search\u001b[39m(\u001b[38;5;28mself\u001b[39m, evaluate_candidates):\n\u001b[1;32m   1765\u001b[0m \u001b[38;5;250m    \u001b[39m\u001b[38;5;124;03m\"\"\"Search n_iter candidates from param_distributions\"\"\"\u001b[39;00m\n\u001b[0;32m-> 1766\u001b[0m     \u001b[43mevaluate_candidates\u001b[49m\u001b[43m(\u001b[49m\n\u001b[1;32m   1767\u001b[0m \u001b[43m        \u001b[49m\u001b[43mParameterSampler\u001b[49m\u001b[43m(\u001b[49m\n\u001b[1;32m   1768\u001b[0m \u001b[43m            \u001b[49m\u001b[38;5;28;43mself\u001b[39;49m\u001b[38;5;241;43m.\u001b[39;49m\u001b[43mparam_distributions\u001b[49m\u001b[43m,\u001b[49m\u001b[43m \u001b[49m\u001b[38;5;28;43mself\u001b[39;49m\u001b[38;5;241;43m.\u001b[39;49m\u001b[43mn_iter\u001b[49m\u001b[43m,\u001b[49m\u001b[43m \u001b[49m\u001b[43mrandom_state\u001b[49m\u001b[38;5;241;43m=\u001b[39;49m\u001b[38;5;28;43mself\u001b[39;49m\u001b[38;5;241;43m.\u001b[39;49m\u001b[43mrandom_state\u001b[49m\n\u001b[1;32m   1769\u001b[0m \u001b[43m        \u001b[49m\u001b[43m)\u001b[49m\n\u001b[1;32m   1770\u001b[0m \u001b[43m    \u001b[49m\u001b[43m)\u001b[49m\n",
      "File \u001b[0;32m~/neuefische/MLproject-FraudDetection/.venv/lib/python3.9/site-packages/sklearn/model_selection/_search.py:838\u001b[0m, in \u001b[0;36mBaseSearchCV.fit.<locals>.evaluate_candidates\u001b[0;34m(candidate_params, cv, more_results)\u001b[0m\n\u001b[1;32m    830\u001b[0m \u001b[38;5;28;01mif\u001b[39;00m \u001b[38;5;28mself\u001b[39m\u001b[38;5;241m.\u001b[39mverbose \u001b[38;5;241m>\u001b[39m \u001b[38;5;241m0\u001b[39m:\n\u001b[1;32m    831\u001b[0m     \u001b[38;5;28mprint\u001b[39m(\n\u001b[1;32m    832\u001b[0m         \u001b[38;5;124m\"\u001b[39m\u001b[38;5;124mFitting \u001b[39m\u001b[38;5;132;01m{0}\u001b[39;00m\u001b[38;5;124m folds for each of \u001b[39m\u001b[38;5;132;01m{1}\u001b[39;00m\u001b[38;5;124m candidates,\u001b[39m\u001b[38;5;124m\"\u001b[39m\n\u001b[1;32m    833\u001b[0m         \u001b[38;5;124m\"\u001b[39m\u001b[38;5;124m totalling \u001b[39m\u001b[38;5;132;01m{2}\u001b[39;00m\u001b[38;5;124m fits\u001b[39m\u001b[38;5;124m\"\u001b[39m\u001b[38;5;241m.\u001b[39mformat(\n\u001b[1;32m    834\u001b[0m             n_splits, n_candidates, n_candidates \u001b[38;5;241m*\u001b[39m n_splits\n\u001b[1;32m    835\u001b[0m         )\n\u001b[1;32m    836\u001b[0m     )\n\u001b[0;32m--> 838\u001b[0m out \u001b[38;5;241m=\u001b[39m \u001b[43mparallel\u001b[49m\u001b[43m(\u001b[49m\n\u001b[1;32m    839\u001b[0m \u001b[43m    \u001b[49m\u001b[43mdelayed\u001b[49m\u001b[43m(\u001b[49m\u001b[43m_fit_and_score\u001b[49m\u001b[43m)\u001b[49m\u001b[43m(\u001b[49m\n\u001b[1;32m    840\u001b[0m \u001b[43m        \u001b[49m\u001b[43mclone\u001b[49m\u001b[43m(\u001b[49m\u001b[43mbase_estimator\u001b[49m\u001b[43m)\u001b[49m\u001b[43m,\u001b[49m\n\u001b[1;32m    841\u001b[0m \u001b[43m        \u001b[49m\u001b[43mX\u001b[49m\u001b[43m,\u001b[49m\n\u001b[1;32m    842\u001b[0m \u001b[43m        \u001b[49m\u001b[43my\u001b[49m\u001b[43m,\u001b[49m\n\u001b[1;32m    843\u001b[0m \u001b[43m        \u001b[49m\u001b[43mtrain\u001b[49m\u001b[38;5;241;43m=\u001b[39;49m\u001b[43mtrain\u001b[49m\u001b[43m,\u001b[49m\n\u001b[1;32m    844\u001b[0m \u001b[43m        \u001b[49m\u001b[43mtest\u001b[49m\u001b[38;5;241;43m=\u001b[39;49m\u001b[43mtest\u001b[49m\u001b[43m,\u001b[49m\n\u001b[1;32m    845\u001b[0m \u001b[43m        \u001b[49m\u001b[43mparameters\u001b[49m\u001b[38;5;241;43m=\u001b[39;49m\u001b[43mparameters\u001b[49m\u001b[43m,\u001b[49m\n\u001b[1;32m    846\u001b[0m \u001b[43m        \u001b[49m\u001b[43msplit_progress\u001b[49m\u001b[38;5;241;43m=\u001b[39;49m\u001b[43m(\u001b[49m\u001b[43msplit_idx\u001b[49m\u001b[43m,\u001b[49m\u001b[43m \u001b[49m\u001b[43mn_splits\u001b[49m\u001b[43m)\u001b[49m\u001b[43m,\u001b[49m\n\u001b[1;32m    847\u001b[0m \u001b[43m        \u001b[49m\u001b[43mcandidate_progress\u001b[49m\u001b[38;5;241;43m=\u001b[39;49m\u001b[43m(\u001b[49m\u001b[43mcand_idx\u001b[49m\u001b[43m,\u001b[49m\u001b[43m \u001b[49m\u001b[43mn_candidates\u001b[49m\u001b[43m)\u001b[49m\u001b[43m,\u001b[49m\n\u001b[1;32m    848\u001b[0m \u001b[43m        \u001b[49m\u001b[38;5;241;43m*\u001b[39;49m\u001b[38;5;241;43m*\u001b[39;49m\u001b[43mfit_and_score_kwargs\u001b[49m\u001b[43m,\u001b[49m\n\u001b[1;32m    849\u001b[0m \u001b[43m    \u001b[49m\u001b[43m)\u001b[49m\n\u001b[1;32m    850\u001b[0m \u001b[43m    \u001b[49m\u001b[38;5;28;43;01mfor\u001b[39;49;00m\u001b[43m \u001b[49m\u001b[43m(\u001b[49m\u001b[43mcand_idx\u001b[49m\u001b[43m,\u001b[49m\u001b[43m \u001b[49m\u001b[43mparameters\u001b[49m\u001b[43m)\u001b[49m\u001b[43m,\u001b[49m\u001b[43m \u001b[49m\u001b[43m(\u001b[49m\u001b[43msplit_idx\u001b[49m\u001b[43m,\u001b[49m\u001b[43m \u001b[49m\u001b[43m(\u001b[49m\u001b[43mtrain\u001b[49m\u001b[43m,\u001b[49m\u001b[43m \u001b[49m\u001b[43mtest\u001b[49m\u001b[43m)\u001b[49m\u001b[43m)\u001b[49m\u001b[43m \u001b[49m\u001b[38;5;129;43;01min\u001b[39;49;00m\u001b[43m \u001b[49m\u001b[43mproduct\u001b[49m\u001b[43m(\u001b[49m\n\u001b[1;32m    851\u001b[0m \u001b[43m        \u001b[49m\u001b[38;5;28;43menumerate\u001b[39;49m\u001b[43m(\u001b[49m\u001b[43mcandidate_params\u001b[49m\u001b[43m)\u001b[49m\u001b[43m,\u001b[49m\u001b[43m \u001b[49m\u001b[38;5;28;43menumerate\u001b[39;49m\u001b[43m(\u001b[49m\u001b[43mcv\u001b[49m\u001b[38;5;241;43m.\u001b[39;49m\u001b[43msplit\u001b[49m\u001b[43m(\u001b[49m\u001b[43mX\u001b[49m\u001b[43m,\u001b[49m\u001b[43m \u001b[49m\u001b[43my\u001b[49m\u001b[43m,\u001b[49m\u001b[43m \u001b[49m\u001b[43mgroups\u001b[49m\u001b[43m)\u001b[49m\u001b[43m)\u001b[49m\n\u001b[1;32m    852\u001b[0m \u001b[43m    \u001b[49m\u001b[43m)\u001b[49m\n\u001b[1;32m    853\u001b[0m \u001b[43m\u001b[49m\u001b[43m)\u001b[49m\n\u001b[1;32m    855\u001b[0m \u001b[38;5;28;01mif\u001b[39;00m \u001b[38;5;28mlen\u001b[39m(out) \u001b[38;5;241m<\u001b[39m \u001b[38;5;241m1\u001b[39m:\n\u001b[1;32m    856\u001b[0m     \u001b[38;5;28;01mraise\u001b[39;00m \u001b[38;5;167;01mValueError\u001b[39;00m(\n\u001b[1;32m    857\u001b[0m         \u001b[38;5;124m\"\u001b[39m\u001b[38;5;124mNo fits were performed. \u001b[39m\u001b[38;5;124m\"\u001b[39m\n\u001b[1;32m    858\u001b[0m         \u001b[38;5;124m\"\u001b[39m\u001b[38;5;124mWas the CV iterator empty? \u001b[39m\u001b[38;5;124m\"\u001b[39m\n\u001b[1;32m    859\u001b[0m         \u001b[38;5;124m\"\u001b[39m\u001b[38;5;124mWere there no candidates?\u001b[39m\u001b[38;5;124m\"\u001b[39m\n\u001b[1;32m    860\u001b[0m     )\n",
      "File \u001b[0;32m~/neuefische/MLproject-FraudDetection/.venv/lib/python3.9/site-packages/joblib/parallel.py:1088\u001b[0m, in \u001b[0;36mParallel.__call__\u001b[0;34m(self, iterable)\u001b[0m\n\u001b[1;32m   1085\u001b[0m \u001b[38;5;28;01mif\u001b[39;00m \u001b[38;5;28mself\u001b[39m\u001b[38;5;241m.\u001b[39mdispatch_one_batch(iterator):\n\u001b[1;32m   1086\u001b[0m     \u001b[38;5;28mself\u001b[39m\u001b[38;5;241m.\u001b[39m_iterating \u001b[38;5;241m=\u001b[39m \u001b[38;5;28mself\u001b[39m\u001b[38;5;241m.\u001b[39m_original_iterator \u001b[38;5;129;01mis\u001b[39;00m \u001b[38;5;129;01mnot\u001b[39;00m \u001b[38;5;28;01mNone\u001b[39;00m\n\u001b[0;32m-> 1088\u001b[0m \u001b[38;5;28;01mwhile\u001b[39;00m \u001b[38;5;28;43mself\u001b[39;49m\u001b[38;5;241;43m.\u001b[39;49m\u001b[43mdispatch_one_batch\u001b[49m\u001b[43m(\u001b[49m\u001b[43miterator\u001b[49m\u001b[43m)\u001b[49m:\n\u001b[1;32m   1089\u001b[0m     \u001b[38;5;28;01mpass\u001b[39;00m\n\u001b[1;32m   1091\u001b[0m \u001b[38;5;28;01mif\u001b[39;00m pre_dispatch \u001b[38;5;241m==\u001b[39m \u001b[38;5;124m\"\u001b[39m\u001b[38;5;124mall\u001b[39m\u001b[38;5;124m\"\u001b[39m \u001b[38;5;129;01mor\u001b[39;00m n_jobs \u001b[38;5;241m==\u001b[39m \u001b[38;5;241m1\u001b[39m:\n\u001b[1;32m   1092\u001b[0m     \u001b[38;5;66;03m# The iterable was consumed all at once by the above for loop.\u001b[39;00m\n\u001b[1;32m   1093\u001b[0m     \u001b[38;5;66;03m# No need to wait for async callbacks to trigger to\u001b[39;00m\n\u001b[1;32m   1094\u001b[0m     \u001b[38;5;66;03m# consumption.\u001b[39;00m\n",
      "File \u001b[0;32m~/neuefische/MLproject-FraudDetection/.venv/lib/python3.9/site-packages/joblib/parallel.py:901\u001b[0m, in \u001b[0;36mParallel.dispatch_one_batch\u001b[0;34m(self, iterator)\u001b[0m\n\u001b[1;32m    899\u001b[0m     \u001b[38;5;28;01mreturn\u001b[39;00m \u001b[38;5;28;01mFalse\u001b[39;00m\n\u001b[1;32m    900\u001b[0m \u001b[38;5;28;01melse\u001b[39;00m:\n\u001b[0;32m--> 901\u001b[0m     \u001b[38;5;28;43mself\u001b[39;49m\u001b[38;5;241;43m.\u001b[39;49m\u001b[43m_dispatch\u001b[49m\u001b[43m(\u001b[49m\u001b[43mtasks\u001b[49m\u001b[43m)\u001b[49m\n\u001b[1;32m    902\u001b[0m     \u001b[38;5;28;01mreturn\u001b[39;00m \u001b[38;5;28;01mTrue\u001b[39;00m\n",
      "File \u001b[0;32m~/neuefische/MLproject-FraudDetection/.venv/lib/python3.9/site-packages/joblib/parallel.py:819\u001b[0m, in \u001b[0;36mParallel._dispatch\u001b[0;34m(self, batch)\u001b[0m\n\u001b[1;32m    817\u001b[0m \u001b[38;5;28;01mwith\u001b[39;00m \u001b[38;5;28mself\u001b[39m\u001b[38;5;241m.\u001b[39m_lock:\n\u001b[1;32m    818\u001b[0m     job_idx \u001b[38;5;241m=\u001b[39m \u001b[38;5;28mlen\u001b[39m(\u001b[38;5;28mself\u001b[39m\u001b[38;5;241m.\u001b[39m_jobs)\n\u001b[0;32m--> 819\u001b[0m     job \u001b[38;5;241m=\u001b[39m \u001b[38;5;28;43mself\u001b[39;49m\u001b[38;5;241;43m.\u001b[39;49m\u001b[43m_backend\u001b[49m\u001b[38;5;241;43m.\u001b[39;49m\u001b[43mapply_async\u001b[49m\u001b[43m(\u001b[49m\u001b[43mbatch\u001b[49m\u001b[43m,\u001b[49m\u001b[43m \u001b[49m\u001b[43mcallback\u001b[49m\u001b[38;5;241;43m=\u001b[39;49m\u001b[43mcb\u001b[49m\u001b[43m)\u001b[49m\n\u001b[1;32m    820\u001b[0m     \u001b[38;5;66;03m# A job can complete so quickly than its callback is\u001b[39;00m\n\u001b[1;32m    821\u001b[0m     \u001b[38;5;66;03m# called before we get here, causing self._jobs to\u001b[39;00m\n\u001b[1;32m    822\u001b[0m     \u001b[38;5;66;03m# grow. To ensure correct results ordering, .insert is\u001b[39;00m\n\u001b[1;32m    823\u001b[0m     \u001b[38;5;66;03m# used (rather than .append) in the following line\u001b[39;00m\n\u001b[1;32m    824\u001b[0m     \u001b[38;5;28mself\u001b[39m\u001b[38;5;241m.\u001b[39m_jobs\u001b[38;5;241m.\u001b[39minsert(job_idx, job)\n",
      "File \u001b[0;32m~/neuefische/MLproject-FraudDetection/.venv/lib/python3.9/site-packages/joblib/_parallel_backends.py:208\u001b[0m, in \u001b[0;36mSequentialBackend.apply_async\u001b[0;34m(self, func, callback)\u001b[0m\n\u001b[1;32m    206\u001b[0m \u001b[38;5;28;01mdef\u001b[39;00m \u001b[38;5;21mapply_async\u001b[39m(\u001b[38;5;28mself\u001b[39m, func, callback\u001b[38;5;241m=\u001b[39m\u001b[38;5;28;01mNone\u001b[39;00m):\n\u001b[1;32m    207\u001b[0m \u001b[38;5;250m    \u001b[39m\u001b[38;5;124;03m\"\"\"Schedule a func to be run\"\"\"\u001b[39;00m\n\u001b[0;32m--> 208\u001b[0m     result \u001b[38;5;241m=\u001b[39m \u001b[43mImmediateResult\u001b[49m\u001b[43m(\u001b[49m\u001b[43mfunc\u001b[49m\u001b[43m)\u001b[49m\n\u001b[1;32m    209\u001b[0m     \u001b[38;5;28;01mif\u001b[39;00m callback:\n\u001b[1;32m    210\u001b[0m         callback(result)\n",
      "File \u001b[0;32m~/neuefische/MLproject-FraudDetection/.venv/lib/python3.9/site-packages/joblib/_parallel_backends.py:597\u001b[0m, in \u001b[0;36mImmediateResult.__init__\u001b[0;34m(self, batch)\u001b[0m\n\u001b[1;32m    594\u001b[0m \u001b[38;5;28;01mdef\u001b[39;00m \u001b[38;5;21m__init__\u001b[39m(\u001b[38;5;28mself\u001b[39m, batch):\n\u001b[1;32m    595\u001b[0m     \u001b[38;5;66;03m# Don't delay the application, to avoid keeping the input\u001b[39;00m\n\u001b[1;32m    596\u001b[0m     \u001b[38;5;66;03m# arguments in memory\u001b[39;00m\n\u001b[0;32m--> 597\u001b[0m     \u001b[38;5;28mself\u001b[39m\u001b[38;5;241m.\u001b[39mresults \u001b[38;5;241m=\u001b[39m \u001b[43mbatch\u001b[49m\u001b[43m(\u001b[49m\u001b[43m)\u001b[49m\n",
      "File \u001b[0;32m~/neuefische/MLproject-FraudDetection/.venv/lib/python3.9/site-packages/joblib/parallel.py:288\u001b[0m, in \u001b[0;36mBatchedCalls.__call__\u001b[0;34m(self)\u001b[0m\n\u001b[1;32m    284\u001b[0m \u001b[38;5;28;01mdef\u001b[39;00m \u001b[38;5;21m__call__\u001b[39m(\u001b[38;5;28mself\u001b[39m):\n\u001b[1;32m    285\u001b[0m     \u001b[38;5;66;03m# Set the default nested backend to self._backend but do not set the\u001b[39;00m\n\u001b[1;32m    286\u001b[0m     \u001b[38;5;66;03m# change the default number of processes to -1\u001b[39;00m\n\u001b[1;32m    287\u001b[0m     \u001b[38;5;28;01mwith\u001b[39;00m parallel_backend(\u001b[38;5;28mself\u001b[39m\u001b[38;5;241m.\u001b[39m_backend, n_jobs\u001b[38;5;241m=\u001b[39m\u001b[38;5;28mself\u001b[39m\u001b[38;5;241m.\u001b[39m_n_jobs):\n\u001b[0;32m--> 288\u001b[0m         \u001b[38;5;28;01mreturn\u001b[39;00m [func(\u001b[38;5;241m*\u001b[39margs, \u001b[38;5;241m*\u001b[39m\u001b[38;5;241m*\u001b[39mkwargs)\n\u001b[1;32m    289\u001b[0m                 \u001b[38;5;28;01mfor\u001b[39;00m func, args, kwargs \u001b[38;5;129;01min\u001b[39;00m \u001b[38;5;28mself\u001b[39m\u001b[38;5;241m.\u001b[39mitems]\n",
      "File \u001b[0;32m~/neuefische/MLproject-FraudDetection/.venv/lib/python3.9/site-packages/joblib/parallel.py:288\u001b[0m, in \u001b[0;36m<listcomp>\u001b[0;34m(.0)\u001b[0m\n\u001b[1;32m    284\u001b[0m \u001b[38;5;28;01mdef\u001b[39;00m \u001b[38;5;21m__call__\u001b[39m(\u001b[38;5;28mself\u001b[39m):\n\u001b[1;32m    285\u001b[0m     \u001b[38;5;66;03m# Set the default nested backend to self._backend but do not set the\u001b[39;00m\n\u001b[1;32m    286\u001b[0m     \u001b[38;5;66;03m# change the default number of processes to -1\u001b[39;00m\n\u001b[1;32m    287\u001b[0m     \u001b[38;5;28;01mwith\u001b[39;00m parallel_backend(\u001b[38;5;28mself\u001b[39m\u001b[38;5;241m.\u001b[39m_backend, n_jobs\u001b[38;5;241m=\u001b[39m\u001b[38;5;28mself\u001b[39m\u001b[38;5;241m.\u001b[39m_n_jobs):\n\u001b[0;32m--> 288\u001b[0m         \u001b[38;5;28;01mreturn\u001b[39;00m [\u001b[43mfunc\u001b[49m\u001b[43m(\u001b[49m\u001b[38;5;241;43m*\u001b[39;49m\u001b[43margs\u001b[49m\u001b[43m,\u001b[49m\u001b[43m \u001b[49m\u001b[38;5;241;43m*\u001b[39;49m\u001b[38;5;241;43m*\u001b[39;49m\u001b[43mkwargs\u001b[49m\u001b[43m)\u001b[49m\n\u001b[1;32m    289\u001b[0m                 \u001b[38;5;28;01mfor\u001b[39;00m func, args, kwargs \u001b[38;5;129;01min\u001b[39;00m \u001b[38;5;28mself\u001b[39m\u001b[38;5;241m.\u001b[39mitems]\n",
      "File \u001b[0;32m~/neuefische/MLproject-FraudDetection/.venv/lib/python3.9/site-packages/sklearn/utils/fixes.py:216\u001b[0m, in \u001b[0;36m_FuncWrapper.__call__\u001b[0;34m(self, *args, **kwargs)\u001b[0m\n\u001b[1;32m    214\u001b[0m \u001b[38;5;28;01mdef\u001b[39;00m \u001b[38;5;21m__call__\u001b[39m(\u001b[38;5;28mself\u001b[39m, \u001b[38;5;241m*\u001b[39margs, \u001b[38;5;241m*\u001b[39m\u001b[38;5;241m*\u001b[39mkwargs):\n\u001b[1;32m    215\u001b[0m     \u001b[38;5;28;01mwith\u001b[39;00m config_context(\u001b[38;5;241m*\u001b[39m\u001b[38;5;241m*\u001b[39m\u001b[38;5;28mself\u001b[39m\u001b[38;5;241m.\u001b[39mconfig):\n\u001b[0;32m--> 216\u001b[0m         \u001b[38;5;28;01mreturn\u001b[39;00m \u001b[38;5;28;43mself\u001b[39;49m\u001b[38;5;241;43m.\u001b[39;49m\u001b[43mfunction\u001b[49m\u001b[43m(\u001b[49m\u001b[38;5;241;43m*\u001b[39;49m\u001b[43margs\u001b[49m\u001b[43m,\u001b[49m\u001b[43m \u001b[49m\u001b[38;5;241;43m*\u001b[39;49m\u001b[38;5;241;43m*\u001b[39;49m\u001b[43mkwargs\u001b[49m\u001b[43m)\u001b[49m\n",
      "File \u001b[0;32m~/neuefische/MLproject-FraudDetection/.venv/lib/python3.9/site-packages/sklearn/model_selection/_validation.py:680\u001b[0m, in \u001b[0;36m_fit_and_score\u001b[0;34m(estimator, X, y, scorer, train, test, verbose, parameters, fit_params, return_train_score, return_parameters, return_n_test_samples, return_times, return_estimator, split_progress, candidate_progress, error_score)\u001b[0m\n\u001b[1;32m    678\u001b[0m         estimator\u001b[38;5;241m.\u001b[39mfit(X_train, \u001b[38;5;241m*\u001b[39m\u001b[38;5;241m*\u001b[39mfit_params)\n\u001b[1;32m    679\u001b[0m     \u001b[38;5;28;01melse\u001b[39;00m:\n\u001b[0;32m--> 680\u001b[0m         \u001b[43mestimator\u001b[49m\u001b[38;5;241;43m.\u001b[39;49m\u001b[43mfit\u001b[49m\u001b[43m(\u001b[49m\u001b[43mX_train\u001b[49m\u001b[43m,\u001b[49m\u001b[43m \u001b[49m\u001b[43my_train\u001b[49m\u001b[43m,\u001b[49m\u001b[43m \u001b[49m\u001b[38;5;241;43m*\u001b[39;49m\u001b[38;5;241;43m*\u001b[39;49m\u001b[43mfit_params\u001b[49m\u001b[43m)\u001b[49m\n\u001b[1;32m    682\u001b[0m \u001b[38;5;28;01mexcept\u001b[39;00m \u001b[38;5;167;01mException\u001b[39;00m:\n\u001b[1;32m    683\u001b[0m     \u001b[38;5;66;03m# Note fit time as time until error\u001b[39;00m\n\u001b[1;32m    684\u001b[0m     fit_time \u001b[38;5;241m=\u001b[39m time\u001b[38;5;241m.\u001b[39mtime() \u001b[38;5;241m-\u001b[39m start_time\n",
      "File \u001b[0;32m~/neuefische/MLproject-FraudDetection/.venv/lib/python3.9/site-packages/sklearn/tree/_classes.py:937\u001b[0m, in \u001b[0;36mDecisionTreeClassifier.fit\u001b[0;34m(self, X, y, sample_weight, check_input, X_idx_sorted)\u001b[0m\n\u001b[1;32m    899\u001b[0m \u001b[38;5;28;01mdef\u001b[39;00m \u001b[38;5;21mfit\u001b[39m(\n\u001b[1;32m    900\u001b[0m     \u001b[38;5;28mself\u001b[39m, X, y, sample_weight\u001b[38;5;241m=\u001b[39m\u001b[38;5;28;01mNone\u001b[39;00m, check_input\u001b[38;5;241m=\u001b[39m\u001b[38;5;28;01mTrue\u001b[39;00m, X_idx_sorted\u001b[38;5;241m=\u001b[39m\u001b[38;5;124m\"\u001b[39m\u001b[38;5;124mdeprecated\u001b[39m\u001b[38;5;124m\"\u001b[39m\n\u001b[1;32m    901\u001b[0m ):\n\u001b[1;32m    902\u001b[0m \u001b[38;5;250m    \u001b[39m\u001b[38;5;124;03m\"\"\"Build a decision tree classifier from the training set (X, y).\u001b[39;00m\n\u001b[1;32m    903\u001b[0m \n\u001b[1;32m    904\u001b[0m \u001b[38;5;124;03m    Parameters\u001b[39;00m\n\u001b[0;32m   (...)\u001b[0m\n\u001b[1;32m    934\u001b[0m \u001b[38;5;124;03m        Fitted estimator.\u001b[39;00m\n\u001b[1;32m    935\u001b[0m \u001b[38;5;124;03m    \"\"\"\u001b[39;00m\n\u001b[0;32m--> 937\u001b[0m     \u001b[38;5;28;43msuper\u001b[39;49m\u001b[43m(\u001b[49m\u001b[43m)\u001b[49m\u001b[38;5;241;43m.\u001b[39;49m\u001b[43mfit\u001b[49m\u001b[43m(\u001b[49m\n\u001b[1;32m    938\u001b[0m \u001b[43m        \u001b[49m\u001b[43mX\u001b[49m\u001b[43m,\u001b[49m\n\u001b[1;32m    939\u001b[0m \u001b[43m        \u001b[49m\u001b[43my\u001b[49m\u001b[43m,\u001b[49m\n\u001b[1;32m    940\u001b[0m \u001b[43m        \u001b[49m\u001b[43msample_weight\u001b[49m\u001b[38;5;241;43m=\u001b[39;49m\u001b[43msample_weight\u001b[49m\u001b[43m,\u001b[49m\n\u001b[1;32m    941\u001b[0m \u001b[43m        \u001b[49m\u001b[43mcheck_input\u001b[49m\u001b[38;5;241;43m=\u001b[39;49m\u001b[43mcheck_input\u001b[49m\u001b[43m,\u001b[49m\n\u001b[1;32m    942\u001b[0m \u001b[43m        \u001b[49m\u001b[43mX_idx_sorted\u001b[49m\u001b[38;5;241;43m=\u001b[39;49m\u001b[43mX_idx_sorted\u001b[49m\u001b[43m,\u001b[49m\n\u001b[1;32m    943\u001b[0m \u001b[43m    \u001b[49m\u001b[43m)\u001b[49m\n\u001b[1;32m    944\u001b[0m     \u001b[38;5;28;01mreturn\u001b[39;00m \u001b[38;5;28mself\u001b[39m\n",
      "File \u001b[0;32m~/neuefische/MLproject-FraudDetection/.venv/lib/python3.9/site-packages/sklearn/tree/_classes.py:420\u001b[0m, in \u001b[0;36mBaseDecisionTree.fit\u001b[0;34m(self, X, y, sample_weight, check_input, X_idx_sorted)\u001b[0m\n\u001b[1;32m    409\u001b[0m \u001b[38;5;28;01melse\u001b[39;00m:\n\u001b[1;32m    410\u001b[0m     builder \u001b[38;5;241m=\u001b[39m BestFirstTreeBuilder(\n\u001b[1;32m    411\u001b[0m         splitter,\n\u001b[1;32m    412\u001b[0m         min_samples_split,\n\u001b[0;32m   (...)\u001b[0m\n\u001b[1;32m    417\u001b[0m         \u001b[38;5;28mself\u001b[39m\u001b[38;5;241m.\u001b[39mmin_impurity_decrease,\n\u001b[1;32m    418\u001b[0m     )\n\u001b[0;32m--> 420\u001b[0m \u001b[43mbuilder\u001b[49m\u001b[38;5;241;43m.\u001b[39;49m\u001b[43mbuild\u001b[49m\u001b[43m(\u001b[49m\u001b[38;5;28;43mself\u001b[39;49m\u001b[38;5;241;43m.\u001b[39;49m\u001b[43mtree_\u001b[49m\u001b[43m,\u001b[49m\u001b[43m \u001b[49m\u001b[43mX\u001b[49m\u001b[43m,\u001b[49m\u001b[43m \u001b[49m\u001b[43my\u001b[49m\u001b[43m,\u001b[49m\u001b[43m \u001b[49m\u001b[43msample_weight\u001b[49m\u001b[43m)\u001b[49m\n\u001b[1;32m    422\u001b[0m \u001b[38;5;28;01mif\u001b[39;00m \u001b[38;5;28mself\u001b[39m\u001b[38;5;241m.\u001b[39mn_outputs_ \u001b[38;5;241m==\u001b[39m \u001b[38;5;241m1\u001b[39m \u001b[38;5;129;01mand\u001b[39;00m is_classifier(\u001b[38;5;28mself\u001b[39m):\n\u001b[1;32m    423\u001b[0m     \u001b[38;5;28mself\u001b[39m\u001b[38;5;241m.\u001b[39mn_classes_ \u001b[38;5;241m=\u001b[39m \u001b[38;5;28mself\u001b[39m\u001b[38;5;241m.\u001b[39mn_classes_[\u001b[38;5;241m0\u001b[39m]\n",
      "\u001b[0;31mKeyboardInterrupt\u001b[0m: "
     ]
    }
   ],
   "source": [
    "\n",
    "md = DecisionTreeClassifier(criterion='gini')\n",
    "\n",
    "params = {'criterion': ['gini', 'entropy', 'log_loss'],\n",
    "          'max_depth': np.arange(10, 100),\n",
    "          'min_samples_split': np.arange(2, 9),\n",
    "          'min_samples_leaf': np.arange(1, 5)}\n",
    "\n",
    "gs_f1 = RandomizedSearchCV(md, params, cv=CV, scoring='f1', n_iter=N_ITER).fit(X,y)\n",
    "gs_recall = RandomizedSearchCV(md, params, cv=CV, scoring='recall', n_iter=N_ITER).fit(X,y)\n"
   ]
  },
  {
   "cell_type": "code",
   "execution_count": null,
   "id": "a943a01b",
   "metadata": {},
   "outputs": [],
   "source": [
    "best_tree = gs_f1.best_estimator_\n",
    "\n",
    "best_params_f1 = gs_f1.best_params_\n",
    "print(\"best params for desicion tree f1:\", best_params_f1, sep=\"\\n\")"
   ]
  },
  {
   "cell_type": "code",
   "execution_count": null,
   "id": "d3654f5d",
   "metadata": {},
   "outputs": [],
   "source": [
    "tree_recall = gs_recall.best_estimator_\n",
    "\n",
    "best_params_recall = gs_recall.best_params_\n",
    "print(\"best params for desicion tree recall:\", best_params_recall, sep=\"\\n\")"
   ]
  },
  {
   "cell_type": "code",
   "execution_count": null,
   "id": "eeee930d",
   "metadata": {},
   "outputs": [],
   "source": [
    "pd.Series(best_tree.feature_importances_, index=df.columns).sort_values(ascending=False)"
   ]
  },
  {
   "cell_type": "code",
   "execution_count": null,
   "id": "4a42638c",
   "metadata": {},
   "outputs": [],
   "source": [
    "report(best_tree, df_test, y_test)"
   ]
  },
  {
   "cell_type": "markdown",
   "id": "97d92b0c",
   "metadata": {},
   "source": [
    "## Random Forest"
   ]
  },
  {
   "cell_type": "code",
   "execution_count": null,
   "id": "ddda5e9e",
   "metadata": {},
   "outputs": [],
   "source": [
    "md = RandomForestClassifier(criterion='gini', bootstrap=True, oob_score=True)\n",
    "\n",
    "params = {'n_estimators': np.arange(50, 250, 20),\n",
    "          'criterion': ['gini', 'entropy', 'log_loss'],\n",
    "          'max_depth': np.arange(10, 100),\n",
    "          'min_samples_split': np.arange(2, 9),\n",
    "          'min_samples_leaf': np.arange(1, 5),\n",
    "          'oob_score': [False, True]}\n",
    "\n",
    "gs_f1 = RandomizedSearchCV(md, params, cv=CV, scoring='f1', n_iter=N_ITER).fit(X,y)\n",
    "gs_recall = RandomizedSearchCV(md, params, cv=CV, scoring='recall', n_iter=N_ITER).fit(X,y)"
   ]
  },
  {
   "cell_type": "code",
   "execution_count": null,
   "id": "355416cc",
   "metadata": {},
   "outputs": [],
   "source": [
    "best_rf = gs_f1.best_estimator_\n",
    "\n",
    "best_params_f1 = gs_f1.best_params_\n",
    "print(\"best params for random forest f1:\", best_params_f1, sep=\"\\n\")"
   ]
  },
  {
   "cell_type": "code",
   "execution_count": null,
   "id": "4fcf1319",
   "metadata": {},
   "outputs": [],
   "source": [
    "best_rf_recall = gs_recall.best_estimator_\n",
    "\n",
    "best_params_recall = gs_recall.best_params_\n",
    "print(\"best params for random forest recall:\", best_params_recall, sep=\"\\n\")"
   ]
  },
  {
   "cell_type": "code",
   "execution_count": null,
   "id": "afbb4d30",
   "metadata": {},
   "outputs": [],
   "source": [
    "pd.Series(best_rf.feature_importances_, index=df.columns).sort_values(ascending=False)"
   ]
  },
  {
   "cell_type": "code",
   "execution_count": null,
   "id": "c9079594",
   "metadata": {},
   "outputs": [],
   "source": [
    "report(best_rf, df_test, y_test)"
   ]
  },
  {
   "cell_type": "code",
   "execution_count": 128,
   "id": "07a94c46",
   "metadata": {},
   "outputs": [],
   "source": [
    "#prec 0.54      rec 0.78      f1 0.64  0.87\n",
    "\n",
    "# prec 0.59         0.81            0.68  auc 0.89    (40 depth + 2 engin feats)"
   ]
  },
  {
   "cell_type": "code",
   "execution_count": null,
   "id": "9db18a37",
   "metadata": {},
   "outputs": [],
   "source": [
    "# 0.55      0.80      0.65  0.88  (no engin feats)"
   ]
  }
 ],
 "metadata": {
  "kernelspec": {
   "display_name": "Python 3 (ipykernel)",
   "language": "python",
   "name": "python3"
  },
  "language_info": {
   "codemirror_mode": {
    "name": "ipython",
    "version": 3
   },
   "file_extension": ".py",
   "mimetype": "text/x-python",
   "name": "python",
   "nbconvert_exporter": "python",
   "pygments_lexer": "ipython3",
   "version": "3.9.8"
  }
 },
 "nbformat": 4,
 "nbformat_minor": 5
}
