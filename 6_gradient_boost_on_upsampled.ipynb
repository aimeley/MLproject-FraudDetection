{
 "cells": [
  {
   "cell_type": "markdown",
   "id": "a56295cf",
   "metadata": {},
   "source": [
    "## Features:\n",
    "\n",
    "### Client:\n",
    "\n",
    "- Client_id: Unique id for client\n",
    "- District: District where the client is\n",
    "- Client_catg: Category client belongs to\n",
    "- Region: Area where the client is\n",
    "- Creation_date: Date client joined\n",
    "- Target: fraud:1 , not fraud: 0\n",
    "\n",
    "\n",
    "### Invoice data\n",
    "\n",
    "- Client_id: Unique id for the client\n",
    "- Invoice_date: Date of the invoice\n",
    "- Tarif_type: Type of tax\n",
    "- Counter_number:\n",
    "- Counter_statue: takes up to 5 values such as working fine, not working, on hold statue, ect\n",
    "- Counter_code:\n",
    "- Reading_remarque: notes that the STEG agent takes during his visit to the client (e.g: If the counter shows something wrong, the agent gives a bad score)\n",
    "- Counter_coefficient: An additional coefficient to be added when standard consumption is exceeded\n",
    "- Consommation_level_1: Consumption_level_1\n",
    "- Consommation_level_2: Consumption_level_2\n",
    "- Consommation_level_3: Consumption_level_3\n",
    "- Consommation_level_4: Consumption_level_4\n",
    "- Old_index: Old index\n",
    "- New_index: New index\n",
    "- Months_number: Month number\n",
    "- Counter_type: Type of counter\n"
   ]
  },
  {
   "cell_type": "markdown",
   "id": "a76a0645",
   "metadata": {},
   "source": [
    "## Some findings\n",
    "\n",
    "- the \"test\" = \"competition\" set (no targets there). Therefore must split the \"train\" set into train/test sets\n",
    "\n",
    "- must not aggregate to make a shorter table with customers. Instead predict on TRANSACTIONS. (df.groupby('client_id').nunique())\n",
    "\n",
    "- the proportion of positives is higher in the merged \"transactions\" table than the proportion of positives in the \"clients\" table (0.06 / 0.08).  So you can treat that as \"perturbation\" of positives in order to increase the number of positives (where they are scarse). I.e. this is one more argument in the favour of predicting on transactions  and then aggregating them to get a prediction for a particular customer.\n",
    "\n",
    "- the 'months_number' column does not contain actual months. These values do not correspond to the 'creation_date' or 'invoice_date' columns.  Either keep this columns without any transformation or scaling or delete it completeley. Because the test set contains this kidn of wierd values too.\n",
    "\n",
    "- the features  ['consommation_level_1', 'consommation_level_2', 'consommation_level_3', 'consommation_level_4']   are not very promising (in tearms of building univariate logistic regression on them)\n",
    "\n",
    "- columns 'counter_statue'  is supposed to be integers [0-5] but is of mixed type (object) with some bogus values.  Convert to int, drop the rows with values > 5, because the test set doesnt have any bad values in this column - only the valid integers from 0 to 5\n",
    "\n",
    "- search for a decent baseline model didn't give decent results. Try non-deterministic baseline model based on the prior (i.e. the proportion of positives in the population)\n",
    "\n",
    "- eventually agreed to predict transactions (and not fraudulent clients)\n",
    "\n",
    "- rule-based baseline model on two rules (2005, higher consumption)\n"
   ]
  },
  {
   "cell_type": "code",
   "execution_count": 131,
   "id": "858f48bd",
   "metadata": {},
   "outputs": [],
   "source": [
    "import numpy as np, pandas as pd\n",
    "import matplotlib.pyplot as plt\n",
    "import seaborn as sns\n",
    "\n",
    "from sklearn.metrics import f1_score, roc_auc_score, accuracy_score, classification_report\n",
    "from sklearn.metrics import fbeta_score, confusion_matrix, recall_score, precision_score\n",
    "from sklearn.metrics import make_scorer\n",
    "\n",
    "from sklearn.model_selection import train_test_split, cross_val_predict, cross_val_score\n",
    "\n",
    "from sklearn.preprocessing import OrdinalEncoder\n",
    "from imblearn.over_sampling import SMOTENC\n",
    "\n",
    "from sklearn.ensemble import RandomForestClassifier, GradientBoostingClassifier, AdaBoostClassifier"
   ]
  },
  {
   "cell_type": "code",
   "execution_count": 135,
   "id": "eb2b1882",
   "metadata": {},
   "outputs": [],
   "source": [
    "from warnings import filterwarnings\n",
    "filterwarnings('ignore')"
   ]
  },
  {
   "cell_type": "code",
   "execution_count": 98,
   "id": "582b5e0b",
   "metadata": {},
   "outputs": [],
   "source": [
    "# TODO: random seed\n",
    "..."
   ]
  },
  {
   "cell_type": "code",
   "execution_count": 99,
   "id": "76bb87f7",
   "metadata": {},
   "outputs": [],
   "source": [
    "# feature preprocessing functions\n",
    "\n",
    "def preprocess(feature, data):\n",
    "    functions = {'counter_statue': preprocess_counter_statue}\n",
    "    feature = feature if type(feature) is str else data.name if type(data) is pd.Series else data.columns[feature]\n",
    "    function = functions[feature]\n",
    "    return function(data)\n",
    "\n",
    "    \n",
    "# preprocess 'counter_statue'\n",
    "def preprocess_counter_statue(data):\n",
    "    col = 'counter_statue'\n",
    "    sr = data[col].astype(str)\n",
    "    mask = sr.isin(list(\"012345\"))\n",
    "    sr[~mask] = sr[mask].mode().values[0]\n",
    "    data[col] = sr.astype(int)\n"
   ]
  },
  {
   "cell_type": "code",
   "execution_count": 100,
   "id": "882f4079",
   "metadata": {},
   "outputs": [],
   "source": [
    "path1 = \"data/train/client_train.csv\"\n",
    "path2 = \"data/train/invoice_train.csv\"\n",
    "\n",
    "path3 = \"data/test/client_test.csv\"\n",
    "path4 = \"data/test/invoice_test.csv\""
   ]
  },
  {
   "cell_type": "code",
   "execution_count": 101,
   "id": "f6746538",
   "metadata": {},
   "outputs": [],
   "source": [
    "# load the data\n",
    "\n",
    "df1 = pd.read_csv(path1)\n",
    "df2 = pd.read_csv(path2, low_memory=False)     # low_memory=False\n",
    "\n",
    "df3 = pd.read_csv(path3)\n",
    "df4 = pd.read_csv(path4)"
   ]
  },
  {
   "cell_type": "code",
   "execution_count": 102,
   "id": "01588cb6",
   "metadata": {},
   "outputs": [],
   "source": [
    "# join tables\n",
    "\n",
    "# data from the \"train\" folder (will have to be split into train/test)\n",
    "df_entire = df1.merge(df2, left_on='client_id', right_on='client_id', how='outer')\n",
    "\n",
    "# data from the \"test\" folder (doesn't contain targets)\n",
    "df_test_zindi = df3.merge(df4, left_on='client_id', right_on='client_id', how='outer')\n"
   ]
  },
  {
   "cell_type": "code",
   "execution_count": 103,
   "id": "ce0a0b76",
   "metadata": {},
   "outputs": [],
   "source": [
    "# converts all values to int, fills bad values with the mode\n",
    "preprocess('counter_statue', df_entire)"
   ]
  },
  {
   "cell_type": "code",
   "execution_count": 104,
   "id": "d4b85a77",
   "metadata": {},
   "outputs": [],
   "source": [
    "# feature engineering \n",
    "\n",
    "df_entire['year_created'] = pd.to_datetime(df_entire['creation_date'],\n",
    "                                           format=\"%d/%m/%Y\").dt.year\n",
    "dates = pd.to_datetime(df_entire['invoice_date'])\n",
    "df_entire['invoice_year'] = dates.dt.year\n",
    "df_entire['invoice_month'] = dates.dt.month\n",
    "df_entire['invoice_weekday'] = dates.dt.weekday"
   ]
  },
  {
   "cell_type": "code",
   "execution_count": 105,
   "id": "ecd00507",
   "metadata": {},
   "outputs": [],
   "source": [
    "# drop the observations before 2005\n",
    "\n",
    "YEAR = 2005\n",
    "df_entire.drop(df_entire.index[df_entire['invoice_year'] < YEAR], axis=0, inplace=True)\n",
    "\n",
    "# reset index\n",
    "df_entire.reset_index(drop=True, inplace=True)"
   ]
  },
  {
   "cell_type": "code",
   "execution_count": 106,
   "id": "0b13e436",
   "metadata": {},
   "outputs": [],
   "source": [
    "# enlabel 'counter_type'\n",
    "\n",
    "df_entire['counter_type'], _ = pd.factorize(df_entire['counter_type'])"
   ]
  },
  {
   "cell_type": "code",
   "execution_count": 107,
   "id": "5cf13280",
   "metadata": {},
   "outputs": [],
   "source": [
    "# drop these columns\n",
    "\n",
    "cols = [\n",
    "    'disrict', 'client_id', 'creation_date', 'invoice_date', 'old_index', 'months_number',\n",
    "    # drop more\n",
    "    'client_catg', 'counter_statue', 'reading_remarque', 'counter_coefficient','counter_type'\n",
    "        ]\n",
    "\n",
    "df_entire.drop(cols, axis=1, inplace=True)"
   ]
  },
  {
   "cell_type": "markdown",
   "id": "704da15c",
   "metadata": {},
   "source": [
    "## Separate X, y"
   ]
  },
  {
   "cell_type": "code",
   "execution_count": 108,
   "id": "ac5471bc",
   "metadata": {},
   "outputs": [],
   "source": [
    "y_entire = df_entire.pop('target')"
   ]
  },
  {
   "cell_type": "markdown",
   "id": "9ed2b9e9",
   "metadata": {},
   "source": [
    "## Encode"
   ]
  },
  {
   "cell_type": "code",
   "execution_count": 109,
   "id": "0686fc27",
   "metadata": {},
   "outputs": [],
   "source": [
    "categoricals = [col for col in df_entire.columns if df_entire[col].nunique() < 20]\n",
    "non_cats = [col for col in df_entire.columns if df_entire[col].nunique() >= 20]"
   ]
  },
  {
   "cell_type": "code",
   "execution_count": 110,
   "id": "1fd3b16e",
   "metadata": {},
   "outputs": [],
   "source": [
    "#enc = OrdinalEncoder().fit(df_entire[categoricals])\n",
    "nd_cats_encoded = OrdinalEncoder().fit_transform(df_entire[categoricals]).astype(int)"
   ]
  },
  {
   "cell_type": "code",
   "execution_count": 111,
   "id": "f89b3d16",
   "metadata": {},
   "outputs": [
    {
     "data": {
      "text/html": [
       "<div>\n",
       "<style scoped>\n",
       "    .dataframe tbody tr th:only-of-type {\n",
       "        vertical-align: middle;\n",
       "    }\n",
       "\n",
       "    .dataframe tbody tr th {\n",
       "        vertical-align: top;\n",
       "    }\n",
       "\n",
       "    .dataframe thead th {\n",
       "        text-align: right;\n",
       "    }\n",
       "</style>\n",
       "<table border=\"1\" class=\"dataframe\">\n",
       "  <thead>\n",
       "    <tr style=\"text-align: right;\">\n",
       "      <th></th>\n",
       "      <th>tarif_type</th>\n",
       "      <th>invoice_year</th>\n",
       "      <th>invoice_month</th>\n",
       "      <th>invoice_weekday</th>\n",
       "      <th>region</th>\n",
       "      <th>counter_number</th>\n",
       "      <th>counter_code</th>\n",
       "      <th>consommation_level_1</th>\n",
       "      <th>consommation_level_2</th>\n",
       "      <th>consommation_level_3</th>\n",
       "      <th>consommation_level_4</th>\n",
       "      <th>new_index</th>\n",
       "      <th>year_created</th>\n",
       "    </tr>\n",
       "  </thead>\n",
       "  <tbody>\n",
       "    <tr>\n",
       "      <th>0</th>\n",
       "      <td>3</td>\n",
       "      <td>9</td>\n",
       "      <td>2</td>\n",
       "      <td>0</td>\n",
       "      <td>101</td>\n",
       "      <td>1335667</td>\n",
       "      <td>203</td>\n",
       "      <td>82</td>\n",
       "      <td>0</td>\n",
       "      <td>0</td>\n",
       "      <td>0</td>\n",
       "      <td>14384</td>\n",
       "      <td>1994</td>\n",
       "    </tr>\n",
       "    <tr>\n",
       "      <th>1</th>\n",
       "      <td>3</td>\n",
       "      <td>8</td>\n",
       "      <td>2</td>\n",
       "      <td>4</td>\n",
       "      <td>101</td>\n",
       "      <td>1335667</td>\n",
       "      <td>203</td>\n",
       "      <td>1200</td>\n",
       "      <td>184</td>\n",
       "      <td>0</td>\n",
       "      <td>0</td>\n",
       "      <td>13678</td>\n",
       "      <td>1994</td>\n",
       "    </tr>\n",
       "    <tr>\n",
       "      <th>2</th>\n",
       "      <td>3</td>\n",
       "      <td>10</td>\n",
       "      <td>2</td>\n",
       "      <td>0</td>\n",
       "      <td>101</td>\n",
       "      <td>1335667</td>\n",
       "      <td>203</td>\n",
       "      <td>123</td>\n",
       "      <td>0</td>\n",
       "      <td>0</td>\n",
       "      <td>0</td>\n",
       "      <td>14747</td>\n",
       "      <td>1994</td>\n",
       "    </tr>\n",
       "    <tr>\n",
       "      <th>3</th>\n",
       "      <td>3</td>\n",
       "      <td>10</td>\n",
       "      <td>6</td>\n",
       "      <td>0</td>\n",
       "      <td>101</td>\n",
       "      <td>1335667</td>\n",
       "      <td>207</td>\n",
       "      <td>102</td>\n",
       "      <td>0</td>\n",
       "      <td>0</td>\n",
       "      <td>0</td>\n",
       "      <td>14849</td>\n",
       "      <td>1994</td>\n",
       "    </tr>\n",
       "    <tr>\n",
       "      <th>4</th>\n",
       "      <td>3</td>\n",
       "      <td>11</td>\n",
       "      <td>10</td>\n",
       "      <td>3</td>\n",
       "      <td>101</td>\n",
       "      <td>1335667</td>\n",
       "      <td>207</td>\n",
       "      <td>572</td>\n",
       "      <td>0</td>\n",
       "      <td>0</td>\n",
       "      <td>0</td>\n",
       "      <td>15638</td>\n",
       "      <td>1994</td>\n",
       "    </tr>\n",
       "  </tbody>\n",
       "</table>\n",
       "</div>"
      ],
      "text/plain": [
       "   tarif_type  invoice_year  invoice_month  invoice_weekday  region  \\\n",
       "0           3             9              2                0     101   \n",
       "1           3             8              2                4     101   \n",
       "2           3            10              2                0     101   \n",
       "3           3            10              6                0     101   \n",
       "4           3            11             10                3     101   \n",
       "\n",
       "   counter_number  counter_code  consommation_level_1  consommation_level_2  \\\n",
       "0         1335667           203                    82                     0   \n",
       "1         1335667           203                  1200                   184   \n",
       "2         1335667           203                   123                     0   \n",
       "3         1335667           207                   102                     0   \n",
       "4         1335667           207                   572                     0   \n",
       "\n",
       "   consommation_level_3  consommation_level_4  new_index  year_created  \n",
       "0                     0                     0      14384          1994  \n",
       "1                     0                     0      13678          1994  \n",
       "2                     0                     0      14747          1994  \n",
       "3                     0                     0      14849          1994  \n",
       "4                     0                     0      15638          1994  "
      ]
     },
     "execution_count": 111,
     "metadata": {},
     "output_type": "execute_result"
    }
   ],
   "source": [
    "df_entire = pd.concat([pd.DataFrame(nd_cats_encoded, \n",
    "                                           columns=categoricals,\n",
    "                                          index=df_entire.index), \n",
    "                              df_entire[non_cats]], axis=1)\n",
    "\n",
    "df_entire.head()"
   ]
  },
  {
   "cell_type": "markdown",
   "id": "b427f20c",
   "metadata": {},
   "source": [
    "## Split the data"
   ]
  },
  {
   "cell_type": "code",
   "execution_count": 112,
   "id": "ec581121",
   "metadata": {},
   "outputs": [],
   "source": [
    "df_train, df_test, y_train, y_test = train_test_split(df_entire, y_entire, \n",
    "                                                      test_size=0.2, stratify=y_entire)\n",
    "Xtrain = df_train.values\n",
    "Xtest = df_test.values\n",
    "ytrain = y_train.values\n",
    "ytest = y_test.values\n"
   ]
  },
  {
   "cell_type": "markdown",
   "id": "2de7725b",
   "metadata": {},
   "source": [
    "## Upsample data with SMOTE"
   ]
  },
  {
   "cell_type": "markdown",
   "id": "ccdb5365",
   "metadata": {},
   "source": [
    "### sample before SMOTE"
   ]
  },
  {
   "cell_type": "code",
   "execution_count": 113,
   "id": "a298d51f",
   "metadata": {},
   "outputs": [],
   "source": [
    "train_size = 0.2    # 0.99    for final training\n",
    "\n",
    "df_sample, df_val, y_sample, y_val = train_test_split(df_train, y_train, \n",
    "                                                      train_size=train_size, stratify=y_train)"
   ]
  },
  {
   "cell_type": "code",
   "execution_count": 114,
   "id": "46278793",
   "metadata": {},
   "outputs": [
    {
     "data": {
      "text/html": [
       "<div>\n",
       "<style scoped>\n",
       "    .dataframe tbody tr th:only-of-type {\n",
       "        vertical-align: middle;\n",
       "    }\n",
       "\n",
       "    .dataframe tbody tr th {\n",
       "        vertical-align: top;\n",
       "    }\n",
       "\n",
       "    .dataframe thead th {\n",
       "        text-align: right;\n",
       "    }\n",
       "</style>\n",
       "<table border=\"1\" class=\"dataframe\">\n",
       "  <thead>\n",
       "    <tr style=\"text-align: right;\">\n",
       "      <th></th>\n",
       "      <th>tarif_type</th>\n",
       "      <th>invoice_year</th>\n",
       "      <th>invoice_month</th>\n",
       "      <th>invoice_weekday</th>\n",
       "      <th>region</th>\n",
       "      <th>counter_number</th>\n",
       "      <th>counter_code</th>\n",
       "      <th>consommation_level_1</th>\n",
       "      <th>consommation_level_2</th>\n",
       "      <th>consommation_level_3</th>\n",
       "      <th>consommation_level_4</th>\n",
       "      <th>new_index</th>\n",
       "      <th>year_created</th>\n",
       "    </tr>\n",
       "  </thead>\n",
       "  <tbody>\n",
       "    <tr>\n",
       "      <th>3584144</th>\n",
       "      <td>13</td>\n",
       "      <td>14</td>\n",
       "      <td>1</td>\n",
       "      <td>4</td>\n",
       "      <td>306</td>\n",
       "      <td>339511</td>\n",
       "      <td>5</td>\n",
       "      <td>75</td>\n",
       "      <td>0</td>\n",
       "      <td>0</td>\n",
       "      <td>0</td>\n",
       "      <td>1419</td>\n",
       "      <td>2001</td>\n",
       "    </tr>\n",
       "    <tr>\n",
       "      <th>3931611</th>\n",
       "      <td>13</td>\n",
       "      <td>11</td>\n",
       "      <td>6</td>\n",
       "      <td>2</td>\n",
       "      <td>103</td>\n",
       "      <td>4883508</td>\n",
       "      <td>5</td>\n",
       "      <td>0</td>\n",
       "      <td>0</td>\n",
       "      <td>0</td>\n",
       "      <td>0</td>\n",
       "      <td>1</td>\n",
       "      <td>2015</td>\n",
       "    </tr>\n",
       "    <tr>\n",
       "      <th>2173263</th>\n",
       "      <td>3</td>\n",
       "      <td>7</td>\n",
       "      <td>1</td>\n",
       "      <td>4</td>\n",
       "      <td>303</td>\n",
       "      <td>79645</td>\n",
       "      <td>413</td>\n",
       "      <td>342</td>\n",
       "      <td>0</td>\n",
       "      <td>0</td>\n",
       "      <td>0</td>\n",
       "      <td>8992</td>\n",
       "      <td>2003</td>\n",
       "    </tr>\n",
       "    <tr>\n",
       "      <th>2860252</th>\n",
       "      <td>3</td>\n",
       "      <td>12</td>\n",
       "      <td>10</td>\n",
       "      <td>3</td>\n",
       "      <td>301</td>\n",
       "      <td>2168701822800</td>\n",
       "      <td>413</td>\n",
       "      <td>155</td>\n",
       "      <td>0</td>\n",
       "      <td>0</td>\n",
       "      <td>0</td>\n",
       "      <td>155</td>\n",
       "      <td>2017</td>\n",
       "    </tr>\n",
       "    <tr>\n",
       "      <th>3809100</th>\n",
       "      <td>13</td>\n",
       "      <td>13</td>\n",
       "      <td>5</td>\n",
       "      <td>2</td>\n",
       "      <td>313</td>\n",
       "      <td>0</td>\n",
       "      <td>5</td>\n",
       "      <td>0</td>\n",
       "      <td>0</td>\n",
       "      <td>0</td>\n",
       "      <td>0</td>\n",
       "      <td>0</td>\n",
       "      <td>2012</td>\n",
       "    </tr>\n",
       "  </tbody>\n",
       "</table>\n",
       "</div>"
      ],
      "text/plain": [
       "         tarif_type  invoice_year  invoice_month  invoice_weekday  region  \\\n",
       "3584144          13            14              1                4     306   \n",
       "3931611          13            11              6                2     103   \n",
       "2173263           3             7              1                4     303   \n",
       "2860252           3            12             10                3     301   \n",
       "3809100          13            13              5                2     313   \n",
       "\n",
       "         counter_number  counter_code  consommation_level_1  \\\n",
       "3584144          339511             5                    75   \n",
       "3931611         4883508             5                     0   \n",
       "2173263           79645           413                   342   \n",
       "2860252   2168701822800           413                   155   \n",
       "3809100               0             5                     0   \n",
       "\n",
       "         consommation_level_2  consommation_level_3  consommation_level_4  \\\n",
       "3584144                     0                     0                     0   \n",
       "3931611                     0                     0                     0   \n",
       "2173263                     0                     0                     0   \n",
       "2860252                     0                     0                     0   \n",
       "3809100                     0                     0                     0   \n",
       "\n",
       "         new_index  year_created  \n",
       "3584144       1419          2001  \n",
       "3931611          1          2015  \n",
       "2173263       8992          2003  \n",
       "2860252        155          2017  \n",
       "3809100          0          2012  "
      ]
     },
     "execution_count": 114,
     "metadata": {},
     "output_type": "execute_result"
    }
   ],
   "source": [
    "df_sample.head()"
   ]
  },
  {
   "cell_type": "code",
   "execution_count": 115,
   "id": "104c943d",
   "metadata": {},
   "outputs": [
    {
     "data": {
      "text/html": [
       "<div>\n",
       "<style scoped>\n",
       "    .dataframe tbody tr th:only-of-type {\n",
       "        vertical-align: middle;\n",
       "    }\n",
       "\n",
       "    .dataframe tbody tr th {\n",
       "        vertical-align: top;\n",
       "    }\n",
       "\n",
       "    .dataframe thead th {\n",
       "        text-align: right;\n",
       "    }\n",
       "</style>\n",
       "<table border=\"1\" class=\"dataframe\">\n",
       "  <thead>\n",
       "    <tr style=\"text-align: right;\">\n",
       "      <th></th>\n",
       "      <th>tarif_type</th>\n",
       "      <th>invoice_year</th>\n",
       "      <th>invoice_month</th>\n",
       "      <th>invoice_weekday</th>\n",
       "      <th>region</th>\n",
       "      <th>counter_number</th>\n",
       "      <th>counter_code</th>\n",
       "      <th>consommation_level_1</th>\n",
       "      <th>consommation_level_2</th>\n",
       "      <th>consommation_level_3</th>\n",
       "      <th>consommation_level_4</th>\n",
       "      <th>new_index</th>\n",
       "      <th>year_created</th>\n",
       "    </tr>\n",
       "  </thead>\n",
       "  <tbody>\n",
       "    <tr>\n",
       "      <th>738269</th>\n",
       "      <td>2</td>\n",
       "      <td>2</td>\n",
       "      <td>11</td>\n",
       "      <td>4</td>\n",
       "      <td>101</td>\n",
       "      <td>9522292</td>\n",
       "      <td>202</td>\n",
       "      <td>200</td>\n",
       "      <td>341</td>\n",
       "      <td>0</td>\n",
       "      <td>0</td>\n",
       "      <td>51419</td>\n",
       "      <td>1978</td>\n",
       "    </tr>\n",
       "    <tr>\n",
       "      <th>738270</th>\n",
       "      <td>3</td>\n",
       "      <td>13</td>\n",
       "      <td>11</td>\n",
       "      <td>3</td>\n",
       "      <td>225</td>\n",
       "      <td>19701</td>\n",
       "      <td>203</td>\n",
       "      <td>800</td>\n",
       "      <td>338</td>\n",
       "      <td>208</td>\n",
       "      <td>0</td>\n",
       "      <td>11667</td>\n",
       "      <td>1983</td>\n",
       "    </tr>\n",
       "    <tr>\n",
       "      <th>738271</th>\n",
       "      <td>3</td>\n",
       "      <td>9</td>\n",
       "      <td>5</td>\n",
       "      <td>4</td>\n",
       "      <td>301</td>\n",
       "      <td>553643</td>\n",
       "      <td>206</td>\n",
       "      <td>435</td>\n",
       "      <td>0</td>\n",
       "      <td>0</td>\n",
       "      <td>0</td>\n",
       "      <td>16555</td>\n",
       "      <td>2001</td>\n",
       "    </tr>\n",
       "    <tr>\n",
       "      <th>738272</th>\n",
       "      <td>3</td>\n",
       "      <td>11</td>\n",
       "      <td>11</td>\n",
       "      <td>4</td>\n",
       "      <td>313</td>\n",
       "      <td>306583</td>\n",
       "      <td>203</td>\n",
       "      <td>192</td>\n",
       "      <td>0</td>\n",
       "      <td>0</td>\n",
       "      <td>0</td>\n",
       "      <td>3412</td>\n",
       "      <td>2012</td>\n",
       "    </tr>\n",
       "    <tr>\n",
       "      <th>738273</th>\n",
       "      <td>3</td>\n",
       "      <td>13</td>\n",
       "      <td>4</td>\n",
       "      <td>2</td>\n",
       "      <td>324</td>\n",
       "      <td>2175702237817</td>\n",
       "      <td>205</td>\n",
       "      <td>499</td>\n",
       "      <td>0</td>\n",
       "      <td>0</td>\n",
       "      <td>0</td>\n",
       "      <td>3957</td>\n",
       "      <td>1993</td>\n",
       "    </tr>\n",
       "  </tbody>\n",
       "</table>\n",
       "</div>"
      ],
      "text/plain": [
       "        tarif_type  invoice_year  invoice_month  invoice_weekday  region  \\\n",
       "738269           2             2             11                4     101   \n",
       "738270           3            13             11                3     225   \n",
       "738271           3             9              5                4     301   \n",
       "738272           3            11             11                4     313   \n",
       "738273           3            13              4                2     324   \n",
       "\n",
       "        counter_number  counter_code  consommation_level_1  \\\n",
       "738269         9522292           202                   200   \n",
       "738270           19701           203                   800   \n",
       "738271          553643           206                   435   \n",
       "738272          306583           203                   192   \n",
       "738273   2175702237817           205                   499   \n",
       "\n",
       "        consommation_level_2  consommation_level_3  consommation_level_4  \\\n",
       "738269                   341                     0                     0   \n",
       "738270                   338                   208                     0   \n",
       "738271                     0                     0                     0   \n",
       "738272                     0                     0                     0   \n",
       "738273                     0                     0                     0   \n",
       "\n",
       "        new_index  year_created  \n",
       "738269      51419          1978  \n",
       "738270      11667          1983  \n",
       "738271      16555          2001  \n",
       "738272       3412          2012  \n",
       "738273       3957          1993  "
      ]
     },
     "execution_count": 115,
     "metadata": {},
     "output_type": "execute_result"
    }
   ],
   "source": [
    "sm = SMOTENC(categorical_features=list(range(len(categoricals))),\n",
    "             k_neighbors=3,\n",
    "            sampling_strategy=0.9)\n",
    "df_smote, y_smote = sm.fit_resample(df_sample, y_sample)\n",
    "\n",
    "df_smote.tail(5)"
   ]
  },
  {
   "cell_type": "code",
   "execution_count": 116,
   "id": "288cb07c",
   "metadata": {},
   "outputs": [
    {
     "data": {
      "text/plain": [
       "0.3333328818297814"
      ]
     },
     "execution_count": 116,
     "metadata": {},
     "output_type": "execute_result"
    }
   ],
   "source": [
    "y_smote.sum() / len(y_smote)"
   ]
  },
  {
   "cell_type": "code",
   "execution_count": 117,
   "id": "24d92937",
   "metadata": {},
   "outputs": [],
   "source": [
    "# re-assign for convenience\n",
    "df, y = df_smote, y_smote\n",
    "X,y = df_smote.values, y_smote.values"
   ]
  },
  {
   "cell_type": "markdown",
   "id": "451b67e1",
   "metadata": {},
   "source": [
    "## Feature Selection\n",
    "\n",
    "### features to use:"
   ]
  },
  {
   "cell_type": "code",
   "execution_count": 118,
   "id": "418d7f79",
   "metadata": {},
   "outputs": [],
   "source": [
    "\"\"\"\n",
    "region                  0.230020\n",
    "counter_number          0.184581\n",
    "year_created            0.068360\n",
    "interaction             0.061893\n",
    "ratio                   0.057657\n",
    "new_index               0.055945\n",
    "counter_code            0.040542\n",
    "consommation_level_1    0.038644\n",
    "invoice_year            0.037021\n",
    "invoice_month           0.029143\n",
    "invoice_weekday         0.020443\n",
    "tarif_type              0.019677\n",
    "\"\"\";"
   ]
  },
  {
   "cell_type": "markdown",
   "id": "0ad4c421",
   "metadata": {},
   "source": [
    "## Feature engineering"
   ]
  },
  {
   "cell_type": "code",
   "execution_count": 119,
   "id": "9d2ab553",
   "metadata": {},
   "outputs": [],
   "source": [
    "\n",
    "def feature_engineer(df):\n",
    "    df['ratio'] = (df['counter_number'] / df['new_index']).fillna(0).replace((-np.inf, np.inf), 0)\n",
    "    df['interaction'] = np.log( (df['counter_number'] * df['new_index']).fillna(0).replace((-np.inf, np.inf), 0)).fillna(0).replace((-np.inf, np.inf), 0)\n",
    "    return df"
   ]
  },
  {
   "cell_type": "code",
   "execution_count": 120,
   "id": "b184c4ce",
   "metadata": {},
   "outputs": [
    {
     "name": "stderr",
     "output_type": "stream",
     "text": [
      "/Users/user/neuefische/MLproject-FraudDetection/.venv/lib/python3.9/site-packages/pandas/core/arraylike.py:402: RuntimeWarning: divide by zero encountered in log\n",
      "  result = getattr(ufunc, method)(*inputs, **kwargs)\n",
      "/Users/user/neuefische/MLproject-FraudDetection/.venv/lib/python3.9/site-packages/pandas/core/arraylike.py:402: RuntimeWarning: divide by zero encountered in log\n",
      "  result = getattr(ufunc, method)(*inputs, **kwargs)\n",
      "/Users/user/neuefische/MLproject-FraudDetection/.venv/lib/python3.9/site-packages/pandas/core/arraylike.py:402: RuntimeWarning: divide by zero encountered in log\n",
      "  result = getattr(ufunc, method)(*inputs, **kwargs)\n"
     ]
    },
    {
     "data": {
      "text/html": [
       "<div>\n",
       "<style scoped>\n",
       "    .dataframe tbody tr th:only-of-type {\n",
       "        vertical-align: middle;\n",
       "    }\n",
       "\n",
       "    .dataframe tbody tr th {\n",
       "        vertical-align: top;\n",
       "    }\n",
       "\n",
       "    .dataframe thead th {\n",
       "        text-align: right;\n",
       "    }\n",
       "</style>\n",
       "<table border=\"1\" class=\"dataframe\">\n",
       "  <thead>\n",
       "    <tr style=\"text-align: right;\">\n",
       "      <th></th>\n",
       "      <th>tarif_type</th>\n",
       "      <th>invoice_year</th>\n",
       "      <th>invoice_month</th>\n",
       "      <th>invoice_weekday</th>\n",
       "      <th>region</th>\n",
       "      <th>counter_number</th>\n",
       "      <th>counter_code</th>\n",
       "      <th>consommation_level_1</th>\n",
       "      <th>consommation_level_2</th>\n",
       "      <th>consommation_level_3</th>\n",
       "      <th>consommation_level_4</th>\n",
       "      <th>new_index</th>\n",
       "      <th>year_created</th>\n",
       "      <th>ratio</th>\n",
       "      <th>interaction</th>\n",
       "    </tr>\n",
       "  </thead>\n",
       "  <tbody>\n",
       "    <tr>\n",
       "      <th>3580164</th>\n",
       "      <td>13</td>\n",
       "      <td>4</td>\n",
       "      <td>5</td>\n",
       "      <td>0</td>\n",
       "      <td>101</td>\n",
       "      <td>102094</td>\n",
       "      <td>5</td>\n",
       "      <td>138</td>\n",
       "      <td>0</td>\n",
       "      <td>0</td>\n",
       "      <td>0</td>\n",
       "      <td>1771</td>\n",
       "      <td>1988</td>\n",
       "      <td>57.647657</td>\n",
       "      <td>19.012949</td>\n",
       "    </tr>\n",
       "    <tr>\n",
       "      <th>1238594</th>\n",
       "      <td>13</td>\n",
       "      <td>10</td>\n",
       "      <td>8</td>\n",
       "      <td>4</td>\n",
       "      <td>313</td>\n",
       "      <td>6983911</td>\n",
       "      <td>5</td>\n",
       "      <td>55</td>\n",
       "      <td>0</td>\n",
       "      <td>0</td>\n",
       "      <td>0</td>\n",
       "      <td>1187</td>\n",
       "      <td>2004</td>\n",
       "      <td>5883.665543</td>\n",
       "      <td>22.838304</td>\n",
       "    </tr>\n",
       "    <tr>\n",
       "      <th>4231640</th>\n",
       "      <td>2</td>\n",
       "      <td>10</td>\n",
       "      <td>10</td>\n",
       "      <td>3</td>\n",
       "      <td>101</td>\n",
       "      <td>474973</td>\n",
       "      <td>202</td>\n",
       "      <td>140</td>\n",
       "      <td>0</td>\n",
       "      <td>0</td>\n",
       "      <td>0</td>\n",
       "      <td>9110</td>\n",
       "      <td>2001</td>\n",
       "      <td>52.137541</td>\n",
       "      <td>22.188141</td>\n",
       "    </tr>\n",
       "    <tr>\n",
       "      <th>2520407</th>\n",
       "      <td>2</td>\n",
       "      <td>6</td>\n",
       "      <td>4</td>\n",
       "      <td>3</td>\n",
       "      <td>104</td>\n",
       "      <td>9532931</td>\n",
       "      <td>202</td>\n",
       "      <td>400</td>\n",
       "      <td>1367</td>\n",
       "      <td>0</td>\n",
       "      <td>0</td>\n",
       "      <td>57578</td>\n",
       "      <td>1978</td>\n",
       "      <td>165.565511</td>\n",
       "      <td>27.031159</td>\n",
       "    </tr>\n",
       "    <tr>\n",
       "      <th>128750</th>\n",
       "      <td>13</td>\n",
       "      <td>5</td>\n",
       "      <td>7</td>\n",
       "      <td>0</td>\n",
       "      <td>301</td>\n",
       "      <td>658598</td>\n",
       "      <td>5</td>\n",
       "      <td>27</td>\n",
       "      <td>0</td>\n",
       "      <td>0</td>\n",
       "      <td>0</td>\n",
       "      <td>3927</td>\n",
       "      <td>2009</td>\n",
       "      <td>167.710211</td>\n",
       "      <td>21.673500</td>\n",
       "    </tr>\n",
       "  </tbody>\n",
       "</table>\n",
       "</div>"
      ],
      "text/plain": [
       "         tarif_type  invoice_year  invoice_month  invoice_weekday  region  \\\n",
       "3580164          13             4              5                0     101   \n",
       "1238594          13            10              8                4     313   \n",
       "4231640           2            10             10                3     101   \n",
       "2520407           2             6              4                3     104   \n",
       "128750           13             5              7                0     301   \n",
       "\n",
       "         counter_number  counter_code  consommation_level_1  \\\n",
       "3580164          102094             5                   138   \n",
       "1238594         6983911             5                    55   \n",
       "4231640          474973           202                   140   \n",
       "2520407         9532931           202                   400   \n",
       "128750           658598             5                    27   \n",
       "\n",
       "         consommation_level_2  consommation_level_3  consommation_level_4  \\\n",
       "3580164                     0                     0                     0   \n",
       "1238594                     0                     0                     0   \n",
       "4231640                     0                     0                     0   \n",
       "2520407                  1367                     0                     0   \n",
       "128750                      0                     0                     0   \n",
       "\n",
       "         new_index  year_created        ratio  interaction  \n",
       "3580164       1771          1988    57.647657    19.012949  \n",
       "1238594       1187          2004  5883.665543    22.838304  \n",
       "4231640       9110          2001    52.137541    22.188141  \n",
       "2520407      57578          1978   165.565511    27.031159  \n",
       "128750        3927          2009   167.710211    21.673500  "
      ]
     },
     "execution_count": 120,
     "metadata": {},
     "output_type": "execute_result"
    }
   ],
   "source": [
    "df = feature_engineer(df)\n",
    "df_val = feature_engineer(df_val)\n",
    "df_test = feature_engineer(df_test)\n",
    "\n",
    "X = df.values\n",
    "\n",
    "df_test.head()"
   ]
  },
  {
   "cell_type": "code",
   "execution_count": 132,
   "id": "1441cba8",
   "metadata": {},
   "outputs": [],
   "source": [
    "# function printing model report\n",
    "def report(model, X,y, Xtest=None, ytest=None):\n",
    "    CV=3\n",
    "    ytrue = y\n",
    "    \n",
    "    \"\"\"\n",
    "    ypred = cross_val_predict(model, X,y, cv=CV)\n",
    "    print(\"Train set:\")\n",
    "    print(classification_report(ytrue, ypred))\n",
    "    \"\"\"\n",
    "    \n",
    "    # f1\n",
    "    #f1 = cross_val_score(model, X,y, scoring='f1', cv=CV)\n",
    "    #print(\"f1:\", f1.round(3), f1.mean().round(3))\n",
    "\n",
    "    # f2\n",
    "    scorer = make_scorer(fbeta_score, beta=2)\n",
    "    #f2 = cross_val_score(model, X,y, scoring=scorer, cv=CV)\n",
    "    #print(\"f2:\", f2.round(3), f2.mean().round(3))\n",
    "\n",
    "    # AUC\n",
    "    #ppred = cross_val_predict(model, X,y, cv=CV, method='predict_proba')[:,-1]\n",
    "    #auc = roc_auc_score(ytrue, ppred)\n",
    "    #print(\"AUC =\", auc.round(2))\n",
    "    #print(\"---\"*20)\n",
    "    \n",
    "    if Xtest is not None and ytest is not None:\n",
    "        print(\"\\nTest set:\")\n",
    "        ypred = model.predict(Xtest)\n",
    "        print(classification_report(ytest, ypred))\n",
    "        \n",
    "        probs = model.predict_proba(Xtest)[:,-1]\n",
    "        auc = roc_auc_score(ytest, probs)\n",
    "        print(\"AUC =\", auc.round(2))\n",
    " "
   ]
  },
  {
   "cell_type": "code",
   "execution_count": null,
   "id": "ce0d04fe",
   "metadata": {},
   "outputs": [],
   "source": []
  },
  {
   "cell_type": "markdown",
   "id": "5d5d8c3b",
   "metadata": {},
   "source": [
    "## AdaBoost"
   ]
  },
  {
   "cell_type": "code",
   "execution_count": 133,
   "id": "31d938c4",
   "metadata": {},
   "outputs": [
    {
     "data": {
      "text/plain": [
       "region                  0.46\n",
       "counter_code            0.26\n",
       "consommation_level_1    0.08\n",
       "consommation_level_2    0.06\n",
       "year_created            0.06\n",
       "tarif_type              0.02\n",
       "invoice_weekday         0.02\n",
       "consommation_level_3    0.02\n",
       "interaction             0.02\n",
       "invoice_year            0.00\n",
       "invoice_month           0.00\n",
       "counter_number          0.00\n",
       "consommation_level_4    0.00\n",
       "new_index               0.00\n",
       "ratio                   0.00\n",
       "dtype: float64"
      ]
     },
     "execution_count": 133,
     "metadata": {},
     "output_type": "execute_result"
    }
   ],
   "source": [
    "md = AdaBoostClassifier()\n",
    "md.fit(X,y)\n",
    "\n",
    "sr_imp = pd.Series(md.feature_importances_, index=df.columns).sort_values(ascending=False)\n",
    "sr_imp"
   ]
  },
  {
   "cell_type": "code",
   "execution_count": 134,
   "id": "5684a17c",
   "metadata": {},
   "outputs": [
    {
     "name": "stdout",
     "output_type": "stream",
     "text": [
      "\n",
      "Test set:\n"
     ]
    },
    {
     "name": "stderr",
     "output_type": "stream",
     "text": [
      "/Users/user/neuefische/MLproject-FraudDetection/.venv/lib/python3.9/site-packages/sklearn/base.py:443: UserWarning: X has feature names, but AdaBoostClassifier was fitted without feature names\n",
      "  warnings.warn(\n"
     ]
    },
    {
     "name": "stdout",
     "output_type": "stream",
     "text": [
      "              precision    recall  f1-score   support\n",
      "\n",
      "         0.0       0.92      0.98      0.95    820306\n",
      "         1.0       0.21      0.05      0.08     70622\n",
      "\n",
      "    accuracy                           0.91    890928\n",
      "   macro avg       0.57      0.52      0.52    890928\n",
      "weighted avg       0.87      0.91      0.88    890928\n",
      "\n"
     ]
    },
    {
     "name": "stderr",
     "output_type": "stream",
     "text": [
      "/Users/user/neuefische/MLproject-FraudDetection/.venv/lib/python3.9/site-packages/sklearn/base.py:443: UserWarning: X has feature names, but AdaBoostClassifier was fitted without feature names\n",
      "  warnings.warn(\n"
     ]
    },
    {
     "name": "stdout",
     "output_type": "stream",
     "text": [
      "AUC = 0.61\n"
     ]
    }
   ],
   "source": [
    "report(md, X, y, df_test, y_test)"
   ]
  },
  {
   "cell_type": "markdown",
   "id": "5b6c2a84",
   "metadata": {},
   "source": [
    "## Gradient Boosting"
   ]
  },
  {
   "cell_type": "code",
   "execution_count": 122,
   "id": "ec60d28f",
   "metadata": {},
   "outputs": [
    {
     "data": {
      "text/plain": [
       "region                  0.559402\n",
       "counter_code            0.105649\n",
       "consommation_level_1    0.090039\n",
       "year_created            0.072453\n",
       "tarif_type              0.064410\n",
       "consommation_level_2    0.053056\n",
       "counter_number          0.017650\n",
       "invoice_year            0.012173\n",
       "consommation_level_3    0.011123\n",
       "interaction             0.007027\n",
       "invoice_weekday         0.002604\n",
       "new_index               0.001954\n",
       "consommation_level_4    0.001740\n",
       "invoice_month           0.000525\n",
       "ratio                   0.000197\n",
       "dtype: float64"
      ]
     },
     "execution_count": 122,
     "metadata": {},
     "output_type": "execute_result"
    }
   ],
   "source": [
    "md = GradientBoostingClassifier()\n",
    "md.fit(X,y)\n",
    "\n",
    "sr_imp = pd.Series(md.feature_importances_, index=df.columns).sort_values(ascending=False)\n",
    "sr_imp"
   ]
  },
  {
   "cell_type": "code",
   "execution_count": 126,
   "id": "2cf73528",
   "metadata": {},
   "outputs": [
    {
     "name": "stdout",
     "output_type": "stream",
     "text": [
      "------------------------------------------------------------\n",
      "\n",
      "Test set:\n"
     ]
    },
    {
     "name": "stderr",
     "output_type": "stream",
     "text": [
      "/Users/user/neuefische/MLproject-FraudDetection/.venv/lib/python3.9/site-packages/sklearn/base.py:443: UserWarning: X has feature names, but GradientBoostingClassifier was fitted without feature names\n",
      "  warnings.warn(\n"
     ]
    },
    {
     "name": "stdout",
     "output_type": "stream",
     "text": [
      "              precision    recall  f1-score   support\n",
      "\n",
      "         0.0       0.92      0.99      0.96    820306\n",
      "         1.0       0.28      0.05      0.08     70622\n",
      "\n",
      "    accuracy                           0.91    890928\n",
      "   macro avg       0.60      0.52      0.52    890928\n",
      "weighted avg       0.87      0.91      0.89    890928\n",
      "\n"
     ]
    },
    {
     "name": "stderr",
     "output_type": "stream",
     "text": [
      "/Users/user/neuefische/MLproject-FraudDetection/.venv/lib/python3.9/site-packages/sklearn/base.py:443: UserWarning: X has feature names, but GradientBoostingClassifier was fitted without feature names\n",
      "  warnings.warn(\n"
     ]
    },
    {
     "name": "stdout",
     "output_type": "stream",
     "text": [
      "AUC = 0.65\n"
     ]
    }
   ],
   "source": [
    "report(md, X, y, df_test, y_test)"
   ]
  },
  {
   "cell_type": "code",
   "execution_count": null,
   "id": "6ea7b61e",
   "metadata": {},
   "outputs": [],
   "source": []
  },
  {
   "cell_type": "markdown",
   "id": "af47fc99",
   "metadata": {},
   "source": [
    "## Decision Tree"
   ]
  },
  {
   "cell_type": "code",
   "execution_count": 127,
   "id": "10d228d3",
   "metadata": {},
   "outputs": [
    {
     "data": {
      "text/plain": [
       "region                  0.250786\n",
       "counter_number          0.193765\n",
       "consommation_level_1    0.094208\n",
       "year_created            0.078354\n",
       "interaction             0.065468\n",
       "counter_code            0.056551\n",
       "ratio                   0.055268\n",
       "new_index               0.053965\n",
       "invoice_year            0.041285\n",
       "invoice_month           0.030478\n",
       "tarif_type              0.028351\n",
       "consommation_level_2    0.023563\n",
       "invoice_weekday         0.020981\n",
       "consommation_level_3    0.004265\n",
       "consommation_level_4    0.002711\n",
       "dtype: float64"
      ]
     },
     "execution_count": 127,
     "metadata": {},
     "output_type": "execute_result"
    }
   ],
   "source": [
    "from sklearn.tree import DecisionTreeClassifier\n",
    "\n",
    "md = DecisionTreeClassifier(max_depth=40)\n",
    "md.fit(X,y)\n",
    "\n",
    "sr_imp = pd.Series(md.feature_importances_, index=df.columns).sort_values(ascending=False)\n",
    "sr_imp"
   ]
  },
  {
   "cell_type": "code",
   "execution_count": 128,
   "id": "4a42638c",
   "metadata": {},
   "outputs": [
    {
     "name": "stdout",
     "output_type": "stream",
     "text": [
      "------------------------------------------------------------\n",
      "\n",
      "Test set:\n"
     ]
    },
    {
     "name": "stderr",
     "output_type": "stream",
     "text": [
      "/Users/user/neuefische/MLproject-FraudDetection/.venv/lib/python3.9/site-packages/sklearn/base.py:443: UserWarning: X has feature names, but DecisionTreeClassifier was fitted without feature names\n",
      "  warnings.warn(\n"
     ]
    },
    {
     "name": "stdout",
     "output_type": "stream",
     "text": [
      "              precision    recall  f1-score   support\n",
      "\n",
      "         0.0       0.95      0.91      0.93    820306\n",
      "         1.0       0.30      0.44      0.35     70622\n",
      "\n",
      "    accuracy                           0.87    890928\n",
      "   macro avg       0.62      0.67      0.64    890928\n",
      "weighted avg       0.90      0.87      0.88    890928\n",
      "\n"
     ]
    },
    {
     "name": "stderr",
     "output_type": "stream",
     "text": [
      "/Users/user/neuefische/MLproject-FraudDetection/.venv/lib/python3.9/site-packages/sklearn/base.py:443: UserWarning: X has feature names, but DecisionTreeClassifier was fitted without feature names\n",
      "  warnings.warn(\n"
     ]
    },
    {
     "name": "stdout",
     "output_type": "stream",
     "text": [
      "AUC = 0.68\n"
     ]
    }
   ],
   "source": [
    "report(md, X, y, df_test, y_test)"
   ]
  },
  {
   "cell_type": "markdown",
   "id": "97d92b0c",
   "metadata": {},
   "source": [
    "## Random Forest"
   ]
  },
  {
   "cell_type": "code",
   "execution_count": 129,
   "id": "ddda5e9e",
   "metadata": {},
   "outputs": [
    {
     "data": {
      "text/plain": [
       "region                  0.187411\n",
       "counter_number          0.115868\n",
       "consommation_level_1    0.100112\n",
       "year_created            0.082788\n",
       "interaction             0.081581\n",
       "ratio                   0.079442\n",
       "new_index               0.078699\n",
       "counter_code            0.070905\n",
       "invoice_year            0.053993\n",
       "invoice_month           0.041858\n",
       "consommation_level_2    0.032000\n",
       "invoice_weekday         0.031809\n",
       "tarif_type              0.026031\n",
       "consommation_level_3    0.012160\n",
       "consommation_level_4    0.005346\n",
       "dtype: float64"
      ]
     },
     "execution_count": 129,
     "metadata": {},
     "output_type": "execute_result"
    }
   ],
   "source": [
    "md = RandomForestClassifier(n_estimators=100)\n",
    "md.fit(X, y)\n",
    "\n",
    "sr_imp = pd.Series(md.feature_importances_, index=df.columns).sort_values(ascending=False)\n",
    "sr_imp"
   ]
  },
  {
   "cell_type": "code",
   "execution_count": 130,
   "id": "afbb4d30",
   "metadata": {},
   "outputs": [
    {
     "name": "stdout",
     "output_type": "stream",
     "text": [
      "------------------------------------------------------------\n",
      "\n",
      "Test set:\n"
     ]
    },
    {
     "name": "stderr",
     "output_type": "stream",
     "text": [
      "/Users/user/neuefische/MLproject-FraudDetection/.venv/lib/python3.9/site-packages/sklearn/base.py:443: UserWarning: X has feature names, but RandomForestClassifier was fitted without feature names\n",
      "  warnings.warn(\n"
     ]
    },
    {
     "name": "stdout",
     "output_type": "stream",
     "text": [
      "              precision    recall  f1-score   support\n",
      "\n",
      "         0.0       0.93      0.98      0.96    820306\n",
      "         1.0       0.48      0.20      0.28     70622\n",
      "\n",
      "    accuracy                           0.92    890928\n",
      "   macro avg       0.71      0.59      0.62    890928\n",
      "weighted avg       0.90      0.92      0.90    890928\n",
      "\n"
     ]
    },
    {
     "name": "stderr",
     "output_type": "stream",
     "text": [
      "/Users/user/neuefische/MLproject-FraudDetection/.venv/lib/python3.9/site-packages/sklearn/base.py:443: UserWarning: X has feature names, but RandomForestClassifier was fitted without feature names\n",
      "  warnings.warn(\n"
     ]
    },
    {
     "name": "stdout",
     "output_type": "stream",
     "text": [
      "AUC = 0.77\n"
     ]
    }
   ],
   "source": [
    "report(md, X, y, df_test, y_test)"
   ]
  },
  {
   "cell_type": "code",
   "execution_count": null,
   "id": "b3818d22",
   "metadata": {},
   "outputs": [],
   "source": []
  },
  {
   "cell_type": "code",
   "execution_count": null,
   "id": "c6f11857",
   "metadata": {},
   "outputs": [],
   "source": []
  }
 ],
 "metadata": {
  "kernelspec": {
   "display_name": "Python 3 (ipykernel)",
   "language": "python",
   "name": "python3"
  },
  "language_info": {
   "codemirror_mode": {
    "name": "ipython",
    "version": 3
   },
   "file_extension": ".py",
   "mimetype": "text/x-python",
   "name": "python",
   "nbconvert_exporter": "python",
   "pygments_lexer": "ipython3",
   "version": "3.9.8"
  }
 },
 "nbformat": 4,
 "nbformat_minor": 5
}
